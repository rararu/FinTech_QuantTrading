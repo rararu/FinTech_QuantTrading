{
  "nbformat": 4,
  "nbformat_minor": 0,
  "metadata": {
    "colab": {
      "name": "Lab01_이재형.ipynb",
      "provenance": []
    },
    "kernelspec": {
      "name": "python3",
      "display_name": "Python 3"
    },
    "language_info": {
      "name": "python"
    }
  },
  "cells": [
    {
      "cell_type": "markdown",
      "metadata": {
        "id": "WF05KHkn5ghD"
      },
      "source": [
        "Lab 1: Tensor Manipulation\n"
      ]
    },
    {
      "cell_type": "code",
      "metadata": {
        "id": "jKbonH086R8V"
      },
      "source": [
        "import numpy as np\n",
        "import torch\n"
      ],
      "execution_count": 1,
      "outputs": []
    },
    {
      "cell_type": "code",
      "metadata": {
        "colab": {
          "base_uri": "https://localhost:8080/"
        },
        "id": "ilJKKyD_6cM-",
        "outputId": "73db29ba-0f95-4a4c-a329-05b547bf54a0"
      },
      "source": [
        "t= np.array([0.,1.,2.,3.,4.,5.,6.])\n",
        "print(t)\n"
      ],
      "execution_count": 2,
      "outputs": [
        {
          "output_type": "stream",
          "name": "stdout",
          "text": [
            "[0. 1. 2. 3. 4. 5. 6.]\n"
          ]
        }
      ]
    },
    {
      "cell_type": "code",
      "metadata": {
        "colab": {
          "base_uri": "https://localhost:8080/"
        },
        "id": "n2JTu51k6mrc",
        "outputId": "69550a86-6640-4ddd-992c-3dec5bd69533"
      },
      "source": [
        "print('Rank of t : ',t.ndim)#차원?\n",
        "print('shape of t : ',t.shape)"
      ],
      "execution_count": 3,
      "outputs": [
        {
          "output_type": "stream",
          "name": "stdout",
          "text": [
            "Rank of t :  1\n",
            "shape of t :  (7,)\n"
          ]
        }
      ]
    },
    {
      "cell_type": "code",
      "metadata": {
        "colab": {
          "base_uri": "https://localhost:8080/"
        },
        "id": "RMH6z29868hE",
        "outputId": "a0595459-11fb-4303-b987-7a7fc4928130"
      },
      "source": [
        "print('t[0] t[1] t[-1]=',t[0],t[1],t[-1])\n",
        "print('t[2:5 t[4:-1]',t[2:5],t[4:-1])"
      ],
      "execution_count": 4,
      "outputs": [
        {
          "output_type": "stream",
          "name": "stdout",
          "text": [
            "t[0] t[1] t[-1]= 0.0 1.0 6.0\n",
            "t[2:5 t[4:-1] [2. 3. 4.] [4. 5.]\n"
          ]
        }
      ]
    },
    {
      "cell_type": "markdown",
      "metadata": {
        "id": "Z1sBBhHi7VJU"
      },
      "source": [
        "2D Array np"
      ]
    },
    {
      "cell_type": "code",
      "metadata": {
        "colab": {
          "base_uri": "https://localhost:8080/"
        },
        "id": "R4p8ckBX7QxD",
        "outputId": "f26e56c4-a553-4f5f-f061-011586b3b38c"
      },
      "source": [
        "t=np.array([[1,2,3],[4,5,6],[7,8,9],[10,11,12]])\n",
        "print(t)"
      ],
      "execution_count": 5,
      "outputs": [
        {
          "output_type": "stream",
          "name": "stdout",
          "text": [
            "[[ 1  2  3]\n",
            " [ 4  5  6]\n",
            " [ 7  8  9]\n",
            " [10 11 12]]\n"
          ]
        }
      ]
    },
    {
      "cell_type": "code",
      "metadata": {
        "colab": {
          "base_uri": "https://localhost:8080/"
        },
        "id": "Hoh5MtIT7ibk",
        "outputId": "ce541897-1a01-41fe-addb-9b677e6edbc2"
      },
      "source": [
        "print('Rank of t ',t.ndim)\n",
        "print('Shape of t',t.shape)"
      ],
      "execution_count": 6,
      "outputs": [
        {
          "output_type": "stream",
          "name": "stdout",
          "text": [
            "Rank of t  2\n",
            "Shape of t (4, 3)\n"
          ]
        }
      ]
    },
    {
      "cell_type": "markdown",
      "metadata": {
        "id": "r4vO1oRi7q9R"
      },
      "source": [
        "2D array pytorch"
      ]
    },
    {
      "cell_type": "code",
      "metadata": {
        "colab": {
          "base_uri": "https://localhost:8080/"
        },
        "id": "PAEzy7Bc7okY",
        "outputId": "5d67cc8a-38ce-4b70-c91d-a893800c9aa6"
      },
      "source": [
        "t=torch.FloatTensor([[1.,2.,3.],[4.,5.,6.],[7.,8.,9.],[10.,11.,12.]])\n",
        "print(t)"
      ],
      "execution_count": 7,
      "outputs": [
        {
          "output_type": "stream",
          "name": "stdout",
          "text": [
            "tensor([[ 1.,  2.,  3.],\n",
            "        [ 4.,  5.,  6.],\n",
            "        [ 7.,  8.,  9.],\n",
            "        [10., 11., 12.]])\n"
          ]
        }
      ]
    },
    {
      "cell_type": "code",
      "metadata": {
        "colab": {
          "base_uri": "https://localhost:8080/"
        },
        "id": "SAAkCaCp78N0",
        "outputId": "35203718-b421-4e18-bd0f-fcfbc61520fd"
      },
      "source": [
        "print(t.dim()) # 차원\n",
        "print(t.size()) # 행렬 크기\n",
        "print(t.shape) #행렬크기\n",
        "print(t[:, 1]) #2번째 열\n",
        "print(t[:, 1].size())#2번째 열의 사이즈 shape\n",
        "print(t[:, :-1])# "
      ],
      "execution_count": 8,
      "outputs": [
        {
          "output_type": "stream",
          "name": "stdout",
          "text": [
            "2\n",
            "torch.Size([4, 3])\n",
            "torch.Size([4, 3])\n",
            "tensor([ 2.,  5.,  8., 11.])\n",
            "torch.Size([4])\n",
            "tensor([[ 1.,  2.],\n",
            "        [ 4.,  5.],\n",
            "        [ 7.,  8.],\n",
            "        [10., 11.]])\n"
          ]
        }
      ]
    },
    {
      "cell_type": "code",
      "metadata": {
        "colab": {
          "base_uri": "https://localhost:8080/"
        },
        "id": "Twi6fwEF9E0j",
        "outputId": "28f45a05-93ff-4a82-974f-d142d8f63c47"
      },
      "source": [
        "print(t[1,1])"
      ],
      "execution_count": 9,
      "outputs": [
        {
          "output_type": "stream",
          "name": "stdout",
          "text": [
            "tensor(5.)\n"
          ]
        }
      ]
    },
    {
      "cell_type": "code",
      "metadata": {
        "colab": {
          "base_uri": "https://localhost:8080/"
        },
        "id": "UnI7_PU39R2y",
        "outputId": "c2da4bef-84fb-440b-938b-319787b628b3"
      },
      "source": [
        "print(t[2,:1])"
      ],
      "execution_count": 10,
      "outputs": [
        {
          "output_type": "stream",
          "name": "stdout",
          "text": [
            "tensor([7.])\n"
          ]
        }
      ]
    },
    {
      "cell_type": "code",
      "metadata": {
        "colab": {
          "base_uri": "https://localhost:8080/"
        },
        "id": "HoivUJfD9fs8",
        "outputId": "0919d242-477f-40c1-ac66-6774442206b1"
      },
      "source": [
        "print(t[3])"
      ],
      "execution_count": 11,
      "outputs": [
        {
          "output_type": "stream",
          "name": "stdout",
          "text": [
            "tensor([10., 11., 12.])\n"
          ]
        }
      ]
    },
    {
      "cell_type": "code",
      "metadata": {
        "id": "hButn0zX9nxT",
        "colab": {
          "base_uri": "https://localhost:8080/"
        },
        "outputId": "a2e7d729-13fe-4937-b292-df61adaa0c12"
      },
      "source": [
        "print(t[:,1])"
      ],
      "execution_count": 12,
      "outputs": [
        {
          "output_type": "stream",
          "name": "stdout",
          "text": [
            "tensor([ 2.,  5.,  8., 11.])\n"
          ]
        }
      ]
    },
    {
      "cell_type": "markdown",
      "metadata": {
        "id": "IsP2tGk8dtbg"
      },
      "source": [
        "Shape, Rank, Axis\n"
      ]
    },
    {
      "cell_type": "code",
      "metadata": {
        "id": "_wlhiUm09sBS"
      },
      "source": [
        "t=torch.FloatTensor([[[[1,2,3,4],\n",
        "                       [5,6,7,8,],\n",
        "                       [9,10,11,12]],\n",
        "                      [[13,14,15,16],\n",
        "                      [17,18,19,20],\n",
        "                      [21,22,23,24]]\n",
        "                     ]])"
      ],
      "execution_count": 14,
      "outputs": []
    },
    {
      "cell_type": "code",
      "metadata": {
        "colab": {
          "base_uri": "https://localhost:8080/"
        },
        "id": "WmqKMrqHvYDe",
        "outputId": "14ac0b66-08b7-4c5f-a8f0-bc4c2daeeaf1"
      },
      "source": [
        "print(t.dim())"
      ],
      "execution_count": 15,
      "outputs": [
        {
          "output_type": "stream",
          "name": "stdout",
          "text": [
            "4\n"
          ]
        }
      ]
    },
    {
      "cell_type": "code",
      "metadata": {
        "colab": {
          "base_uri": "https://localhost:8080/"
        },
        "id": "Ihs8Hg6JvUME",
        "outputId": "f1c32049-5d4e-4faf-8286-2be95e1e7c16"
      },
      "source": [
        "print(t.size())"
      ],
      "execution_count": 37,
      "outputs": [
        {
          "output_type": "stream",
          "name": "stdout",
          "text": [
            "torch.Size([2, 2])\n"
          ]
        }
      ]
    },
    {
      "cell_type": "markdown",
      "metadata": {
        "id": "jC7mcQK4vjNS"
      },
      "source": [
        "Frequently Used Operations in Pytorch\n",
        "\n",
        "Mul , Matmul"
      ]
    },
    {
      "cell_type": "code",
      "metadata": {
        "colab": {
          "base_uri": "https://localhost:8080/"
        },
        "id": "fp2QFdSUvbss",
        "outputId": "f274dbb3-708a-4d34-fda8-e5daeb24430c"
      },
      "source": [
        "print('----------')\n",
        "print('Mul vs Matmul')\n",
        "print('----------')\n",
        "m1=torch.FloatTensor([[1,2],[3,4]])#2차원 형태의 텐서 \n",
        "m2=torch.FloatTensor([[1],[2]])\n",
        "\n",
        "print('shape of Matrix 1: ',m1.shape)\n",
        "print('shape of matrix 2',m2.shape)\n",
        "print(m1.matmul(m2))##행렬 곱셈\n",
        "\n",
        "m1=torch.FloatTensor([[1,2],[3,4]])\n",
        "m2=torch.FloatTensor([[1],[2]])\n",
        "\n",
        "print('shape of matrix 1',m1.shape)\n",
        "print('shape of matrix 2',m2.shape)\n",
        "print(m1*m2)\n",
        "print(m1.mul(m2))##원소별 곱셈 "
      ],
      "execution_count": 21,
      "outputs": [
        {
          "output_type": "stream",
          "name": "stdout",
          "text": [
            "----------\n",
            "Mul vs Matmul\n",
            "----------\n",
            "shape of Matrix 1:  torch.Size([2, 2])\n",
            "shape of matrix 2 torch.Size([2, 1])\n",
            "tensor([[ 5.],\n",
            "        [11.]])\n",
            "shape of matrix 1 torch.Size([2, 2])\n",
            "shape of matrix 2 torch.Size([2, 1])\n",
            "tensor([[1., 2.],\n",
            "        [6., 8.]])\n",
            "tensor([[1., 2.],\n",
            "        [6., 8.]])\n"
          ]
        }
      ]
    },
    {
      "cell_type": "markdown",
      "metadata": {
        "id": "nXM_FPUkxceG"
      },
      "source": [
        "Broadcastiog\n",
        "\n",
        "텐서 연산\n",
        "\n",
        "텐서는 Numpy의 ndarray와 같이 다양한 수학 연산이 가능하며 GPU를 사용할 시에는 더 빠른 연산이 가능합니다.*이탤릭체 텍스트*\n",
        "텐서에서의 사칙연산은 같은 타입의 텐서 간 또는 텐서와 파이썬의 스칼라 값 사이에서만 가능합니다.\n",
        "텐서간이라도 타입이 다르면 연산이 되지 않습니다. FloatTensor와 DoubleTensor간의 사칙연산은 오류가 발생합니다.\n",
        "스칼라 값을 연산할 때에는 기본적으로 broadcasting이 지원됩니다."
      ]
    },
    {
      "cell_type": "code",
      "metadata": {
        "colab": {
          "base_uri": "https://localhost:8080/"
        },
        "id": "BrcXdk1qwX2b",
        "outputId": "12f62cce-e5da-4d2a-d798-6c6e6500db87"
      },
      "source": [
        "m1=torch.FloatTensor([[3,3]])\n",
        "m2=torch.FloatTensor([[2,2]])\n",
        "print(m1+m2)"
      ],
      "execution_count": 22,
      "outputs": [
        {
          "output_type": "stream",
          "name": "stdout",
          "text": [
            "tensor([[5., 5.]])\n"
          ]
        }
      ]
    },
    {
      "cell_type": "code",
      "metadata": {
        "colab": {
          "base_uri": "https://localhost:8080/"
        },
        "id": "l_JXMGGRxyne",
        "outputId": "cb5a7b82-334b-490f-a08f-e845b0b1f760"
      },
      "source": [
        "m1=torch.FloatTensor([[1,2]])\n",
        "m2=torch.FloatTensor([3])\n",
        "print(m1+m2)#행렬과 벡터간의 덧셈 -> 브로드캐스팅 발생"
      ],
      "execution_count": 23,
      "outputs": [
        {
          "output_type": "stream",
          "name": "stdout",
          "text": [
            "tensor([[4., 5.]])\n"
          ]
        }
      ]
    },
    {
      "cell_type": "code",
      "metadata": {
        "colab": {
          "base_uri": "https://localhost:8080/"
        },
        "id": "7AdrbIgWx8Nn",
        "outputId": "e54979f6-5548-4c5f-bedc-8f3c10da9422"
      },
      "source": [
        "m1=torch.FloatTensor([[1,2]])\n",
        "m2=torch.FloatTensor([[3],[4]])\n",
        "print(m1+m2)"
      ],
      "execution_count": 24,
      "outputs": [
        {
          "output_type": "stream",
          "name": "stdout",
          "text": [
            "tensor([[4., 5.],\n",
            "        [5., 6.]])\n"
          ]
        }
      ]
    },
    {
      "cell_type": "markdown",
      "metadata": {
        "id": "dZfzvc6dzTVM"
      },
      "source": [
        "평균\n"
      ]
    },
    {
      "cell_type": "code",
      "metadata": {
        "colab": {
          "base_uri": "https://localhost:8080/"
        },
        "id": "yUGBurd6zUAj",
        "outputId": "760c9c71-d83c-4270-bb51-03d8614188c0"
      },
      "source": [
        "t=torch.FloatTensor([1,2])\n",
        "print(t.mean())"
      ],
      "execution_count": 26,
      "outputs": [
        {
          "output_type": "stream",
          "name": "stdout",
          "text": [
            "tensor(1.5000)\n"
          ]
        }
      ]
    },
    {
      "cell_type": "code",
      "metadata": {
        "colab": {
          "base_uri": "https://localhost:8080/"
        },
        "id": "uvP5y3Asy4tm",
        "outputId": "9eac8173-d2f5-40dd-b011-f3689d20fdf5"
      },
      "source": [
        "t=torch.LongTensor([1,2])\n",
        "try:\n",
        "  print(t.mean())\n",
        "except Exception as exc:\n",
        "  print(exc)\n",
        "  "
      ],
      "execution_count": 27,
      "outputs": [
        {
          "output_type": "stream",
          "name": "stdout",
          "text": [
            "Can only calculate the mean of floating types. Got Long instead.\n"
          ]
        }
      ]
    },
    {
      "cell_type": "code",
      "metadata": {
        "colab": {
          "base_uri": "https://localhost:8080/"
        },
        "id": "2VPPnkgozwiJ",
        "outputId": "6dfe8ea6-d82a-4c31-d182-2a97f0bab98d"
      },
      "source": [
        "t=torch.FloatTensor([[1,2],[3,4]])\n",
        "print(t)"
      ],
      "execution_count": 28,
      "outputs": [
        {
          "output_type": "stream",
          "name": "stdout",
          "text": [
            "tensor([[1., 2.],\n",
            "        [3., 4.]])\n"
          ]
        }
      ]
    },
    {
      "cell_type": "code",
      "metadata": {
        "colab": {
          "base_uri": "https://localhost:8080/"
        },
        "id": "o6QuY-j80GyG",
        "outputId": "b0d29fd8-5209-49b2-b0b2-eea1f514107b"
      },
      "source": [
        "print(t.mean())\n",
        "print(t.mean(dim=0))# dim=0 첫번째 차원 제거 -> 행렬의 행을 제거 \n",
        "print(t.mean(dim=1))\n",
        "print(t.mean(dim=-1))# -> 마지막 차원 제거 "
      ],
      "execution_count": 29,
      "outputs": [
        {
          "output_type": "stream",
          "name": "stdout",
          "text": [
            "tensor(2.5000)\n",
            "tensor([2., 3.])\n",
            "tensor([1.5000, 3.5000])\n",
            "tensor([1.5000, 3.5000])\n"
          ]
        }
      ]
    },
    {
      "cell_type": "code",
      "metadata": {
        "colab": {
          "base_uri": "https://localhost:8080/"
        },
        "id": "RiN63KoU0NrA",
        "outputId": "4643c337-ddf5-4d43-e68c-699a5b506d08"
      },
      "source": [
        "t=torch.FloatTensor([[1,2],[3,4]])\n",
        "print(t)"
      ],
      "execution_count": 30,
      "outputs": [
        {
          "output_type": "stream",
          "name": "stdout",
          "text": [
            "tensor([[1., 2.],\n",
            "        [3., 4.]])\n"
          ]
        }
      ]
    },
    {
      "cell_type": "code",
      "metadata": {
        "colab": {
          "base_uri": "https://localhost:8080/"
        },
        "id": "XFefUwfdEgwi",
        "outputId": "06345014-87b8-455c-f354-946dd74e636e"
      },
      "source": [
        "print(t.sum())\n",
        "print(t.sum(dim=0))\n",
        "print(t.sum(dim=1))\n",
        "print(t.sum(dim=-1))"
      ],
      "execution_count": 31,
      "outputs": [
        {
          "output_type": "stream",
          "name": "stdout",
          "text": [
            "tensor(10.)\n",
            "tensor([4., 6.])\n",
            "tensor([3., 7.])\n",
            "tensor([3., 7.])\n"
          ]
        }
      ]
    },
    {
      "cell_type": "code",
      "metadata": {
        "colab": {
          "base_uri": "https://localhost:8080/"
        },
        "id": "Sggdaz0CEks7",
        "outputId": "794ca39d-efed-4aaf-b74d-4e4e0ac0657b"
      },
      "source": [
        "t=torch.FloatTensor([[1,2],[3,4]])\n",
        "print(t)"
      ],
      "execution_count": 32,
      "outputs": [
        {
          "output_type": "stream",
          "name": "stdout",
          "text": [
            "tensor([[1., 2.],\n",
            "        [3., 4.]])\n"
          ]
        }
      ]
    },
    {
      "cell_type": "code",
      "metadata": {
        "colab": {
          "base_uri": "https://localhost:8080/"
        },
        "id": "U4Pb2CJ7Ep8b",
        "outputId": "c07a9f4b-14d1-42c9-e403-f86b90aa0c2d"
      },
      "source": [
        "print(t.max())##원소 중 최댓값 리턴 "
      ],
      "execution_count": 33,
      "outputs": [
        {
          "output_type": "stream",
          "name": "stdout",
          "text": [
            "tensor(4.)\n"
          ]
        }
      ]
    },
    {
      "cell_type": "code",
      "metadata": {
        "colab": {
          "base_uri": "https://localhost:8080/"
        },
        "id": "FOXeANxQErMT",
        "outputId": "5a1a60a8-c8e4-4745-b8f7-a457fb7ef7da"
      },
      "source": [
        "print(t.max(dim=0))##max에 dim인자를 주면 argmax도 함께 리턴된다\n",
        "print('Max: ', t.max(dim=0)[0])\n",
        "print('Argmax: ', t.max(dim=0)[1])"
      ],
      "execution_count": 34,
      "outputs": [
        {
          "output_type": "stream",
          "name": "stdout",
          "text": [
            "torch.return_types.max(\n",
            "values=tensor([3., 4.]),\n",
            "indices=tensor([1, 1]))\n",
            "Max:  tensor([3., 4.])\n",
            "Argmax:  tensor([1, 1])\n"
          ]
        }
      ]
    },
    {
      "cell_type": "markdown",
      "metadata": {
        "id": "IkBCdIs8FXES"
      },
      "source": [
        "첫 번째 열에서 3의 인덱스는 1 두 번째 열에서 4의 인덱스는 1이기 때문에 [1,1]이 리턴된다 "
      ]
    },
    {
      "cell_type": "code",
      "metadata": {
        "colab": {
          "base_uri": "https://localhost:8080/"
        },
        "id": "4twXzh2CFIkt",
        "outputId": "f240d66a-e764-4d10-c72c-cec8f6b743ee"
      },
      "source": [
        "print(t.max(dim=1))\n",
        "print(t.max(dim=-1))"
      ],
      "execution_count": 35,
      "outputs": [
        {
          "output_type": "stream",
          "name": "stdout",
          "text": [
            "torch.return_types.max(\n",
            "values=tensor([2., 4.]),\n",
            "indices=tensor([1, 1]))\n",
            "torch.return_types.max(\n",
            "values=tensor([2., 4.]),\n",
            "indices=tensor([1, 1]))\n"
          ]
        }
      ]
    },
    {
      "cell_type": "markdown",
      "metadata": {
        "id": "AGTfv7LpFqYI"
      },
      "source": [
        "max 또는 argmax만 리턴받고 싶다면 다음과 같이 리턴 값에 인덱스를 부여하면 된다.\n"
      ]
    },
    {
      "cell_type": "code",
      "metadata": {
        "colab": {
          "base_uri": "https://localhost:8080/"
        },
        "id": "i3a2sK5VFiDa",
        "outputId": "70a3b67a-169c-4644-db7b-d6c3c19a7340"
      },
      "source": [
        "print('Max: ', t.max(dim=0)[0])\n",
        "print('Argmax: ', t.max(dim=0)[1])"
      ],
      "execution_count": 36,
      "outputs": [
        {
          "output_type": "stream",
          "name": "stdout",
          "text": [
            "Max:  tensor([3., 4.])\n",
            "Argmax:  tensor([1, 1])\n"
          ]
        }
      ]
    },
    {
      "cell_type": "markdown",
      "metadata": {
        "id": "JQLnjWdkF_-A"
      },
      "source": [
        "원소의 수를 유지하면서 텐서의 크기 변경 ★★★\n",
        "\n",
        "파이토치 텐서에서 뷰는 넘파이의 리쉐이프와 같은 역할\n"
      ]
    },
    {
      "cell_type": "code",
      "metadata": {
        "colab": {
          "base_uri": "https://localhost:8080/"
        },
        "id": "fx71rHHcFo2G",
        "outputId": "ff345721-c3e3-4907-8b07-63c4a1e9bce0"
      },
      "source": [
        "t = np.array([[[0, 1, 2],\n",
        "               [3, 4, 5]],\n",
        "\n",
        "              [[6, 7, 8],\n",
        "               [9, 10, 11]]\n",
        "              ])\n",
        "ft = torch.FloatTensor(t)\n",
        "print(ft.shape)"
      ],
      "execution_count": 38,
      "outputs": [
        {
          "output_type": "stream",
          "name": "stdout",
          "text": [
            "torch.Size([2, 2, 3])\n"
          ]
        }
      ]
    },
    {
      "cell_type": "code",
      "metadata": {
        "colab": {
          "base_uri": "https://localhost:8080/"
        },
        "id": "wllj4VxfGZMw",
        "outputId": "00d03437-6b7a-4394-a4d4-ed388d0d21b5"
      },
      "source": [
        "print(ft.view([-1, 3]))# -1은 첫번째 차원은 사용자가 모르니 파이토치에게 맡기겠다 \n",
        "print(ft.view([-1, 3]).shape)"
      ],
      "execution_count": 39,
      "outputs": [
        {
          "output_type": "stream",
          "name": "stdout",
          "text": [
            "tensor([[ 0.,  1.,  2.],\n",
            "        [ 3.,  4.,  5.],\n",
            "        [ 6.,  7.,  8.],\n",
            "        [ 9., 10., 11.]])\n",
            "torch.Size([4, 3])\n"
          ]
        }
      ]
    },
    {
      "cell_type": "markdown",
      "metadata": {
        "id": "5-gLxFZwGueg"
      },
      "source": [
        "view는 기본적으로 변경 전과 변경 후의 텐서 안의 원소 개수가 유지되어야 한다. \n",
        "size가 -1로 설정되면 다른 차원으로부터 해당 값을 유추"
      ]
    },
    {
      "cell_type": "code",
      "metadata": {
        "colab": {
          "base_uri": "https://localhost:8080/"
        },
        "id": "BKKArVZKGnpq",
        "outputId": "746d227a-f936-4d08-a4cd-17700ccead3f"
      },
      "source": [
        "print(ft.view([-1, 1, 3]))\n",
        "print(ft.view([-1, 1, 3]).shape)"
      ],
      "execution_count": 40,
      "outputs": [
        {
          "output_type": "stream",
          "name": "stdout",
          "text": [
            "tensor([[[ 0.,  1.,  2.]],\n",
            "\n",
            "        [[ 3.,  4.,  5.]],\n",
            "\n",
            "        [[ 6.,  7.,  8.]],\n",
            "\n",
            "        [[ 9., 10., 11.]]])\n",
            "torch.Size([4, 1, 3])\n"
          ]
        }
      ]
    },
    {
      "cell_type": "markdown",
      "metadata": {
        "id": "DIaU4pGEHa_i"
      },
      "source": [
        "3*1 차원의 텐서를 (3,)의 크기를 가지는 텐서로 변경"
      ]
    },
    {
      "cell_type": "code",
      "metadata": {
        "colab": {
          "base_uri": "https://localhost:8080/"
        },
        "id": "eKCXa4AUG8Vp",
        "outputId": "636d7f32-9ce1-4b85-ec24-d1cca6c170e7"
      },
      "source": [
        "ft = torch.FloatTensor([[0], [1], [2]])\n",
        "print(ft)\n",
        "print(ft.shape)"
      ],
      "execution_count": 41,
      "outputs": [
        {
          "output_type": "stream",
          "name": "stdout",
          "text": [
            "tensor([[0.],\n",
            "        [1.],\n",
            "        [2.]])\n",
            "torch.Size([3, 1])\n"
          ]
        }
      ]
    },
    {
      "cell_type": "code",
      "metadata": {
        "colab": {
          "base_uri": "https://localhost:8080/"
        },
        "id": "tuXEP_m5HRsh",
        "outputId": "9062d423-4862-4db0-bf82-0094967a7f75"
      },
      "source": [
        "print(ft.squeeze())\n",
        "print(ft.squeeze().shape)"
      ],
      "execution_count": 42,
      "outputs": [
        {
          "output_type": "stream",
          "name": "stdout",
          "text": [
            "tensor([0., 1., 2.])\n",
            "torch.Size([3])\n"
          ]
        }
      ]
    },
    {
      "cell_type": "markdown",
      "metadata": {
        "id": "nGO2G82aHmqm"
      },
      "source": [
        "언스퀴즈"
      ]
    },
    {
      "cell_type": "code",
      "metadata": {
        "colab": {
          "base_uri": "https://localhost:8080/"
        },
        "id": "EkhV4oVfHaYt",
        "outputId": "fc1086a6-6152-47ad-c2eb-6b1a4fa2c8bd"
      },
      "source": [
        "ft = torch.Tensor([0, 1, 2])\n",
        "print(ft.shape)"
      ],
      "execution_count": 43,
      "outputs": [
        {
          "output_type": "stream",
          "name": "stdout",
          "text": [
            "torch.Size([3])\n"
          ]
        }
      ]
    },
    {
      "cell_type": "code",
      "metadata": {
        "colab": {
          "base_uri": "https://localhost:8080/"
        },
        "id": "BREYSFVkHomH",
        "outputId": "24e6425d-5383-48c5-dd72-b1cee10c2793"
      },
      "source": [
        "print(ft.unsqueeze(0)) # 인덱스가 0부터 시작하므로 0은 첫번째 차원을 의미한다.\n",
        "print(ft.unsqueeze(0).shape)"
      ],
      "execution_count": 45,
      "outputs": [
        {
          "output_type": "stream",
          "name": "stdout",
          "text": [
            "tensor([[0., 1., 2.]])\n",
            "torch.Size([1, 3])\n"
          ]
        }
      ]
    },
    {
      "cell_type": "code",
      "metadata": {
        "colab": {
          "base_uri": "https://localhost:8080/"
        },
        "id": "uJpYW1DhHL6f",
        "outputId": "e4f0c962-61bf-4d63-b0fb-0472ff1012c2"
      },
      "source": [
        "print(ft.view(1, -1))\n",
        "print(ft.view(1, -1).shape)"
      ],
      "execution_count": 46,
      "outputs": [
        {
          "output_type": "stream",
          "name": "stdout",
          "text": [
            "tensor([[0., 1., 2.]])\n",
            "torch.Size([1, 3])\n"
          ]
        }
      ]
    },
    {
      "cell_type": "code",
      "metadata": {
        "colab": {
          "base_uri": "https://localhost:8080/"
        },
        "id": "jUeo-ynSID6W",
        "outputId": "148bd008-80a0-4e6e-fa1b-fc9a32789e6e"
      },
      "source": [
        "print(ft.unsqueeze(1))\n",
        "print(ft.unsqueeze(1).shape)"
      ],
      "execution_count": 47,
      "outputs": [
        {
          "output_type": "stream",
          "name": "stdout",
          "text": [
            "tensor([[0.],\n",
            "        [1.],\n",
            "        [2.]])\n",
            "torch.Size([3, 1])\n"
          ]
        }
      ]
    },
    {
      "cell_type": "code",
      "metadata": {
        "colab": {
          "base_uri": "https://localhost:8080/"
        },
        "id": "LlCrj3ZYIMmG",
        "outputId": "672d929e-97e2-49c5-906e-d2f44a704860"
      },
      "source": [
        "print(ft.unsqueeze(-1))\n",
        "print(ft.unsqueeze(-1).shape)"
      ],
      "execution_count": 48,
      "outputs": [
        {
          "output_type": "stream",
          "name": "stdout",
          "text": [
            "tensor([[0.],\n",
            "        [1.],\n",
            "        [2.]])\n",
            "torch.Size([3, 1])\n"
          ]
        }
      ]
    },
    {
      "cell_type": "markdown",
      "metadata": {
        "id": "RdjUNLAyIUL0"
      },
      "source": [
        "view(), squeeze(), unsqueeze()는 텐서의 원소 수를 그대로 유지하면서 모양과 차원을 조절한다."
      ]
    },
    {
      "cell_type": "code",
      "metadata": {
        "colab": {
          "base_uri": "https://localhost:8080/"
        },
        "id": "01JnvFbeIPyV",
        "outputId": "5f26a76a-f62d-416d-be89-0ccdab372236"
      },
      "source": [
        "lt = torch.LongTensor([1, 2, 3, 4])\n",
        "print(lt)"
      ],
      "execution_count": 49,
      "outputs": [
        {
          "output_type": "stream",
          "name": "stdout",
          "text": [
            "tensor([1, 2, 3, 4])\n"
          ]
        }
      ]
    },
    {
      "cell_type": "code",
      "metadata": {
        "colab": {
          "base_uri": "https://localhost:8080/"
        },
        "id": "mts3EunsIZz2",
        "outputId": "ec1fa903-d6c6-462c-9450-784e8e98d8bd"
      },
      "source": [
        "print(lt.float())"
      ],
      "execution_count": 50,
      "outputs": [
        {
          "output_type": "stream",
          "name": "stdout",
          "text": [
            "tensor([1., 2., 3., 4.])\n"
          ]
        }
      ]
    },
    {
      "cell_type": "code",
      "metadata": {
        "colab": {
          "base_uri": "https://localhost:8080/"
        },
        "id": "xYTMi4YhIb3v",
        "outputId": "72465f86-e6f3-4096-94d3-be8bea6ce3ca"
      },
      "source": [
        "bt = torch.ByteTensor([True, False, False, True])\n",
        "print(bt)"
      ],
      "execution_count": 51,
      "outputs": [
        {
          "output_type": "stream",
          "name": "stdout",
          "text": [
            "tensor([1, 0, 0, 1], dtype=torch.uint8)\n"
          ]
        }
      ]
    },
    {
      "cell_type": "code",
      "metadata": {
        "colab": {
          "base_uri": "https://localhost:8080/"
        },
        "id": "-NEWbQ9GJDWE",
        "outputId": "8145320a-2df6-4dc2-971a-7434154673b2"
      },
      "source": [
        "print(bt.long())\n",
        "print(bt.float())"
      ],
      "execution_count": 53,
      "outputs": [
        {
          "output_type": "stream",
          "name": "stdout",
          "text": [
            "tensor([1, 0, 0, 1])\n",
            "tensor([1., 0., 0., 1.])\n"
          ]
        }
      ]
    },
    {
      "cell_type": "code",
      "metadata": {
        "id": "w8hsj3s0JItW"
      },
      "source": [
        "x = torch.FloatTensor([[1, 2], [3, 4]])\n",
        "y = torch.FloatTensor([[5, 6], [7, 8]])"
      ],
      "execution_count": 54,
      "outputs": []
    },
    {
      "cell_type": "code",
      "metadata": {
        "colab": {
          "base_uri": "https://localhost:8080/"
        },
        "id": "sjMBdyMvJOWm",
        "outputId": "a0f7554f-cb4f-4bb9-ac8a-f1bbf9881de4"
      },
      "source": [
        "print(torch.cat([x,y],dim=0))"
      ],
      "execution_count": 55,
      "outputs": [
        {
          "output_type": "stream",
          "name": "stdout",
          "text": [
            "tensor([[1., 2.],\n",
            "        [3., 4.],\n",
            "        [5., 6.],\n",
            "        [7., 8.]])\n"
          ]
        }
      ]
    },
    {
      "cell_type": "code",
      "metadata": {
        "colab": {
          "base_uri": "https://localhost:8080/"
        },
        "id": "MLcdzvWdJWWd",
        "outputId": "adb04f33-2320-41aa-bf3a-f47b46761806"
      },
      "source": [
        "print(torch.cat([x,y],dim=1))#두 가지 정보를 모두 사용할 때 텐서를 연결한다 "
      ],
      "execution_count": 56,
      "outputs": [
        {
          "output_type": "stream",
          "name": "stdout",
          "text": [
            "tensor([[1., 2., 5., 6.],\n",
            "        [3., 4., 7., 8.]])\n"
          ]
        }
      ]
    },
    {
      "cell_type": "code",
      "metadata": {
        "id": "BmFvzROPJbDP"
      },
      "source": [
        "x=torch.FloatTensor([1,4])\n",
        "y=torch.FloatTensor([2,5])\n",
        "z=torch.FloatTensor([3,6])"
      ],
      "execution_count": 57,
      "outputs": []
    },
    {
      "cell_type": "code",
      "metadata": {
        "colab": {
          "base_uri": "https://localhost:8080/"
        },
        "id": "hatWe9ixJ4MW",
        "outputId": "5b0b8cb3-1ac5-4f3f-bc01-62ab585afc61"
      },
      "source": [
        "print(torch.stack([x,y,z]))"
      ],
      "execution_count": 58,
      "outputs": [
        {
          "output_type": "stream",
          "name": "stdout",
          "text": [
            "tensor([[1., 4.],\n",
            "        [2., 5.],\n",
            "        [3., 6.]])\n"
          ]
        }
      ]
    },
    {
      "cell_type": "markdown",
      "metadata": {
        "id": "mWYodQ-0J_a6"
      },
      "source": [
        "세 개의 벡터가 순차적으로 쌓여 3x2 텐서가 되었음 "
      ]
    },
    {
      "cell_type": "code",
      "metadata": {
        "colab": {
          "base_uri": "https://localhost:8080/"
        },
        "id": "Z1DaMhQoJ6jn",
        "outputId": "f38ba398-263e-4344-eeed-708efd469aa2"
      },
      "source": [
        "print(torch.cat([x.unsqueeze(0), y.unsqueeze(0), z.unsqueeze(0)], dim=0))\n"
      ],
      "execution_count": 59,
      "outputs": [
        {
          "output_type": "stream",
          "name": "stdout",
          "text": [
            "tensor([[1., 4.],\n",
            "        [2., 5.],\n",
            "        [3., 6.]])\n"
          ]
        }
      ]
    },
    {
      "cell_type": "markdown",
      "metadata": {
        "id": "0sBrLRkIKbpu"
      },
      "source": [
        "(2,)의 크기에서 unsqueeze(0) -> (1,2)크기의 2차원 텐서로 변경 그리고 cat(concatenate) "
      ]
    },
    {
      "cell_type": "code",
      "metadata": {
        "colab": {
          "base_uri": "https://localhost:8080/"
        },
        "id": "pZgDwDI5KZw9",
        "outputId": "0c2f7d57-3eed-4940-a774-c424272e8e0b"
      },
      "source": [
        "print(torch.stack([x, y, z], dim=1))"
      ],
      "execution_count": 60,
      "outputs": [
        {
          "output_type": "stream",
          "name": "stdout",
          "text": [
            "tensor([[1., 2., 3.],\n",
            "        [4., 5., 6.]])\n"
          ]
        }
      ]
    },
    {
      "cell_type": "markdown",
      "metadata": {
        "id": "u_7A1zthNMEW"
      },
      "source": [
        "dim=1 2번째 차원이 증가하도록 쌓도록 하는 의미 "
      ]
    },
    {
      "cell_type": "code",
      "metadata": {
        "colab": {
          "base_uri": "https://localhost:8080/"
        },
        "id": "W3NpAfzcKuTL",
        "outputId": "36cd17cf-c70b-4037-b8c1-faab039c747b"
      },
      "source": [
        "x = torch.FloatTensor([[0, 1, 2], [2, 1, 0]])\n",
        "print(x)\n"
      ],
      "execution_count": 61,
      "outputs": [
        {
          "output_type": "stream",
          "name": "stdout",
          "text": [
            "tensor([[0., 1., 2.],\n",
            "        [2., 1., 0.]])\n"
          ]
        }
      ]
    },
    {
      "cell_type": "code",
      "metadata": {
        "colab": {
          "base_uri": "https://localhost:8080/"
        },
        "id": "dC-jtC-RNSnv",
        "outputId": "af085e31-3750-41ad-efd0-f749a7cbca2a"
      },
      "source": [
        "print(torch.ones_like(x)) # 입력 텐서와 크기를 동일하게 하면서 값을 1로 채우기"
      ],
      "execution_count": 62,
      "outputs": [
        {
          "output_type": "stream",
          "name": "stdout",
          "text": [
            "tensor([[1., 1., 1.],\n",
            "        [1., 1., 1.]])\n"
          ]
        }
      ]
    },
    {
      "cell_type": "code",
      "metadata": {
        "colab": {
          "base_uri": "https://localhost:8080/"
        },
        "id": "5qbCFuqXNWZ0",
        "outputId": "10f4e6b7-5eaf-405a-8d45-4051ac1b73c6"
      },
      "source": [
        "print(torch.zeros_like(x)) # 입력 텐서와 크기를 동일하게 하면서 값을 0으로 채우기"
      ],
      "execution_count": 63,
      "outputs": [
        {
          "output_type": "stream",
          "name": "stdout",
          "text": [
            "tensor([[0., 0., 0.],\n",
            "        [0., 0., 0.]])\n"
          ]
        }
      ]
    },
    {
      "cell_type": "code",
      "metadata": {
        "id": "5nhfCV3ANZdG"
      },
      "source": [
        "x = torch.FloatTensor([[1, 2], [3, 4]])"
      ],
      "execution_count": 64,
      "outputs": []
    },
    {
      "cell_type": "code",
      "metadata": {
        "colab": {
          "base_uri": "https://localhost:8080/"
        },
        "id": "pNeDohIuNdJb",
        "outputId": "13df0bfe-a17b-4c90-e3c7-aed3895ec6af"
      },
      "source": [
        "print(x.mul(2.)) # 곱하기 2를 수행한 결과를 출력\n",
        "print(x) # 기존의 값 출력"
      ],
      "execution_count": 65,
      "outputs": [
        {
          "output_type": "stream",
          "name": "stdout",
          "text": [
            "tensor([[2., 4.],\n",
            "        [6., 8.]])\n",
            "tensor([[1., 2.],\n",
            "        [3., 4.]])\n"
          ]
        }
      ]
    },
    {
      "cell_type": "code",
      "metadata": {
        "colab": {
          "base_uri": "https://localhost:8080/"
        },
        "id": "8PnnnUMENerI",
        "outputId": "756e07e9-5da3-481b-b1fb-2a85abfe0010"
      },
      "source": [
        "print(x.mul_(2.))  # 곱하기 2를 수행한 결과를 변수 x에 값을 저장하면서 결과를 출력\n",
        "print(x) # 기존의 값 출력"
      ],
      "execution_count": 66,
      "outputs": [
        {
          "output_type": "stream",
          "name": "stdout",
          "text": [
            "tensor([[2., 4.],\n",
            "        [6., 8.]])\n",
            "tensor([[2., 4.],\n",
            "        [6., 8.]])\n"
          ]
        }
      ]
    },
    {
      "cell_type": "code",
      "metadata": {
        "colab": {
          "base_uri": "https://localhost:8080/"
        },
        "id": "xk5YbCZPNi1t",
        "outputId": "9fd7dc64-eac6-4557-9996-41bf7a8f008a"
      },
      "source": [
        "for x, y in zip([1, 2, 3], [4, 5, 6]):\n",
        "    print(x, y)"
      ],
      "execution_count": 67,
      "outputs": [
        {
          "output_type": "stream",
          "name": "stdout",
          "text": [
            "1 4\n",
            "2 5\n",
            "3 6\n"
          ]
        }
      ]
    },
    {
      "cell_type": "code",
      "metadata": {
        "colab": {
          "base_uri": "https://localhost:8080/"
        },
        "id": "-s99m7wPNoSY",
        "outputId": "524930b9-c7e4-432f-d449-a011f5e18e70"
      },
      "source": [
        "for x, y, z in zip([1, 2, 3], [4, 5, 6], [7, 8, 9]):\n",
        "    print(x, y, z)"
      ],
      "execution_count": 68,
      "outputs": [
        {
          "output_type": "stream",
          "name": "stdout",
          "text": [
            "1 4 7\n",
            "2 5 8\n",
            "3 6 9\n"
          ]
        }
      ]
    },
    {
      "cell_type": "code",
      "metadata": {
        "id": "7vEL_CIJNpiM"
      },
      "source": [
        ""
      ],
      "execution_count": null,
      "outputs": []
    }
  ]
}