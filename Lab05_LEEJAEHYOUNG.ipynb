{
  "nbformat": 4,
  "nbformat_minor": 0,
  "metadata": {
    "colab": {
      "name": "Lab05_이재형.ipynb",
      "provenance": []
    },
    "kernelspec": {
      "name": "python3",
      "display_name": "Python 3"
    },
    "language_info": {
      "name": "python"
    }
  },
  "cells": [
    {
      "cell_type": "code",
      "metadata": {
        "colab": {
          "base_uri": "https://localhost:8080/"
        },
        "id": "SRf0nrCZSaQB",
        "outputId": "f541301e-2b2f-4bb2-aaad-21b4a511750d"
      },
      "source": [
        "import torch\n",
        "import torch.nn as nn\n",
        "import torch.nn.functional as F\n",
        "import torch.optim as optim\n",
        "torch.manual_seed(1)"
      ],
      "execution_count": 1,
      "outputs": [
        {
          "output_type": "execute_result",
          "data": {
            "text/plain": [
              "<torch._C.Generator at 0x7f7375ddbb90>"
            ]
          },
          "metadata": {},
          "execution_count": 1
        }
      ]
    },
    {
      "cell_type": "code",
      "metadata": {
        "id": "3hkuwm58Sl-6"
      },
      "source": [
        "x_data = [[1, 2], [2, 3], [3, 1], [4, 3], [5, 3], [6, 2]]\n",
        "y_data = [[0], [0], [0], [1], [1], [1]]\n",
        "x_train = torch.FloatTensor(x_data)\n",
        "y_train = torch.FloatTensor(y_data)"
      ],
      "execution_count": 2,
      "outputs": []
    },
    {
      "cell_type": "code",
      "metadata": {
        "colab": {
          "base_uri": "https://localhost:8080/"
        },
        "id": "Z-7l6ZdKXEgB",
        "outputId": "403ce116-8a7c-457d-b739-41002e4364b7"
      },
      "source": [
        "print(x_train.shape)\n",
        "print(y_train.shape)"
      ],
      "execution_count": 3,
      "outputs": [
        {
          "output_type": "stream",
          "name": "stdout",
          "text": [
            "torch.Size([6, 2])\n",
            "torch.Size([6, 1])\n"
          ]
        }
      ]
    },
    {
      "cell_type": "code",
      "metadata": {
        "id": "vin2HkntXHaP"
      },
      "source": [
        "W = torch.zeros((2, 1), requires_grad=True) # 크기는 2 x 1\n",
        "b = torch.zeros(1, requires_grad=True)"
      ],
      "execution_count": 4,
      "outputs": []
    },
    {
      "cell_type": "code",
      "metadata": {
        "id": "hgkCqCdaXSrE"
      },
      "source": [
        "hypothesis = 1 / (1 + torch.exp(-(x_train.matmul(W) + b)))\n"
      ],
      "execution_count": 5,
      "outputs": []
    },
    {
      "cell_type": "code",
      "metadata": {
        "colab": {
          "base_uri": "https://localhost:8080/"
        },
        "id": "M-sq9xJaXaGn",
        "outputId": "9abae4d6-2a7f-445b-8786-f58af2cdb89f"
      },
      "source": [
        "print(hypothesis) "
      ],
      "execution_count": 6,
      "outputs": [
        {
          "output_type": "stream",
          "name": "stdout",
          "text": [
            "tensor([[0.5000],\n",
            "        [0.5000],\n",
            "        [0.5000],\n",
            "        [0.5000],\n",
            "        [0.5000],\n",
            "        [0.5000]], grad_fn=<MulBackward0>)\n"
          ]
        }
      ]
    },
    {
      "cell_type": "code",
      "metadata": {
        "id": "ai5ZXEplXezn"
      },
      "source": [
        "hypothesis = torch.sigmoid(x_train.matmul(W) + b)"
      ],
      "execution_count": 7,
      "outputs": []
    },
    {
      "cell_type": "code",
      "metadata": {
        "colab": {
          "base_uri": "https://localhost:8080/"
        },
        "id": "tSdGNMBVXih9",
        "outputId": "d4b20eda-f743-4ce3-9c03-bc495b49ffa3"
      },
      "source": [
        "print(hypothesis)"
      ],
      "execution_count": 8,
      "outputs": [
        {
          "output_type": "stream",
          "name": "stdout",
          "text": [
            "tensor([[0.5000],\n",
            "        [0.5000],\n",
            "        [0.5000],\n",
            "        [0.5000],\n",
            "        [0.5000],\n",
            "        [0.5000]], grad_fn=<SigmoidBackward>)\n"
          ]
        }
      ]
    },
    {
      "cell_type": "code",
      "metadata": {
        "colab": {
          "base_uri": "https://localhost:8080/"
        },
        "id": "wanqTl9xXkqo",
        "outputId": "4eb97a51-ec8c-4367-e435-f5f2e2d94238"
      },
      "source": [
        "print(hypothesis)\n",
        "print(y_train)"
      ],
      "execution_count": 9,
      "outputs": [
        {
          "output_type": "stream",
          "name": "stdout",
          "text": [
            "tensor([[0.5000],\n",
            "        [0.5000],\n",
            "        [0.5000],\n",
            "        [0.5000],\n",
            "        [0.5000],\n",
            "        [0.5000]], grad_fn=<SigmoidBackward>)\n",
            "tensor([[0.],\n",
            "        [0.],\n",
            "        [0.],\n",
            "        [1.],\n",
            "        [1.],\n",
            "        [1.]])\n"
          ]
        }
      ]
    },
    {
      "cell_type": "code",
      "metadata": {
        "colab": {
          "base_uri": "https://localhost:8080/"
        },
        "id": "PbtQkNt3XndF",
        "outputId": "b255b2a5-c522-4603-a1f5-4cb0e681edf8"
      },
      "source": [
        "-(y_train[0] * torch.log(hypothesis[0]) + \n",
        "  (1 - y_train[0]) * torch.log(1 - hypothesis[0]))"
      ],
      "execution_count": 10,
      "outputs": [
        {
          "output_type": "execute_result",
          "data": {
            "text/plain": [
              "tensor([0.6931], grad_fn=<NegBackward>)"
            ]
          },
          "metadata": {},
          "execution_count": 10
        }
      ]
    },
    {
      "cell_type": "code",
      "metadata": {
        "colab": {
          "base_uri": "https://localhost:8080/"
        },
        "id": "y3tEJ3pYX8or",
        "outputId": "d624195e-d97d-40af-f44d-1365cf42290e"
      },
      "source": [
        "losses = -(y_train * torch.log(hypothesis) + \n",
        "           (1 - y_train) * torch.log(1 - hypothesis))\n",
        "print(losses)"
      ],
      "execution_count": 11,
      "outputs": [
        {
          "output_type": "stream",
          "name": "stdout",
          "text": [
            "tensor([[0.6931],\n",
            "        [0.6931],\n",
            "        [0.6931],\n",
            "        [0.6931],\n",
            "        [0.6931],\n",
            "        [0.6931]], grad_fn=<NegBackward>)\n"
          ]
        }
      ]
    },
    {
      "cell_type": "code",
      "metadata": {
        "colab": {
          "base_uri": "https://localhost:8080/"
        },
        "id": "eUGk2AMkYBPR",
        "outputId": "c4c63e3a-cc38-43db-d20f-3855a47a5ca1"
      },
      "source": [
        "cost = losses.mean()\n",
        "print(cost)"
      ],
      "execution_count": 12,
      "outputs": [
        {
          "output_type": "stream",
          "name": "stdout",
          "text": [
            "tensor(0.6931, grad_fn=<MeanBackward0>)\n"
          ]
        }
      ]
    },
    {
      "cell_type": "code",
      "metadata": {
        "colab": {
          "base_uri": "https://localhost:8080/"
        },
        "id": "P8brffCUYDbJ",
        "outputId": "21386ba1-8731-4ea2-bf25-9cda4e638210"
      },
      "source": [
        "F.binary_cross_entropy(hypothesis, y_train)"
      ],
      "execution_count": 13,
      "outputs": [
        {
          "output_type": "execute_result",
          "data": {
            "text/plain": [
              "tensor(0.6931, grad_fn=<BinaryCrossEntropyBackward>)"
            ]
          },
          "metadata": {},
          "execution_count": 13
        }
      ]
    },
    {
      "cell_type": "code",
      "metadata": {
        "id": "Nz6FaICBXj0d"
      },
      "source": [
        "x_data = [[1, 2], [2, 3], [3, 1], [4, 3], [5, 3], [6, 2]]\n",
        "y_data = [[0], [0], [0], [1], [1], [1]]\n",
        "x_train = torch.FloatTensor(x_data)\n",
        "y_train = torch.FloatTensor(y_data)"
      ],
      "execution_count": 14,
      "outputs": []
    },
    {
      "cell_type": "code",
      "metadata": {
        "colab": {
          "base_uri": "https://localhost:8080/"
        },
        "id": "cHMQT8CIYJJl",
        "outputId": "c147dd8f-08ea-40e0-a0ba-60482511b847"
      },
      "source": [
        "W = torch.zeros((2, 1), requires_grad=True)\n",
        "b = torch.zeros(1, requires_grad=True)\n",
        "\n",
        "optimizer = optim.SGD([W, b], lr=1)\n",
        "\n",
        "nb_epochs = 1000\n",
        "for epoch in range(nb_epochs + 1):\n",
        "\n",
        "\n",
        "    hypothesis = torch.sigmoid(x_train.matmul(W) + b)\n",
        "    cost = -(y_train * torch.log(hypothesis) + \n",
        "             (1 - y_train) * torch.log(1 - hypothesis)).mean()\n",
        "\n",
        "\n",
        "    optimizer.zero_grad()\n",
        "    cost.backward()\n",
        "    optimizer.step()\n",
        "\n",
        "\n",
        "    if epoch % 100 == 0:\n",
        "        print('Epoch {:4d}/{} Cost: {:.6f}'.format(\n",
        "            epoch, nb_epochs, cost.item()\n",
        "        ))"
      ],
      "execution_count": 15,
      "outputs": [
        {
          "output_type": "stream",
          "name": "stdout",
          "text": [
            "Epoch    0/1000 Cost: 0.693147\n",
            "Epoch  100/1000 Cost: 0.134722\n",
            "Epoch  200/1000 Cost: 0.080643\n",
            "Epoch  300/1000 Cost: 0.057900\n",
            "Epoch  400/1000 Cost: 0.045300\n",
            "Epoch  500/1000 Cost: 0.037261\n",
            "Epoch  600/1000 Cost: 0.031673\n",
            "Epoch  700/1000 Cost: 0.027556\n",
            "Epoch  800/1000 Cost: 0.024394\n",
            "Epoch  900/1000 Cost: 0.021888\n",
            "Epoch 1000/1000 Cost: 0.019852\n"
          ]
        }
      ]
    },
    {
      "cell_type": "code",
      "metadata": {
        "colab": {
          "base_uri": "https://localhost:8080/"
        },
        "id": "cJQ5Uyt4YNsb",
        "outputId": "97b7d70d-1fd1-4f32-d980-a116358460c3"
      },
      "source": [
        "hypothesis = torch.sigmoid(x_train.matmul(W) + b)\n",
        "print(hypothesis)"
      ],
      "execution_count": 16,
      "outputs": [
        {
          "output_type": "stream",
          "name": "stdout",
          "text": [
            "tensor([[2.7648e-04],\n",
            "        [3.1608e-02],\n",
            "        [3.8977e-02],\n",
            "        [9.5622e-01],\n",
            "        [9.9823e-01],\n",
            "        [9.9969e-01]], grad_fn=<SigmoidBackward>)\n"
          ]
        }
      ]
    },
    {
      "cell_type": "code",
      "metadata": {
        "colab": {
          "base_uri": "https://localhost:8080/"
        },
        "id": "CUGhwFbaYPzP",
        "outputId": "f7fbe1af-b39a-4ea3-ce82-7f8714ef4ce3"
      },
      "source": [
        "prediction = hypothesis >= torch.FloatTensor([0.5])\n",
        "print(prediction)"
      ],
      "execution_count": 17,
      "outputs": [
        {
          "output_type": "stream",
          "name": "stdout",
          "text": [
            "tensor([[False],\n",
            "        [False],\n",
            "        [False],\n",
            "        [ True],\n",
            "        [ True],\n",
            "        [ True]])\n"
          ]
        }
      ]
    },
    {
      "cell_type": "code",
      "metadata": {
        "colab": {
          "base_uri": "https://localhost:8080/"
        },
        "id": "X3kYHuOTYRZ9",
        "outputId": "9ca2f92b-b46a-4adc-e083-d5efe28ce765"
      },
      "source": [
        "print(W)\n",
        "print(b)"
      ],
      "execution_count": 18,
      "outputs": [
        {
          "output_type": "stream",
          "name": "stdout",
          "text": [
            "tensor([[3.2530],\n",
            "        [1.5179]], requires_grad=True)\n",
            "tensor([-14.4819], requires_grad=True)\n"
          ]
        }
      ]
    },
    {
      "cell_type": "code",
      "metadata": {
        "id": "L6Aq_mNJYS5V"
      },
      "source": [
        "x_data = [[1, 2], [2, 3], [3, 1], [4, 3], [5, 3], [6, 2]]\n",
        "y_data = [[0], [0], [0], [1], [1], [1]]\n",
        "x_train = torch.FloatTensor(x_data)\n",
        "y_train = torch.FloatTensor(y_data)"
      ],
      "execution_count": 19,
      "outputs": []
    },
    {
      "cell_type": "code",
      "metadata": {
        "id": "f6DcMXqbYU03"
      },
      "source": [
        "model = nn.Sequential(#여러 함수들 연결 \n",
        "   nn.Linear(2, 1), # \n",
        "   nn.Sigmoid() # \n",
        ")"
      ],
      "execution_count": 20,
      "outputs": []
    },
    {
      "cell_type": "code",
      "metadata": {
        "colab": {
          "base_uri": "https://localhost:8080/"
        },
        "id": "IbqgSaIQYeBW",
        "outputId": "d41d298d-b483-46d9-e578-f0f05b741a6a"
      },
      "source": [
        "model(x_train)"
      ],
      "execution_count": 21,
      "outputs": [
        {
          "output_type": "execute_result",
          "data": {
            "text/plain": [
              "tensor([[0.4020],\n",
              "        [0.4147],\n",
              "        [0.6556],\n",
              "        [0.5948],\n",
              "        [0.6788],\n",
              "        [0.8061]], grad_fn=<SigmoidBackward>)"
            ]
          },
          "metadata": {},
          "execution_count": 21
        }
      ]
    },
    {
      "cell_type": "code",
      "metadata": {
        "colab": {
          "base_uri": "https://localhost:8080/"
        },
        "id": "ZOuCUfKQYe7J",
        "outputId": "56643bef-8e1e-46e0-f97e-86ec08874d83"
      },
      "source": [
        "optimizer = optim.SGD(model.parameters(), lr=1)\n",
        "\n",
        "nb_epochs = 1000\n",
        "for epoch in range(nb_epochs + 1):\n",
        "\n",
        "    hypothesis = model(x_train)\n",
        "\n",
        "    cost = F.binary_cross_entropy(hypothesis, y_train)\n",
        "\n",
        "    optimizer.zero_grad()\n",
        "    cost.backward()\n",
        "    optimizer.step()\n",
        "\n",
        "    if epoch % 10 == 0:\n",
        "        prediction = hypothesis >= torch.FloatTensor([0.5]) # 예측값이 0.5를 넘으면 True\n",
        "        correct_prediction = prediction.float() == y_train \n",
        "        accuracy = correct_prediction.sum().item() / len(correct_prediction) \n",
        "        print('Epoch {:4d}/{} Cost: {:.6f} Accuracy {:2.2f}%'.format( \n",
        "            epoch, nb_epochs, cost.item(), accuracy * 100,\n",
        "        ))"
      ],
      "execution_count": 22,
      "outputs": [
        {
          "output_type": "stream",
          "name": "stdout",
          "text": [
            "Epoch    0/1000 Cost: 0.539713 Accuracy 83.33%\n",
            "Epoch   10/1000 Cost: 0.614853 Accuracy 66.67%\n",
            "Epoch   20/1000 Cost: 0.441875 Accuracy 66.67%\n",
            "Epoch   30/1000 Cost: 0.373145 Accuracy 83.33%\n",
            "Epoch   40/1000 Cost: 0.316358 Accuracy 83.33%\n",
            "Epoch   50/1000 Cost: 0.266094 Accuracy 83.33%\n",
            "Epoch   60/1000 Cost: 0.220498 Accuracy 100.00%\n",
            "Epoch   70/1000 Cost: 0.182095 Accuracy 100.00%\n",
            "Epoch   80/1000 Cost: 0.157299 Accuracy 100.00%\n",
            "Epoch   90/1000 Cost: 0.144091 Accuracy 100.00%\n",
            "Epoch  100/1000 Cost: 0.134272 Accuracy 100.00%\n",
            "Epoch  110/1000 Cost: 0.125769 Accuracy 100.00%\n",
            "Epoch  120/1000 Cost: 0.118297 Accuracy 100.00%\n",
            "Epoch  130/1000 Cost: 0.111680 Accuracy 100.00%\n",
            "Epoch  140/1000 Cost: 0.105779 Accuracy 100.00%\n",
            "Epoch  150/1000 Cost: 0.100483 Accuracy 100.00%\n",
            "Epoch  160/1000 Cost: 0.095704 Accuracy 100.00%\n",
            "Epoch  170/1000 Cost: 0.091369 Accuracy 100.00%\n",
            "Epoch  180/1000 Cost: 0.087420 Accuracy 100.00%\n",
            "Epoch  190/1000 Cost: 0.083806 Accuracy 100.00%\n",
            "Epoch  200/1000 Cost: 0.080486 Accuracy 100.00%\n",
            "Epoch  210/1000 Cost: 0.077425 Accuracy 100.00%\n",
            "Epoch  220/1000 Cost: 0.074595 Accuracy 100.00%\n",
            "Epoch  230/1000 Cost: 0.071969 Accuracy 100.00%\n",
            "Epoch  240/1000 Cost: 0.069526 Accuracy 100.00%\n",
            "Epoch  250/1000 Cost: 0.067248 Accuracy 100.00%\n",
            "Epoch  260/1000 Cost: 0.065118 Accuracy 100.00%\n",
            "Epoch  270/1000 Cost: 0.063122 Accuracy 100.00%\n",
            "Epoch  280/1000 Cost: 0.061247 Accuracy 100.00%\n",
            "Epoch  290/1000 Cost: 0.059483 Accuracy 100.00%\n",
            "Epoch  300/1000 Cost: 0.057820 Accuracy 100.00%\n",
            "Epoch  310/1000 Cost: 0.056250 Accuracy 100.00%\n",
            "Epoch  320/1000 Cost: 0.054764 Accuracy 100.00%\n",
            "Epoch  330/1000 Cost: 0.053357 Accuracy 100.00%\n",
            "Epoch  340/1000 Cost: 0.052022 Accuracy 100.00%\n",
            "Epoch  350/1000 Cost: 0.050753 Accuracy 100.00%\n",
            "Epoch  360/1000 Cost: 0.049546 Accuracy 100.00%\n",
            "Epoch  370/1000 Cost: 0.048396 Accuracy 100.00%\n",
            "Epoch  380/1000 Cost: 0.047299 Accuracy 100.00%\n",
            "Epoch  390/1000 Cost: 0.046252 Accuracy 100.00%\n",
            "Epoch  400/1000 Cost: 0.045251 Accuracy 100.00%\n",
            "Epoch  410/1000 Cost: 0.044294 Accuracy 100.00%\n",
            "Epoch  420/1000 Cost: 0.043376 Accuracy 100.00%\n",
            "Epoch  430/1000 Cost: 0.042497 Accuracy 100.00%\n",
            "Epoch  440/1000 Cost: 0.041653 Accuracy 100.00%\n",
            "Epoch  450/1000 Cost: 0.040843 Accuracy 100.00%\n",
            "Epoch  460/1000 Cost: 0.040064 Accuracy 100.00%\n",
            "Epoch  470/1000 Cost: 0.039315 Accuracy 100.00%\n",
            "Epoch  480/1000 Cost: 0.038593 Accuracy 100.00%\n",
            "Epoch  490/1000 Cost: 0.037898 Accuracy 100.00%\n",
            "Epoch  500/1000 Cost: 0.037228 Accuracy 100.00%\n",
            "Epoch  510/1000 Cost: 0.036582 Accuracy 100.00%\n",
            "Epoch  520/1000 Cost: 0.035958 Accuracy 100.00%\n",
            "Epoch  530/1000 Cost: 0.035356 Accuracy 100.00%\n",
            "Epoch  540/1000 Cost: 0.034773 Accuracy 100.00%\n",
            "Epoch  550/1000 Cost: 0.034210 Accuracy 100.00%\n",
            "Epoch  560/1000 Cost: 0.033664 Accuracy 100.00%\n",
            "Epoch  570/1000 Cost: 0.033137 Accuracy 100.00%\n",
            "Epoch  580/1000 Cost: 0.032625 Accuracy 100.00%\n",
            "Epoch  590/1000 Cost: 0.032130 Accuracy 100.00%\n",
            "Epoch  600/1000 Cost: 0.031649 Accuracy 100.00%\n",
            "Epoch  610/1000 Cost: 0.031183 Accuracy 100.00%\n",
            "Epoch  620/1000 Cost: 0.030730 Accuracy 100.00%\n",
            "Epoch  630/1000 Cost: 0.030291 Accuracy 100.00%\n",
            "Epoch  640/1000 Cost: 0.029864 Accuracy 100.00%\n",
            "Epoch  650/1000 Cost: 0.029449 Accuracy 100.00%\n",
            "Epoch  660/1000 Cost: 0.029046 Accuracy 100.00%\n",
            "Epoch  670/1000 Cost: 0.028654 Accuracy 100.00%\n",
            "Epoch  680/1000 Cost: 0.028272 Accuracy 100.00%\n",
            "Epoch  690/1000 Cost: 0.027900 Accuracy 100.00%\n",
            "Epoch  700/1000 Cost: 0.027538 Accuracy 100.00%\n",
            "Epoch  710/1000 Cost: 0.027186 Accuracy 100.00%\n",
            "Epoch  720/1000 Cost: 0.026842 Accuracy 100.00%\n",
            "Epoch  730/1000 Cost: 0.026507 Accuracy 100.00%\n",
            "Epoch  740/1000 Cost: 0.026181 Accuracy 100.00%\n",
            "Epoch  750/1000 Cost: 0.025862 Accuracy 100.00%\n",
            "Epoch  760/1000 Cost: 0.025552 Accuracy 100.00%\n",
            "Epoch  770/1000 Cost: 0.025248 Accuracy 100.00%\n",
            "Epoch  780/1000 Cost: 0.024952 Accuracy 100.00%\n",
            "Epoch  790/1000 Cost: 0.024663 Accuracy 100.00%\n",
            "Epoch  800/1000 Cost: 0.024381 Accuracy 100.00%\n",
            "Epoch  810/1000 Cost: 0.024104 Accuracy 100.00%\n",
            "Epoch  820/1000 Cost: 0.023835 Accuracy 100.00%\n",
            "Epoch  830/1000 Cost: 0.023571 Accuracy 100.00%\n",
            "Epoch  840/1000 Cost: 0.023313 Accuracy 100.00%\n",
            "Epoch  850/1000 Cost: 0.023061 Accuracy 100.00%\n",
            "Epoch  860/1000 Cost: 0.022814 Accuracy 100.00%\n",
            "Epoch  870/1000 Cost: 0.022572 Accuracy 100.00%\n",
            "Epoch  880/1000 Cost: 0.022336 Accuracy 100.00%\n",
            "Epoch  890/1000 Cost: 0.022104 Accuracy 100.00%\n",
            "Epoch  900/1000 Cost: 0.021877 Accuracy 100.00%\n",
            "Epoch  910/1000 Cost: 0.021655 Accuracy 100.00%\n",
            "Epoch  920/1000 Cost: 0.021437 Accuracy 100.00%\n",
            "Epoch  930/1000 Cost: 0.021224 Accuracy 100.00%\n",
            "Epoch  940/1000 Cost: 0.021015 Accuracy 100.00%\n",
            "Epoch  950/1000 Cost: 0.020810 Accuracy 100.00%\n",
            "Epoch  960/1000 Cost: 0.020609 Accuracy 100.00%\n",
            "Epoch  970/1000 Cost: 0.020412 Accuracy 100.00%\n",
            "Epoch  980/1000 Cost: 0.020219 Accuracy 100.00%\n",
            "Epoch  990/1000 Cost: 0.020029 Accuracy 100.00%\n",
            "Epoch 1000/1000 Cost: 0.019843 Accuracy 100.00%\n"
          ]
        }
      ]
    },
    {
      "cell_type": "code",
      "metadata": {
        "colab": {
          "base_uri": "https://localhost:8080/"
        },
        "id": "Il4rDKcgYyq3",
        "outputId": "162b8c6c-fd67-4b95-d81e-f9e3851ebc18"
      },
      "source": [
        "model(x_train)"
      ],
      "execution_count": 23,
      "outputs": [
        {
          "output_type": "execute_result",
          "data": {
            "text/plain": [
              "tensor([[2.7616e-04],\n",
              "        [3.1595e-02],\n",
              "        [3.8959e-02],\n",
              "        [9.5624e-01],\n",
              "        [9.9823e-01],\n",
              "        [9.9969e-01]], grad_fn=<SigmoidBackward>)"
            ]
          },
          "metadata": {},
          "execution_count": 23
        }
      ]
    },
    {
      "cell_type": "code",
      "metadata": {
        "colab": {
          "base_uri": "https://localhost:8080/"
        },
        "id": "jrx1Z1U9Y58p",
        "outputId": "5200f17b-4f1b-49bc-9b07-2e751df4a1bf"
      },
      "source": [
        "print(list(model.parameters()))\n"
      ],
      "execution_count": 24,
      "outputs": [
        {
          "output_type": "stream",
          "name": "stdout",
          "text": [
            "[Parameter containing:\n",
            "tensor([[3.2534, 1.5181]], requires_grad=True), Parameter containing:\n",
            "tensor([-14.4839], requires_grad=True)]\n"
          ]
        }
      ]
    },
    {
      "cell_type": "markdown",
      "metadata": {
        "id": "cQAZ0MLJZGQu"
      },
      "source": [
        "클래스로 모델 구현\n"
      ]
    },
    {
      "cell_type": "code",
      "metadata": {
        "id": "MZoUmW5HZPG5"
      },
      "source": [
        "x_data = [[1, 2], [2, 3], [3, 1], [4, 3], [5, 3], [6, 2]]\n",
        "y_data = [[0], [0], [0], [1], [1], [1]]\n",
        "x_train = torch.FloatTensor(x_data)\n",
        "y_train = torch.FloatTensor(y_data)"
      ],
      "execution_count": 25,
      "outputs": []
    },
    {
      "cell_type": "code",
      "metadata": {
        "id": "vHEu_MHsZAed"
      },
      "source": [
        "class BinaryClassifier(nn.Module):# nn.Module 상속 받음\n",
        "    def __init__(self):\n",
        "        super().__init__()\n",
        "        self.linear = nn.Linear(2, 1)\n",
        "        self.sigmoid = nn.Sigmoid()\n",
        "\n",
        "    def forward(self, x):\n",
        "        return self.sigmoid(self.linear(x))"
      ],
      "execution_count": 26,
      "outputs": []
    },
    {
      "cell_type": "code",
      "metadata": {
        "id": "y82gMws9ZTgC"
      },
      "source": [
        "model = BinaryClassifier()\n"
      ],
      "execution_count": 27,
      "outputs": []
    },
    {
      "cell_type": "code",
      "metadata": {
        "colab": {
          "base_uri": "https://localhost:8080/"
        },
        "id": "wN1YoZ5DZVDs",
        "outputId": "f4f6809e-cccf-4b60-869a-8d514cd4ca77"
      },
      "source": [
        "optimizer = optim.SGD(model.parameters(), lr=1)\n",
        "\n",
        "nb_epochs = 1000\n",
        "for epoch in range(nb_epochs + 1):\n",
        "\n",
        "    hypothesis = model(x_train)\n",
        "\n",
        "    cost = F.binary_cross_entropy(hypothesis, y_train)\n",
        "\n",
        "    optimizer.zero_grad()\n",
        "    cost.backward()\n",
        "    optimizer.step()\n",
        "\n",
        "    if epoch % 10 == 0:\n",
        "        prediction = hypothesis >= torch.FloatTensor([0.5]) # 예측값이 0.5를 넘으면 True\n",
        "        correct_prediction = prediction.float() == y_train \n",
        "        accuracy = correct_prediction.sum().item() / len(correct_prediction) \n",
        "        print('Epoch {:4d}/{} Cost: {:.6f} Accuracy {:2.2f}%'.format( \n",
        "            epoch, nb_epochs, cost.item(), accuracy * 100,\n",
        "        ))"
      ],
      "execution_count": 28,
      "outputs": [
        {
          "output_type": "stream",
          "name": "stdout",
          "text": [
            "Epoch    0/1000 Cost: 0.614994 Accuracy 66.67%\n",
            "Epoch   10/1000 Cost: 0.747550 Accuracy 83.33%\n",
            "Epoch   20/1000 Cost: 0.633216 Accuracy 83.33%\n",
            "Epoch   30/1000 Cost: 0.538123 Accuracy 83.33%\n",
            "Epoch   40/1000 Cost: 0.450406 Accuracy 83.33%\n",
            "Epoch   50/1000 Cost: 0.366382 Accuracy 83.33%\n",
            "Epoch   60/1000 Cost: 0.287368 Accuracy 83.33%\n",
            "Epoch   70/1000 Cost: 0.219289 Accuracy 83.33%\n",
            "Epoch   80/1000 Cost: 0.173225 Accuracy 100.00%\n",
            "Epoch   90/1000 Cost: 0.151674 Accuracy 100.00%\n",
            "Epoch  100/1000 Cost: 0.140280 Accuracy 100.00%\n",
            "Epoch  110/1000 Cost: 0.131002 Accuracy 100.00%\n",
            "Epoch  120/1000 Cost: 0.122903 Accuracy 100.00%\n",
            "Epoch  130/1000 Cost: 0.115765 Accuracy 100.00%\n",
            "Epoch  140/1000 Cost: 0.109426 Accuracy 100.00%\n",
            "Epoch  150/1000 Cost: 0.103760 Accuracy 100.00%\n",
            "Epoch  160/1000 Cost: 0.098664 Accuracy 100.00%\n",
            "Epoch  170/1000 Cost: 0.094056 Accuracy 100.00%\n",
            "Epoch  180/1000 Cost: 0.089870 Accuracy 100.00%\n",
            "Epoch  190/1000 Cost: 0.086050 Accuracy 100.00%\n",
            "Epoch  200/1000 Cost: 0.082549 Accuracy 100.00%\n",
            "Epoch  210/1000 Cost: 0.079328 Accuracy 100.00%\n",
            "Epoch  220/1000 Cost: 0.076356 Accuracy 100.00%\n",
            "Epoch  230/1000 Cost: 0.073604 Accuracy 100.00%\n",
            "Epoch  240/1000 Cost: 0.071048 Accuracy 100.00%\n",
            "Epoch  250/1000 Cost: 0.068668 Accuracy 100.00%\n",
            "Epoch  260/1000 Cost: 0.066446 Accuracy 100.00%\n",
            "Epoch  270/1000 Cost: 0.064367 Accuracy 100.00%\n",
            "Epoch  280/1000 Cost: 0.062417 Accuracy 100.00%\n",
            "Epoch  290/1000 Cost: 0.060584 Accuracy 100.00%\n",
            "Epoch  300/1000 Cost: 0.058858 Accuracy 100.00%\n",
            "Epoch  310/1000 Cost: 0.057231 Accuracy 100.00%\n",
            "Epoch  320/1000 Cost: 0.055692 Accuracy 100.00%\n",
            "Epoch  330/1000 Cost: 0.054236 Accuracy 100.00%\n",
            "Epoch  340/1000 Cost: 0.052856 Accuracy 100.00%\n",
            "Epoch  350/1000 Cost: 0.051546 Accuracy 100.00%\n",
            "Epoch  360/1000 Cost: 0.050301 Accuracy 100.00%\n",
            "Epoch  370/1000 Cost: 0.049115 Accuracy 100.00%\n",
            "Epoch  380/1000 Cost: 0.047986 Accuracy 100.00%\n",
            "Epoch  390/1000 Cost: 0.046908 Accuracy 100.00%\n",
            "Epoch  400/1000 Cost: 0.045878 Accuracy 100.00%\n",
            "Epoch  410/1000 Cost: 0.044893 Accuracy 100.00%\n",
            "Epoch  420/1000 Cost: 0.043951 Accuracy 100.00%\n",
            "Epoch  430/1000 Cost: 0.043048 Accuracy 100.00%\n",
            "Epoch  440/1000 Cost: 0.042182 Accuracy 100.00%\n",
            "Epoch  450/1000 Cost: 0.041351 Accuracy 100.00%\n",
            "Epoch  460/1000 Cost: 0.040552 Accuracy 100.00%\n",
            "Epoch  470/1000 Cost: 0.039784 Accuracy 100.00%\n",
            "Epoch  480/1000 Cost: 0.039045 Accuracy 100.00%\n",
            "Epoch  490/1000 Cost: 0.038334 Accuracy 100.00%\n",
            "Epoch  500/1000 Cost: 0.037649 Accuracy 100.00%\n",
            "Epoch  510/1000 Cost: 0.036987 Accuracy 100.00%\n",
            "Epoch  520/1000 Cost: 0.036349 Accuracy 100.00%\n",
            "Epoch  530/1000 Cost: 0.035734 Accuracy 100.00%\n",
            "Epoch  540/1000 Cost: 0.035138 Accuracy 100.00%\n",
            "Epoch  550/1000 Cost: 0.034563 Accuracy 100.00%\n",
            "Epoch  560/1000 Cost: 0.034006 Accuracy 100.00%\n",
            "Epoch  570/1000 Cost: 0.033468 Accuracy 100.00%\n",
            "Epoch  580/1000 Cost: 0.032946 Accuracy 100.00%\n",
            "Epoch  590/1000 Cost: 0.032441 Accuracy 100.00%\n",
            "Epoch  600/1000 Cost: 0.031951 Accuracy 100.00%\n",
            "Epoch  610/1000 Cost: 0.031476 Accuracy 100.00%\n",
            "Epoch  620/1000 Cost: 0.031014 Accuracy 100.00%\n",
            "Epoch  630/1000 Cost: 0.030567 Accuracy 100.00%\n",
            "Epoch  640/1000 Cost: 0.030132 Accuracy 100.00%\n",
            "Epoch  650/1000 Cost: 0.029710 Accuracy 100.00%\n",
            "Epoch  660/1000 Cost: 0.029299 Accuracy 100.00%\n",
            "Epoch  670/1000 Cost: 0.028900 Accuracy 100.00%\n",
            "Epoch  680/1000 Cost: 0.028512 Accuracy 100.00%\n",
            "Epoch  690/1000 Cost: 0.028134 Accuracy 100.00%\n",
            "Epoch  700/1000 Cost: 0.027766 Accuracy 100.00%\n",
            "Epoch  710/1000 Cost: 0.027407 Accuracy 100.00%\n",
            "Epoch  720/1000 Cost: 0.027058 Accuracy 100.00%\n",
            "Epoch  730/1000 Cost: 0.026718 Accuracy 100.00%\n",
            "Epoch  740/1000 Cost: 0.026386 Accuracy 100.00%\n",
            "Epoch  750/1000 Cost: 0.026063 Accuracy 100.00%\n",
            "Epoch  760/1000 Cost: 0.025747 Accuracy 100.00%\n",
            "Epoch  770/1000 Cost: 0.025439 Accuracy 100.00%\n",
            "Epoch  780/1000 Cost: 0.025138 Accuracy 100.00%\n",
            "Epoch  790/1000 Cost: 0.024845 Accuracy 100.00%\n",
            "Epoch  800/1000 Cost: 0.024558 Accuracy 100.00%\n",
            "Epoch  810/1000 Cost: 0.024278 Accuracy 100.00%\n",
            "Epoch  820/1000 Cost: 0.024004 Accuracy 100.00%\n",
            "Epoch  830/1000 Cost: 0.023737 Accuracy 100.00%\n",
            "Epoch  840/1000 Cost: 0.023475 Accuracy 100.00%\n",
            "Epoch  850/1000 Cost: 0.023219 Accuracy 100.00%\n",
            "Epoch  860/1000 Cost: 0.022969 Accuracy 100.00%\n",
            "Epoch  870/1000 Cost: 0.022724 Accuracy 100.00%\n",
            "Epoch  880/1000 Cost: 0.022484 Accuracy 100.00%\n",
            "Epoch  890/1000 Cost: 0.022250 Accuracy 100.00%\n",
            "Epoch  900/1000 Cost: 0.022020 Accuracy 100.00%\n",
            "Epoch  910/1000 Cost: 0.021795 Accuracy 100.00%\n",
            "Epoch  920/1000 Cost: 0.021574 Accuracy 100.00%\n",
            "Epoch  930/1000 Cost: 0.021358 Accuracy 100.00%\n",
            "Epoch  940/1000 Cost: 0.021147 Accuracy 100.00%\n",
            "Epoch  950/1000 Cost: 0.020939 Accuracy 100.00%\n",
            "Epoch  960/1000 Cost: 0.020736 Accuracy 100.00%\n",
            "Epoch  970/1000 Cost: 0.020536 Accuracy 100.00%\n",
            "Epoch  980/1000 Cost: 0.020340 Accuracy 100.00%\n",
            "Epoch  990/1000 Cost: 0.020148 Accuracy 100.00%\n",
            "Epoch 1000/1000 Cost: 0.019960 Accuracy 100.00%\n"
          ]
        }
      ]
    },
    {
      "cell_type": "code",
      "metadata": {
        "id": "BBJGQOkaZXuE"
      },
      "source": [
        ""
      ],
      "execution_count": null,
      "outputs": []
    }
  ]
}