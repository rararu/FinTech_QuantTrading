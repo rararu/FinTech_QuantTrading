{
  "nbformat": 4,
  "nbformat_minor": 0,
  "metadata": {
    "colab": {
      "name": "CAPM pt2 ",
      "provenance": [],
      "collapsed_sections": []
    },
    "kernelspec": {
      "name": "python3",
      "display_name": "Python 3"
    }
  },
  "cells": [
    {
      "cell_type": "code",
      "metadata": {
        "id": "_cDsaX6fONI4"
      },
      "source": [
        "import pandas as pd\n",
        "import numpy as np\n",
        "import math\n",
        "from scipy import stats\n",
        "from datetime import datetime\n",
        "from sklearn import preprocessing\n",
        "from sklearn.model_selection import KFold\n",
        "from sklearn.linear_model import LinearRegression\n",
        "import matplotlib.pyplot as plt\n"
      ],
      "execution_count": null,
      "outputs": []
    },
    {
      "cell_type": "markdown",
      "metadata": {
        "id": "v9B6QJbodhul"
      },
      "source": [
        "Part 1. Stock Return Data - Alpha Vantage"
      ]
    },
    {
      "cell_type": "code",
      "metadata": {
        "id": "_hieQXX-diUl",
        "colab": {
          "base_uri": "https://localhost:8080/"
        },
        "outputId": "4705bb97-e1aa-48ff-9166-139476db0ee0"
      },
      "source": [
        "!pip install alpha_vantage"
      ],
      "execution_count": null,
      "outputs": [
        {
          "output_type": "stream",
          "name": "stdout",
          "text": [
            "Requirement already satisfied: alpha_vantage in /usr/local/lib/python3.7/dist-packages (2.3.1)\n",
            "Requirement already satisfied: requests in /usr/local/lib/python3.7/dist-packages (from alpha_vantage) (2.23.0)\n",
            "Requirement already satisfied: aiohttp in /usr/local/lib/python3.7/dist-packages (from alpha_vantage) (3.8.0)\n",
            "Requirement already satisfied: aiosignal>=1.1.2 in /usr/local/lib/python3.7/dist-packages (from aiohttp->alpha_vantage) (1.2.0)\n",
            "Requirement already satisfied: typing-extensions>=3.7.4 in /usr/local/lib/python3.7/dist-packages (from aiohttp->alpha_vantage) (3.7.4.3)\n",
            "Requirement already satisfied: charset-normalizer<3.0,>=2.0 in /usr/local/lib/python3.7/dist-packages (from aiohttp->alpha_vantage) (2.0.7)\n",
            "Requirement already satisfied: asynctest==0.13.0 in /usr/local/lib/python3.7/dist-packages (from aiohttp->alpha_vantage) (0.13.0)\n",
            "Requirement already satisfied: frozenlist>=1.1.1 in /usr/local/lib/python3.7/dist-packages (from aiohttp->alpha_vantage) (1.2.0)\n",
            "Requirement already satisfied: yarl<2.0,>=1.0 in /usr/local/lib/python3.7/dist-packages (from aiohttp->alpha_vantage) (1.7.2)\n",
            "Requirement already satisfied: attrs>=17.3.0 in /usr/local/lib/python3.7/dist-packages (from aiohttp->alpha_vantage) (21.2.0)\n",
            "Requirement already satisfied: async-timeout<5.0,>=4.0.0a3 in /usr/local/lib/python3.7/dist-packages (from aiohttp->alpha_vantage) (4.0.0)\n",
            "Requirement already satisfied: multidict<7.0,>=4.5 in /usr/local/lib/python3.7/dist-packages (from aiohttp->alpha_vantage) (5.2.0)\n",
            "Requirement already satisfied: idna>=2.0 in /usr/local/lib/python3.7/dist-packages (from yarl<2.0,>=1.0->aiohttp->alpha_vantage) (2.10)\n",
            "Requirement already satisfied: urllib3!=1.25.0,!=1.25.1,<1.26,>=1.21.1 in /usr/local/lib/python3.7/dist-packages (from requests->alpha_vantage) (1.24.3)\n",
            "Requirement already satisfied: certifi>=2017.4.17 in /usr/local/lib/python3.7/dist-packages (from requests->alpha_vantage) (2021.5.30)\n",
            "Requirement already satisfied: chardet<4,>=3.0.2 in /usr/local/lib/python3.7/dist-packages (from requests->alpha_vantage) (3.0.4)\n"
          ]
        }
      ]
    },
    {
      "cell_type": "code",
      "metadata": {
        "id": "PCY_07h0dmGv"
      },
      "source": [
        "API_KEY_AV = '70XB7VA95KKG321V.'\n",
        "from alpha_vantage.timeseries import TimeSeries\n",
        "ts = TimeSeries(key=API_KEY_AV,output_format='pandas', indexing_type='date')\n"
      ],
      "execution_count": null,
      "outputs": []
    },
    {
      "cell_type": "code",
      "metadata": {
        "id": "l4e44GSQdpzg",
        "colab": {
          "base_uri": "https://localhost:8080/"
        },
        "outputId": "745bd85a-3ba3-45c2-a901-6634e8ae6f07"
      },
      "source": [
        "stockReturnDict = {}\n",
        "stockReturnDF = pd.DataFrame()\n",
        "meta_data = {}\n",
        "import time\n",
        "tickerList = ['MSFT']\n",
        "for ticker in tickerList:\n",
        "  print(ticker)\n",
        "\n",
        "  try:\n",
        "    stockReturnDict[ticker], meta_data[ticker] = ts.get_daily_adjusted(symbol=ticker, outputsize= 'full')\n",
        "    stockReturnDict[ticker].sort_values('date')\n",
        "    stockReturnDict[ticker]['ticker'] = ticker\n",
        "    \n",
        "    stockReturnDF = pd.concat([stockReturnDF, stockReturnDict[ticker]], axis=0)\n",
        "    stockReturnDF.head()\n",
        "  except:\n",
        "    pass\n",
        "  time.sleep(1)  "
      ],
      "execution_count": null,
      "outputs": [
        {
          "output_type": "stream",
          "name": "stdout",
          "text": [
            "MSFT\n"
          ]
        }
      ]
    },
    {
      "cell_type": "code",
      "metadata": {
        "id": "qdw58DB8ghE7",
        "colab": {
          "base_uri": "https://localhost:8080/",
          "height": 637
        },
        "outputId": "cdefff4a-4aa7-4ee7-ab78-dbb5a06be596"
      },
      "source": [
        "stockReturnDict['MSFT']"
      ],
      "execution_count": null,
      "outputs": [
        {
          "output_type": "execute_result",
          "data": {
            "text/html": [
              "<div>\n",
              "<style scoped>\n",
              "    .dataframe tbody tr th:only-of-type {\n",
              "        vertical-align: middle;\n",
              "    }\n",
              "\n",
              "    .dataframe tbody tr th {\n",
              "        vertical-align: top;\n",
              "    }\n",
              "\n",
              "    .dataframe thead th {\n",
              "        text-align: right;\n",
              "    }\n",
              "</style>\n",
              "<table border=\"1\" class=\"dataframe\">\n",
              "  <thead>\n",
              "    <tr style=\"text-align: right;\">\n",
              "      <th></th>\n",
              "      <th>1. open</th>\n",
              "      <th>2. high</th>\n",
              "      <th>3. low</th>\n",
              "      <th>4. close</th>\n",
              "      <th>5. adjusted close</th>\n",
              "      <th>6. volume</th>\n",
              "      <th>7. dividend amount</th>\n",
              "      <th>8. split coefficient</th>\n",
              "      <th>ticker</th>\n",
              "    </tr>\n",
              "    <tr>\n",
              "      <th>date</th>\n",
              "      <th></th>\n",
              "      <th></th>\n",
              "      <th></th>\n",
              "      <th></th>\n",
              "      <th></th>\n",
              "      <th></th>\n",
              "      <th></th>\n",
              "      <th></th>\n",
              "      <th></th>\n",
              "    </tr>\n",
              "  </thead>\n",
              "  <tbody>\n",
              "    <tr>\n",
              "      <th>2021-11-01</th>\n",
              "      <td>331.355</td>\n",
              "      <td>331.4900</td>\n",
              "      <td>326.3700</td>\n",
              "      <td>329.37</td>\n",
              "      <td>329.370000</td>\n",
              "      <td>26840400.0</td>\n",
              "      <td>0.0</td>\n",
              "      <td>1.0</td>\n",
              "      <td>MSFT</td>\n",
              "    </tr>\n",
              "    <tr>\n",
              "      <th>2021-10-29</th>\n",
              "      <td>324.130</td>\n",
              "      <td>332.0000</td>\n",
              "      <td>323.9000</td>\n",
              "      <td>331.62</td>\n",
              "      <td>331.620000</td>\n",
              "      <td>34765982.0</td>\n",
              "      <td>0.0</td>\n",
              "      <td>1.0</td>\n",
              "      <td>MSFT</td>\n",
              "    </tr>\n",
              "    <tr>\n",
              "      <th>2021-10-28</th>\n",
              "      <td>324.325</td>\n",
              "      <td>324.8700</td>\n",
              "      <td>321.3601</td>\n",
              "      <td>324.35</td>\n",
              "      <td>324.350000</td>\n",
              "      <td>26297943.0</td>\n",
              "      <td>0.0</td>\n",
              "      <td>1.0</td>\n",
              "      <td>MSFT</td>\n",
              "    </tr>\n",
              "    <tr>\n",
              "      <th>2021-10-27</th>\n",
              "      <td>316.000</td>\n",
              "      <td>326.0973</td>\n",
              "      <td>316.0000</td>\n",
              "      <td>323.17</td>\n",
              "      <td>323.170000</td>\n",
              "      <td>52588690.0</td>\n",
              "      <td>0.0</td>\n",
              "      <td>1.0</td>\n",
              "      <td>MSFT</td>\n",
              "    </tr>\n",
              "    <tr>\n",
              "      <th>2021-10-26</th>\n",
              "      <td>311.000</td>\n",
              "      <td>312.3950</td>\n",
              "      <td>308.5967</td>\n",
              "      <td>310.11</td>\n",
              "      <td>310.110000</td>\n",
              "      <td>28107349.0</td>\n",
              "      <td>0.0</td>\n",
              "      <td>1.0</td>\n",
              "      <td>MSFT</td>\n",
              "    </tr>\n",
              "    <tr>\n",
              "      <th>...</th>\n",
              "      <td>...</td>\n",
              "      <td>...</td>\n",
              "      <td>...</td>\n",
              "      <td>...</td>\n",
              "      <td>...</td>\n",
              "      <td>...</td>\n",
              "      <td>...</td>\n",
              "      <td>...</td>\n",
              "      <td>...</td>\n",
              "    </tr>\n",
              "    <tr>\n",
              "      <th>1999-11-05</th>\n",
              "      <td>91.810</td>\n",
              "      <td>92.8700</td>\n",
              "      <td>90.5000</td>\n",
              "      <td>91.56</td>\n",
              "      <td>29.017782</td>\n",
              "      <td>35083700.0</td>\n",
              "      <td>0.0</td>\n",
              "      <td>1.0</td>\n",
              "      <td>MSFT</td>\n",
              "    </tr>\n",
              "    <tr>\n",
              "      <th>1999-11-04</th>\n",
              "      <td>92.310</td>\n",
              "      <td>92.7500</td>\n",
              "      <td>90.3100</td>\n",
              "      <td>91.75</td>\n",
              "      <td>29.077998</td>\n",
              "      <td>27119700.0</td>\n",
              "      <td>0.0</td>\n",
              "      <td>1.0</td>\n",
              "      <td>MSFT</td>\n",
              "    </tr>\n",
              "    <tr>\n",
              "      <th>1999-11-03</th>\n",
              "      <td>92.940</td>\n",
              "      <td>93.5000</td>\n",
              "      <td>91.5000</td>\n",
              "      <td>92.00</td>\n",
              "      <td>29.157229</td>\n",
              "      <td>22258500.0</td>\n",
              "      <td>0.0</td>\n",
              "      <td>1.0</td>\n",
              "      <td>MSFT</td>\n",
              "    </tr>\n",
              "    <tr>\n",
              "      <th>1999-11-02</th>\n",
              "      <td>92.750</td>\n",
              "      <td>94.5000</td>\n",
              "      <td>91.9400</td>\n",
              "      <td>92.56</td>\n",
              "      <td>29.334708</td>\n",
              "      <td>23174500.0</td>\n",
              "      <td>0.0</td>\n",
              "      <td>1.0</td>\n",
              "      <td>MSFT</td>\n",
              "    </tr>\n",
              "    <tr>\n",
              "      <th>1999-11-01</th>\n",
              "      <td>93.250</td>\n",
              "      <td>94.1900</td>\n",
              "      <td>92.1200</td>\n",
              "      <td>92.37</td>\n",
              "      <td>29.274492</td>\n",
              "      <td>26630600.0</td>\n",
              "      <td>0.0</td>\n",
              "      <td>1.0</td>\n",
              "      <td>MSFT</td>\n",
              "    </tr>\n",
              "  </tbody>\n",
              "</table>\n",
              "<p>5537 rows × 9 columns</p>\n",
              "</div>"
            ],
            "text/plain": [
              "            1. open   2. high  ...  8. split coefficient  ticker\n",
              "date                           ...                              \n",
              "2021-11-01  331.355  331.4900  ...                   1.0    MSFT\n",
              "2021-10-29  324.130  332.0000  ...                   1.0    MSFT\n",
              "2021-10-28  324.325  324.8700  ...                   1.0    MSFT\n",
              "2021-10-27  316.000  326.0973  ...                   1.0    MSFT\n",
              "2021-10-26  311.000  312.3950  ...                   1.0    MSFT\n",
              "...             ...       ...  ...                   ...     ...\n",
              "1999-11-05   91.810   92.8700  ...                   1.0    MSFT\n",
              "1999-11-04   92.310   92.7500  ...                   1.0    MSFT\n",
              "1999-11-03   92.940   93.5000  ...                   1.0    MSFT\n",
              "1999-11-02   92.750   94.5000  ...                   1.0    MSFT\n",
              "1999-11-01   93.250   94.1900  ...                   1.0    MSFT\n",
              "\n",
              "[5537 rows x 9 columns]"
            ]
          },
          "metadata": {},
          "execution_count": 5
        }
      ]
    },
    {
      "cell_type": "code",
      "metadata": {
        "id": "XvLmjEOUgJA4",
        "colab": {
          "base_uri": "https://localhost:8080/",
          "height": 337
        },
        "outputId": "5a77bf95-22b8-4e0c-ae18-57865d8af44e"
      },
      "source": [
        "stockReturnDF.head()"
      ],
      "execution_count": null,
      "outputs": [
        {
          "output_type": "execute_result",
          "data": {
            "text/html": [
              "<div>\n",
              "<style scoped>\n",
              "    .dataframe tbody tr th:only-of-type {\n",
              "        vertical-align: middle;\n",
              "    }\n",
              "\n",
              "    .dataframe tbody tr th {\n",
              "        vertical-align: top;\n",
              "    }\n",
              "\n",
              "    .dataframe thead th {\n",
              "        text-align: right;\n",
              "    }\n",
              "</style>\n",
              "<table border=\"1\" class=\"dataframe\">\n",
              "  <thead>\n",
              "    <tr style=\"text-align: right;\">\n",
              "      <th></th>\n",
              "      <th>1. open</th>\n",
              "      <th>2. high</th>\n",
              "      <th>3. low</th>\n",
              "      <th>4. close</th>\n",
              "      <th>5. adjusted close</th>\n",
              "      <th>6. volume</th>\n",
              "      <th>7. dividend amount</th>\n",
              "      <th>8. split coefficient</th>\n",
              "      <th>ticker</th>\n",
              "    </tr>\n",
              "    <tr>\n",
              "      <th>date</th>\n",
              "      <th></th>\n",
              "      <th></th>\n",
              "      <th></th>\n",
              "      <th></th>\n",
              "      <th></th>\n",
              "      <th></th>\n",
              "      <th></th>\n",
              "      <th></th>\n",
              "      <th></th>\n",
              "    </tr>\n",
              "  </thead>\n",
              "  <tbody>\n",
              "    <tr>\n",
              "      <th>2021-11-01</th>\n",
              "      <td>331.355</td>\n",
              "      <td>331.4900</td>\n",
              "      <td>326.3700</td>\n",
              "      <td>329.37</td>\n",
              "      <td>329.37</td>\n",
              "      <td>26840400.0</td>\n",
              "      <td>0.0</td>\n",
              "      <td>1.0</td>\n",
              "      <td>MSFT</td>\n",
              "    </tr>\n",
              "    <tr>\n",
              "      <th>2021-10-29</th>\n",
              "      <td>324.130</td>\n",
              "      <td>332.0000</td>\n",
              "      <td>323.9000</td>\n",
              "      <td>331.62</td>\n",
              "      <td>331.62</td>\n",
              "      <td>34765982.0</td>\n",
              "      <td>0.0</td>\n",
              "      <td>1.0</td>\n",
              "      <td>MSFT</td>\n",
              "    </tr>\n",
              "    <tr>\n",
              "      <th>2021-10-28</th>\n",
              "      <td>324.325</td>\n",
              "      <td>324.8700</td>\n",
              "      <td>321.3601</td>\n",
              "      <td>324.35</td>\n",
              "      <td>324.35</td>\n",
              "      <td>26297943.0</td>\n",
              "      <td>0.0</td>\n",
              "      <td>1.0</td>\n",
              "      <td>MSFT</td>\n",
              "    </tr>\n",
              "    <tr>\n",
              "      <th>2021-10-27</th>\n",
              "      <td>316.000</td>\n",
              "      <td>326.0973</td>\n",
              "      <td>316.0000</td>\n",
              "      <td>323.17</td>\n",
              "      <td>323.17</td>\n",
              "      <td>52588690.0</td>\n",
              "      <td>0.0</td>\n",
              "      <td>1.0</td>\n",
              "      <td>MSFT</td>\n",
              "    </tr>\n",
              "    <tr>\n",
              "      <th>2021-10-26</th>\n",
              "      <td>311.000</td>\n",
              "      <td>312.3950</td>\n",
              "      <td>308.5967</td>\n",
              "      <td>310.11</td>\n",
              "      <td>310.11</td>\n",
              "      <td>28107349.0</td>\n",
              "      <td>0.0</td>\n",
              "      <td>1.0</td>\n",
              "      <td>MSFT</td>\n",
              "    </tr>\n",
              "  </tbody>\n",
              "</table>\n",
              "</div>"
            ],
            "text/plain": [
              "            1. open   2. high  ...  8. split coefficient  ticker\n",
              "date                           ...                              \n",
              "2021-11-01  331.355  331.4900  ...                   1.0    MSFT\n",
              "2021-10-29  324.130  332.0000  ...                   1.0    MSFT\n",
              "2021-10-28  324.325  324.8700  ...                   1.0    MSFT\n",
              "2021-10-27  316.000  326.0973  ...                   1.0    MSFT\n",
              "2021-10-26  311.000  312.3950  ...                   1.0    MSFT\n",
              "\n",
              "[5 rows x 9 columns]"
            ]
          },
          "metadata": {},
          "execution_count": 6
        }
      ]
    },
    {
      "cell_type": "code",
      "metadata": {
        "id": "95-oEM-Ibyrd"
      },
      "source": [
        "import matplotlib.pyplot as plt\n",
        "plt.style.use('fivethirtyeight')"
      ],
      "execution_count": null,
      "outputs": []
    },
    {
      "cell_type": "code",
      "metadata": {
        "id": "M64iysllbzdl",
        "colab": {
          "base_uri": "https://localhost:8080/",
          "height": 349
        },
        "outputId": "3e5d80dd-7a84-49f5-91df-57e8970c0e57"
      },
      "source": [
        "ticker = 'MSFT'\n",
        "\n",
        "start = min(stockReturnDict[ticker].index)\n",
        "end = max(stockReturnDict[ticker].index)\n",
        "\n",
        "plt.figure(figsize=(12.5, 4.5))\n",
        "plt.plot(stockReturnDict[ticker]['5. adjusted close'], label = ticker, linewidth = 0.35)\n",
        "plt.title(ticker+' Adj. Close Price History')\n",
        "plt.xlabel(start.strftime(\"%m/%d/%Y\")+\" - \"+end.strftime(\"%m/%d/%Y\"))\n",
        "plt.ylabel('Adj. Close Price USD ($)')\n",
        "plt.legend(loc='upper left')\n",
        "plt.show()"
      ],
      "execution_count": null,
      "outputs": [
        {
          "output_type": "display_data",
          "data": {
            "image/png": "[encoded data removed]",
            "text/plain": [
              "<Figure size 900x324 with 1 Axes>"
            ]
          },
          "metadata": {}
        }
      ]
    },
    {
      "cell_type": "code",
      "metadata": {
        "id": "HBwYXrLh-l5L"
      },
      "source": [
        "stockReturnDF = stockReturnDF.sort_values(['ticker','date'])"
      ],
      "execution_count": null,
      "outputs": []
    },
    {
      "cell_type": "code",
      "metadata": {
        "id": "7w4-oQED_mcB"
      },
      "source": [
        "stockReturnDF['ret']  =  (stockReturnDF['5. adjusted close']-stockReturnDF['5. adjusted close'].shift(1))/stockReturnDF['5. adjusted close'].shift(1)\n",
        "stockReturnDF['lnReturns']  = np.log(stockReturnDF['5. adjusted close']/stockReturnDF['5. adjusted close'].shift(1))\n",
        "\n",
        "stockReturnDF.loc[stockReturnDF['ticker'] != stockReturnDF['ticker'].shift(1), 'lnReturns'] = np.NaN\n",
        "stockReturnDF.loc[stockReturnDF['ticker'] != stockReturnDF['ticker'].shift(1), 'ret'] = np.NaN\n",
        "  \n",
        "stockReturnDF['date'] = stockReturnDF.index"
      ],
      "execution_count": null,
      "outputs": []
    },
    {
      "cell_type": "code",
      "metadata": {
        "id": "dn1-8j52jIwu",
        "colab": {
          "base_uri": "https://localhost:8080/",
          "height": 374
        },
        "outputId": "1d1ce6a4-c11f-4ba5-fa0c-53c0edf1715b"
      },
      "source": [
        "stockReturnDF.head()"
      ],
      "execution_count": null,
      "outputs": [
        {
          "output_type": "execute_result",
          "data": {
            "text/html": [
              "<div>\n",
              "<style scoped>\n",
              "    .dataframe tbody tr th:only-of-type {\n",
              "        vertical-align: middle;\n",
              "    }\n",
              "\n",
              "    .dataframe tbody tr th {\n",
              "        vertical-align: top;\n",
              "    }\n",
              "\n",
              "    .dataframe thead th {\n",
              "        text-align: right;\n",
              "    }\n",
              "</style>\n",
              "<table border=\"1\" class=\"dataframe\">\n",
              "  <thead>\n",
              "    <tr style=\"text-align: right;\">\n",
              "      <th></th>\n",
              "      <th>1. open</th>\n",
              "      <th>2. high</th>\n",
              "      <th>3. low</th>\n",
              "      <th>4. close</th>\n",
              "      <th>5. adjusted close</th>\n",
              "      <th>6. volume</th>\n",
              "      <th>7. dividend amount</th>\n",
              "      <th>8. split coefficient</th>\n",
              "      <th>ticker</th>\n",
              "      <th>ret</th>\n",
              "      <th>lnReturns</th>\n",
              "      <th>date</th>\n",
              "    </tr>\n",
              "    <tr>\n",
              "      <th>date</th>\n",
              "      <th></th>\n",
              "      <th></th>\n",
              "      <th></th>\n",
              "      <th></th>\n",
              "      <th></th>\n",
              "      <th></th>\n",
              "      <th></th>\n",
              "      <th></th>\n",
              "      <th></th>\n",
              "      <th></th>\n",
              "      <th></th>\n",
              "      <th></th>\n",
              "    </tr>\n",
              "  </thead>\n",
              "  <tbody>\n",
              "    <tr>\n",
              "      <th>1999-11-01</th>\n",
              "      <td>93.25</td>\n",
              "      <td>94.19</td>\n",
              "      <td>92.12</td>\n",
              "      <td>92.37</td>\n",
              "      <td>29.274492</td>\n",
              "      <td>26630600.0</td>\n",
              "      <td>0.0</td>\n",
              "      <td>1.0</td>\n",
              "      <td>MSFT</td>\n",
              "      <td>NaN</td>\n",
              "      <td>NaN</td>\n",
              "      <td>1999-11-01</td>\n",
              "    </tr>\n",
              "    <tr>\n",
              "      <th>1999-11-02</th>\n",
              "      <td>92.75</td>\n",
              "      <td>94.50</td>\n",
              "      <td>91.94</td>\n",
              "      <td>92.56</td>\n",
              "      <td>29.334708</td>\n",
              "      <td>23174500.0</td>\n",
              "      <td>0.0</td>\n",
              "      <td>1.0</td>\n",
              "      <td>MSFT</td>\n",
              "      <td>0.002057</td>\n",
              "      <td>0.002055</td>\n",
              "      <td>1999-11-02</td>\n",
              "    </tr>\n",
              "    <tr>\n",
              "      <th>1999-11-03</th>\n",
              "      <td>92.94</td>\n",
              "      <td>93.50</td>\n",
              "      <td>91.50</td>\n",
              "      <td>92.00</td>\n",
              "      <td>29.157229</td>\n",
              "      <td>22258500.0</td>\n",
              "      <td>0.0</td>\n",
              "      <td>1.0</td>\n",
              "      <td>MSFT</td>\n",
              "      <td>-0.006050</td>\n",
              "      <td>-0.006069</td>\n",
              "      <td>1999-11-03</td>\n",
              "    </tr>\n",
              "    <tr>\n",
              "      <th>1999-11-04</th>\n",
              "      <td>92.31</td>\n",
              "      <td>92.75</td>\n",
              "      <td>90.31</td>\n",
              "      <td>91.75</td>\n",
              "      <td>29.077998</td>\n",
              "      <td>27119700.0</td>\n",
              "      <td>0.0</td>\n",
              "      <td>1.0</td>\n",
              "      <td>MSFT</td>\n",
              "      <td>-0.002717</td>\n",
              "      <td>-0.002721</td>\n",
              "      <td>1999-11-04</td>\n",
              "    </tr>\n",
              "    <tr>\n",
              "      <th>1999-11-05</th>\n",
              "      <td>91.81</td>\n",
              "      <td>92.87</td>\n",
              "      <td>90.50</td>\n",
              "      <td>91.56</td>\n",
              "      <td>29.017782</td>\n",
              "      <td>35083700.0</td>\n",
              "      <td>0.0</td>\n",
              "      <td>1.0</td>\n",
              "      <td>MSFT</td>\n",
              "      <td>-0.002071</td>\n",
              "      <td>-0.002073</td>\n",
              "      <td>1999-11-05</td>\n",
              "    </tr>\n",
              "  </tbody>\n",
              "</table>\n",
              "</div>"
            ],
            "text/plain": [
              "            1. open  2. high  3. low  ...       ret  lnReturns       date\n",
              "date                                  ...                                \n",
              "1999-11-01    93.25    94.19   92.12  ...       NaN        NaN 1999-11-01\n",
              "1999-11-02    92.75    94.50   91.94  ...  0.002057   0.002055 1999-11-02\n",
              "1999-11-03    92.94    93.50   91.50  ... -0.006050  -0.006069 1999-11-03\n",
              "1999-11-04    92.31    92.75   90.31  ... -0.002717  -0.002721 1999-11-04\n",
              "1999-11-05    91.81    92.87   90.50  ... -0.002071  -0.002073 1999-11-05\n",
              "\n",
              "[5 rows x 12 columns]"
            ]
          },
          "metadata": {},
          "execution_count": 11
        }
      ]
    },
    {
      "cell_type": "markdown",
      "metadata": {
        "id": "QmSzj-k2dfhk"
      },
      "source": [
        "Part 2. Fama French Factors"
      ]
    },
    {
      "cell_type": "code",
      "metadata": {
        "id": "zok_qjSYUCR_"
      },
      "source": [
        "\n",
        "\n",
        "# https://mba.tuck.dartmouth.edu/pages/faculty/ken.french/data_library.html\n",
        "zipurl  = 'https://mba.tuck.dartmouth.edu/pages/faculty/ken.french/ftp/F-F_Research_Data_Factors_CSV.zip'\n",
        "\n",
        "from urllib.request import urlopen\n",
        "from zipfile import ZipFile\n",
        "\n",
        "zipresp = urlopen(zipurl)\n",
        "tempzip = open(\"/tmp/tempfile.zip\", \"wb\")\n",
        "tempzip.write(zipresp.read())\n",
        "tempzip.close()\n",
        "    \n",
        "zf = ZipFile(\"/tmp/tempfile.zip\")\n",
        "zf.extractall(path = '/tmp')\n",
        "zf.close()\n",
        "\n"
      ],
      "execution_count": null,
      "outputs": []
    },
    {
      "cell_type": "code",
      "metadata": {
        "id": "OdV2BbYycd_G",
        "colab": {
          "base_uri": "https://localhost:8080/",
          "height": 204
        },
        "outputId": "9d379132-ec13-4699-b0d1-303c5513ee8c"
      },
      "source": [
        "\n",
        "ffDF = pd.read_csv(\"/tmp/F-F_Research_Data_Factors.CSV\", skiprows=3)\n",
        "ffDF.head()\n"
      ],
      "execution_count": null,
      "outputs": [
        {
          "output_type": "execute_result",
          "data": {
            "text/html": [
              "<div>\n",
              "<style scoped>\n",
              "    .dataframe tbody tr th:only-of-type {\n",
              "        vertical-align: middle;\n",
              "    }\n",
              "\n",
              "    .dataframe tbody tr th {\n",
              "        vertical-align: top;\n",
              "    }\n",
              "\n",
              "    .dataframe thead th {\n",
              "        text-align: right;\n",
              "    }\n",
              "</style>\n",
              "<table border=\"1\" class=\"dataframe\">\n",
              "  <thead>\n",
              "    <tr style=\"text-align: right;\">\n",
              "      <th></th>\n",
              "      <th>Unnamed: 0</th>\n",
              "      <th>Mkt-RF</th>\n",
              "      <th>SMB</th>\n",
              "      <th>HML</th>\n",
              "      <th>RF</th>\n",
              "    </tr>\n",
              "  </thead>\n",
              "  <tbody>\n",
              "    <tr>\n",
              "      <th>0</th>\n",
              "      <td>192607</td>\n",
              "      <td>2.96</td>\n",
              "      <td>-2.38</td>\n",
              "      <td>-2.73</td>\n",
              "      <td>0.22</td>\n",
              "    </tr>\n",
              "    <tr>\n",
              "      <th>1</th>\n",
              "      <td>192608</td>\n",
              "      <td>2.64</td>\n",
              "      <td>-1.47</td>\n",
              "      <td>4.14</td>\n",
              "      <td>0.25</td>\n",
              "    </tr>\n",
              "    <tr>\n",
              "      <th>2</th>\n",
              "      <td>192609</td>\n",
              "      <td>0.36</td>\n",
              "      <td>-1.39</td>\n",
              "      <td>0.12</td>\n",
              "      <td>0.23</td>\n",
              "    </tr>\n",
              "    <tr>\n",
              "      <th>3</th>\n",
              "      <td>192610</td>\n",
              "      <td>-3.24</td>\n",
              "      <td>-0.13</td>\n",
              "      <td>0.65</td>\n",
              "      <td>0.32</td>\n",
              "    </tr>\n",
              "    <tr>\n",
              "      <th>4</th>\n",
              "      <td>192611</td>\n",
              "      <td>2.53</td>\n",
              "      <td>-0.16</td>\n",
              "      <td>-0.38</td>\n",
              "      <td>0.31</td>\n",
              "    </tr>\n",
              "  </tbody>\n",
              "</table>\n",
              "</div>"
            ],
            "text/plain": [
              "  Unnamed: 0    Mkt-RF       SMB       HML        RF\n",
              "0     192607      2.96     -2.38     -2.73      0.22\n",
              "1     192608      2.64     -1.47      4.14      0.25\n",
              "2     192609      0.36     -1.39      0.12      0.23\n",
              "3     192610     -3.24     -0.13      0.65      0.32\n",
              "4     192611      2.53     -0.16     -0.38      0.31"
            ]
          },
          "metadata": {},
          "execution_count": 13
        }
      ]
    },
    {
      "cell_type": "code",
      "metadata": {
        "id": "yPhL-w6vePXe",
        "colab": {
          "base_uri": "https://localhost:8080/",
          "height": 204
        },
        "outputId": "ad41be68-bf92-4dfe-a5d0-34c2800848ab"
      },
      "source": [
        "ffDF['YearMonth'] = ffDF['Unnamed: 0']\n",
        "ffDF['MktRF'] = pd.to_numeric(ffDF['Mkt-RF'], errors='coerce')/100\n",
        "ffDF['SMB'] = pd.to_numeric(ffDF['SMB'], errors='coerce')/100\n",
        "ffDF['HML'] = pd.to_numeric(ffDF['HML'], errors='coerce')/100\n",
        "ffDF['RF'] = pd.to_numeric(ffDF['RF'], errors='coerce')/100\n",
        "ffDF.head()"
      ],
      "execution_count": null,
      "outputs": [
        {
          "output_type": "execute_result",
          "data": {
            "text/html": [
              "<div>\n",
              "<style scoped>\n",
              "    .dataframe tbody tr th:only-of-type {\n",
              "        vertical-align: middle;\n",
              "    }\n",
              "\n",
              "    .dataframe tbody tr th {\n",
              "        vertical-align: top;\n",
              "    }\n",
              "\n",
              "    .dataframe thead th {\n",
              "        text-align: right;\n",
              "    }\n",
              "</style>\n",
              "<table border=\"1\" class=\"dataframe\">\n",
              "  <thead>\n",
              "    <tr style=\"text-align: right;\">\n",
              "      <th></th>\n",
              "      <th>Unnamed: 0</th>\n",
              "      <th>Mkt-RF</th>\n",
              "      <th>SMB</th>\n",
              "      <th>HML</th>\n",
              "      <th>RF</th>\n",
              "      <th>YearMonth</th>\n",
              "      <th>MktRF</th>\n",
              "    </tr>\n",
              "  </thead>\n",
              "  <tbody>\n",
              "    <tr>\n",
              "      <th>0</th>\n",
              "      <td>192607</td>\n",
              "      <td>2.96</td>\n",
              "      <td>-0.0238</td>\n",
              "      <td>-0.0273</td>\n",
              "      <td>0.0022</td>\n",
              "      <td>192607</td>\n",
              "      <td>0.0296</td>\n",
              "    </tr>\n",
              "    <tr>\n",
              "      <th>1</th>\n",
              "      <td>192608</td>\n",
              "      <td>2.64</td>\n",
              "      <td>-0.0147</td>\n",
              "      <td>0.0414</td>\n",
              "      <td>0.0025</td>\n",
              "      <td>192608</td>\n",
              "      <td>0.0264</td>\n",
              "    </tr>\n",
              "    <tr>\n",
              "      <th>2</th>\n",
              "      <td>192609</td>\n",
              "      <td>0.36</td>\n",
              "      <td>-0.0139</td>\n",
              "      <td>0.0012</td>\n",
              "      <td>0.0023</td>\n",
              "      <td>192609</td>\n",
              "      <td>0.0036</td>\n",
              "    </tr>\n",
              "    <tr>\n",
              "      <th>3</th>\n",
              "      <td>192610</td>\n",
              "      <td>-3.24</td>\n",
              "      <td>-0.0013</td>\n",
              "      <td>0.0065</td>\n",
              "      <td>0.0032</td>\n",
              "      <td>192610</td>\n",
              "      <td>-0.0324</td>\n",
              "    </tr>\n",
              "    <tr>\n",
              "      <th>4</th>\n",
              "      <td>192611</td>\n",
              "      <td>2.53</td>\n",
              "      <td>-0.0016</td>\n",
              "      <td>-0.0038</td>\n",
              "      <td>0.0031</td>\n",
              "      <td>192611</td>\n",
              "      <td>0.0253</td>\n",
              "    </tr>\n",
              "  </tbody>\n",
              "</table>\n",
              "</div>"
            ],
            "text/plain": [
              "  Unnamed: 0    Mkt-RF     SMB     HML      RF YearMonth   MktRF\n",
              "0     192607      2.96 -0.0238 -0.0273  0.0022    192607  0.0296\n",
              "1     192608      2.64 -0.0147  0.0414  0.0025    192608  0.0264\n",
              "2     192609      0.36 -0.0139  0.0012  0.0023    192609  0.0036\n",
              "3     192610     -3.24 -0.0013  0.0065  0.0032    192610 -0.0324\n",
              "4     192611      2.53 -0.0016 -0.0038  0.0031    192611  0.0253"
            ]
          },
          "metadata": {},
          "execution_count": 14
        }
      ]
    },
    {
      "cell_type": "markdown",
      "metadata": {
        "id": "suD-_2DK52y4"
      },
      "source": [
        "Part 3. Creating Monthly returns\n",
        "\n",
        "3-1. Creating Year-month in stockReturnDF\n"
      ]
    },
    {
      "cell_type": "code",
      "metadata": {
        "id": "876tVaoV52gI",
        "colab": {
          "base_uri": "https://localhost:8080/",
          "height": 374
        },
        "outputId": "fecf23bc-a47b-4735-9e50-3dbe1199cf1f"
      },
      "source": [
        "stockReturnDF.head()"
      ],
      "execution_count": null,
      "outputs": [
        {
          "output_type": "execute_result",
          "data": {
            "text/html": [
              "<div>\n",
              "<style scoped>\n",
              "    .dataframe tbody tr th:only-of-type {\n",
              "        vertical-align: middle;\n",
              "    }\n",
              "\n",
              "    .dataframe tbody tr th {\n",
              "        vertical-align: top;\n",
              "    }\n",
              "\n",
              "    .dataframe thead th {\n",
              "        text-align: right;\n",
              "    }\n",
              "</style>\n",
              "<table border=\"1\" class=\"dataframe\">\n",
              "  <thead>\n",
              "    <tr style=\"text-align: right;\">\n",
              "      <th></th>\n",
              "      <th>1. open</th>\n",
              "      <th>2. high</th>\n",
              "      <th>3. low</th>\n",
              "      <th>4. close</th>\n",
              "      <th>5. adjusted close</th>\n",
              "      <th>6. volume</th>\n",
              "      <th>7. dividend amount</th>\n",
              "      <th>8. split coefficient</th>\n",
              "      <th>ticker</th>\n",
              "      <th>ret</th>\n",
              "      <th>lnReturns</th>\n",
              "      <th>date</th>\n",
              "    </tr>\n",
              "    <tr>\n",
              "      <th>date</th>\n",
              "      <th></th>\n",
              "      <th></th>\n",
              "      <th></th>\n",
              "      <th></th>\n",
              "      <th></th>\n",
              "      <th></th>\n",
              "      <th></th>\n",
              "      <th></th>\n",
              "      <th></th>\n",
              "      <th></th>\n",
              "      <th></th>\n",
              "      <th></th>\n",
              "    </tr>\n",
              "  </thead>\n",
              "  <tbody>\n",
              "    <tr>\n",
              "      <th>1999-11-01</th>\n",
              "      <td>93.25</td>\n",
              "      <td>94.19</td>\n",
              "      <td>92.12</td>\n",
              "      <td>92.37</td>\n",
              "      <td>29.274492</td>\n",
              "      <td>26630600.0</td>\n",
              "      <td>0.0</td>\n",
              "      <td>1.0</td>\n",
              "      <td>MSFT</td>\n",
              "      <td>NaN</td>\n",
              "      <td>NaN</td>\n",
              "      <td>1999-11-01</td>\n",
              "    </tr>\n",
              "    <tr>\n",
              "      <th>1999-11-02</th>\n",
              "      <td>92.75</td>\n",
              "      <td>94.50</td>\n",
              "      <td>91.94</td>\n",
              "      <td>92.56</td>\n",
              "      <td>29.334708</td>\n",
              "      <td>23174500.0</td>\n",
              "      <td>0.0</td>\n",
              "      <td>1.0</td>\n",
              "      <td>MSFT</td>\n",
              "      <td>0.002057</td>\n",
              "      <td>0.002055</td>\n",
              "      <td>1999-11-02</td>\n",
              "    </tr>\n",
              "    <tr>\n",
              "      <th>1999-11-03</th>\n",
              "      <td>92.94</td>\n",
              "      <td>93.50</td>\n",
              "      <td>91.50</td>\n",
              "      <td>92.00</td>\n",
              "      <td>29.157229</td>\n",
              "      <td>22258500.0</td>\n",
              "      <td>0.0</td>\n",
              "      <td>1.0</td>\n",
              "      <td>MSFT</td>\n",
              "      <td>-0.006050</td>\n",
              "      <td>-0.006069</td>\n",
              "      <td>1999-11-03</td>\n",
              "    </tr>\n",
              "    <tr>\n",
              "      <th>1999-11-04</th>\n",
              "      <td>92.31</td>\n",
              "      <td>92.75</td>\n",
              "      <td>90.31</td>\n",
              "      <td>91.75</td>\n",
              "      <td>29.077998</td>\n",
              "      <td>27119700.0</td>\n",
              "      <td>0.0</td>\n",
              "      <td>1.0</td>\n",
              "      <td>MSFT</td>\n",
              "      <td>-0.002717</td>\n",
              "      <td>-0.002721</td>\n",
              "      <td>1999-11-04</td>\n",
              "    </tr>\n",
              "    <tr>\n",
              "      <th>1999-11-05</th>\n",
              "      <td>91.81</td>\n",
              "      <td>92.87</td>\n",
              "      <td>90.50</td>\n",
              "      <td>91.56</td>\n",
              "      <td>29.017782</td>\n",
              "      <td>35083700.0</td>\n",
              "      <td>0.0</td>\n",
              "      <td>1.0</td>\n",
              "      <td>MSFT</td>\n",
              "      <td>-0.002071</td>\n",
              "      <td>-0.002073</td>\n",
              "      <td>1999-11-05</td>\n",
              "    </tr>\n",
              "  </tbody>\n",
              "</table>\n",
              "</div>"
            ],
            "text/plain": [
              "            1. open  2. high  3. low  ...       ret  lnReturns       date\n",
              "date                                  ...                                \n",
              "1999-11-01    93.25    94.19   92.12  ...       NaN        NaN 1999-11-01\n",
              "1999-11-02    92.75    94.50   91.94  ...  0.002057   0.002055 1999-11-02\n",
              "1999-11-03    92.94    93.50   91.50  ... -0.006050  -0.006069 1999-11-03\n",
              "1999-11-04    92.31    92.75   90.31  ... -0.002717  -0.002721 1999-11-04\n",
              "1999-11-05    91.81    92.87   90.50  ... -0.002071  -0.002073 1999-11-05\n",
              "\n",
              "[5 rows x 12 columns]"
            ]
          },
          "metadata": {},
          "execution_count": 15
        }
      ]
    },
    {
      "cell_type": "code",
      "metadata": {
        "id": "E6FVpjoYe9gY"
      },
      "source": [
        "stockReturnDF['YearMonth'] = stockReturnDF['date'].map(lambda x: str(x)[:4] + str(x)[5:7])"
      ],
      "execution_count": null,
      "outputs": []
    },
    {
      "cell_type": "code",
      "metadata": {
        "id": "cDELDPttg_CI",
        "colab": {
          "base_uri": "https://localhost:8080/",
          "height": 374
        },
        "outputId": "bd7d1650-c748-4384-8473-85eac78966d1"
      },
      "source": [
        "stockReturnDF.head()\n"
      ],
      "execution_count": null,
      "outputs": [
        {
          "output_type": "execute_result",
          "data": {
            "text/html": [
              "<div>\n",
              "<style scoped>\n",
              "    .dataframe tbody tr th:only-of-type {\n",
              "        vertical-align: middle;\n",
              "    }\n",
              "\n",
              "    .dataframe tbody tr th {\n",
              "        vertical-align: top;\n",
              "    }\n",
              "\n",
              "    .dataframe thead th {\n",
              "        text-align: right;\n",
              "    }\n",
              "</style>\n",
              "<table border=\"1\" class=\"dataframe\">\n",
              "  <thead>\n",
              "    <tr style=\"text-align: right;\">\n",
              "      <th></th>\n",
              "      <th>1. open</th>\n",
              "      <th>2. high</th>\n",
              "      <th>3. low</th>\n",
              "      <th>4. close</th>\n",
              "      <th>5. adjusted close</th>\n",
              "      <th>6. volume</th>\n",
              "      <th>7. dividend amount</th>\n",
              "      <th>8. split coefficient</th>\n",
              "      <th>ticker</th>\n",
              "      <th>ret</th>\n",
              "      <th>lnReturns</th>\n",
              "      <th>date</th>\n",
              "      <th>YearMonth</th>\n",
              "    </tr>\n",
              "    <tr>\n",
              "      <th>date</th>\n",
              "      <th></th>\n",
              "      <th></th>\n",
              "      <th></th>\n",
              "      <th></th>\n",
              "      <th></th>\n",
              "      <th></th>\n",
              "      <th></th>\n",
              "      <th></th>\n",
              "      <th></th>\n",
              "      <th></th>\n",
              "      <th></th>\n",
              "      <th></th>\n",
              "      <th></th>\n",
              "    </tr>\n",
              "  </thead>\n",
              "  <tbody>\n",
              "    <tr>\n",
              "      <th>1999-11-01</th>\n",
              "      <td>93.25</td>\n",
              "      <td>94.19</td>\n",
              "      <td>92.12</td>\n",
              "      <td>92.37</td>\n",
              "      <td>29.274492</td>\n",
              "      <td>26630600.0</td>\n",
              "      <td>0.0</td>\n",
              "      <td>1.0</td>\n",
              "      <td>MSFT</td>\n",
              "      <td>NaN</td>\n",
              "      <td>NaN</td>\n",
              "      <td>1999-11-01</td>\n",
              "      <td>199911</td>\n",
              "    </tr>\n",
              "    <tr>\n",
              "      <th>1999-11-02</th>\n",
              "      <td>92.75</td>\n",
              "      <td>94.50</td>\n",
              "      <td>91.94</td>\n",
              "      <td>92.56</td>\n",
              "      <td>29.334708</td>\n",
              "      <td>23174500.0</td>\n",
              "      <td>0.0</td>\n",
              "      <td>1.0</td>\n",
              "      <td>MSFT</td>\n",
              "      <td>0.002057</td>\n",
              "      <td>0.002055</td>\n",
              "      <td>1999-11-02</td>\n",
              "      <td>199911</td>\n",
              "    </tr>\n",
              "    <tr>\n",
              "      <th>1999-11-03</th>\n",
              "      <td>92.94</td>\n",
              "      <td>93.50</td>\n",
              "      <td>91.50</td>\n",
              "      <td>92.00</td>\n",
              "      <td>29.157229</td>\n",
              "      <td>22258500.0</td>\n",
              "      <td>0.0</td>\n",
              "      <td>1.0</td>\n",
              "      <td>MSFT</td>\n",
              "      <td>-0.006050</td>\n",
              "      <td>-0.006069</td>\n",
              "      <td>1999-11-03</td>\n",
              "      <td>199911</td>\n",
              "    </tr>\n",
              "    <tr>\n",
              "      <th>1999-11-04</th>\n",
              "      <td>92.31</td>\n",
              "      <td>92.75</td>\n",
              "      <td>90.31</td>\n",
              "      <td>91.75</td>\n",
              "      <td>29.077998</td>\n",
              "      <td>27119700.0</td>\n",
              "      <td>0.0</td>\n",
              "      <td>1.0</td>\n",
              "      <td>MSFT</td>\n",
              "      <td>-0.002717</td>\n",
              "      <td>-0.002721</td>\n",
              "      <td>1999-11-04</td>\n",
              "      <td>199911</td>\n",
              "    </tr>\n",
              "    <tr>\n",
              "      <th>1999-11-05</th>\n",
              "      <td>91.81</td>\n",
              "      <td>92.87</td>\n",
              "      <td>90.50</td>\n",
              "      <td>91.56</td>\n",
              "      <td>29.017782</td>\n",
              "      <td>35083700.0</td>\n",
              "      <td>0.0</td>\n",
              "      <td>1.0</td>\n",
              "      <td>MSFT</td>\n",
              "      <td>-0.002071</td>\n",
              "      <td>-0.002073</td>\n",
              "      <td>1999-11-05</td>\n",
              "      <td>199911</td>\n",
              "    </tr>\n",
              "  </tbody>\n",
              "</table>\n",
              "</div>"
            ],
            "text/plain": [
              "            1. open  2. high  3. low  ...  lnReturns       date  YearMonth\n",
              "date                                  ...                                 \n",
              "1999-11-01    93.25    94.19   92.12  ...        NaN 1999-11-01     199911\n",
              "1999-11-02    92.75    94.50   91.94  ...   0.002055 1999-11-02     199911\n",
              "1999-11-03    92.94    93.50   91.50  ...  -0.006069 1999-11-03     199911\n",
              "1999-11-04    92.31    92.75   90.31  ...  -0.002721 1999-11-04     199911\n",
              "1999-11-05    91.81    92.87   90.50  ...  -0.002073 1999-11-05     199911\n",
              "\n",
              "[5 rows x 13 columns]"
            ]
          },
          "metadata": {},
          "execution_count": 17
        }
      ]
    },
    {
      "cell_type": "markdown",
      "metadata": {
        "id": "UWiiXzFQ72qb"
      },
      "source": [
        "3-2. Create Monthly Returns"
      ]
    },
    {
      "cell_type": "code",
      "metadata": {
        "id": "Rvby20OQhX18",
        "colab": {
          "base_uri": "https://localhost:8080/"
        },
        "outputId": "d8d12bac-841a-4343-d48f-a47c03d6cfb8"
      },
      "source": [
        "monthlyStockReturns = stockReturnDF.groupby(['ticker', 'YearMonth'])['lnReturns'].sum()\n",
        "monthlyStockReturns.head()"
      ],
      "execution_count": null,
      "outputs": [
        {
          "output_type": "execute_result",
          "data": {
            "text/plain": [
              "ticker  YearMonth\n",
              "MSFT    199911      -0.014393\n",
              "        199912       0.248626\n",
              "        200001      -0.176395\n",
              "        200002      -0.090855\n",
              "        200003       0.173010\n",
              "Name: lnReturns, dtype: float64"
            ]
          },
          "metadata": {},
          "execution_count": 18
        }
      ]
    },
    {
      "cell_type": "markdown",
      "metadata": {
        "id": "WX00a0qGhA-m"
      },
      "source": [
        "============================================================================================================================================================================================="
      ]
    },
    {
      "cell_type": "markdown",
      "metadata": {
        "id": "zyusGvJWyL2N"
      },
      "source": [
        "Part 4. Creating the Final Merged Dataset\n",
        "\n",
        "4-1. Merge Monthly Stock Returns with FF\n"
      ]
    },
    {
      "cell_type": "code",
      "metadata": {
        "id": "rE-wyOdllEjk"
      },
      "source": [
        "monthlyStockReturnsDF  = monthlyStockReturns.to_frame()\n",
        "monthlyStockReturnsDF['ticker'] = monthlyStockReturnsDF.index.get_level_values('ticker') "
      ],
      "execution_count": null,
      "outputs": []
    },
    {
      "cell_type": "code",
      "metadata": {
        "id": "FVOExwZzlTOD",
        "colab": {
          "base_uri": "https://localhost:8080/",
          "height": 452
        },
        "outputId": "acb0a3ee-adf3-4b8a-85d3-6d91b58d26c6"
      },
      "source": [
        "monthlyStockReturnsDF.head(12)"
      ],
      "execution_count": null,
      "outputs": [
        {
          "output_type": "execute_result",
          "data": {
            "text/html": [
              "<div>\n",
              "<style scoped>\n",
              "    .dataframe tbody tr th:only-of-type {\n",
              "        vertical-align: middle;\n",
              "    }\n",
              "\n",
              "    .dataframe tbody tr th {\n",
              "        vertical-align: top;\n",
              "    }\n",
              "\n",
              "    .dataframe thead th {\n",
              "        text-align: right;\n",
              "    }\n",
              "</style>\n",
              "<table border=\"1\" class=\"dataframe\">\n",
              "  <thead>\n",
              "    <tr style=\"text-align: right;\">\n",
              "      <th></th>\n",
              "      <th></th>\n",
              "      <th>lnReturns</th>\n",
              "      <th>ticker</th>\n",
              "    </tr>\n",
              "    <tr>\n",
              "      <th>ticker</th>\n",
              "      <th>YearMonth</th>\n",
              "      <th></th>\n",
              "      <th></th>\n",
              "    </tr>\n",
              "  </thead>\n",
              "  <tbody>\n",
              "    <tr>\n",
              "      <th rowspan=\"12\" valign=\"top\">MSFT</th>\n",
              "      <th>199911</th>\n",
              "      <td>-1.439344e-02</td>\n",
              "      <td>MSFT</td>\n",
              "    </tr>\n",
              "    <tr>\n",
              "      <th>199912</th>\n",
              "      <td>2.486261e-01</td>\n",
              "      <td>MSFT</td>\n",
              "    </tr>\n",
              "    <tr>\n",
              "      <th>200001</th>\n",
              "      <td>-1.763948e-01</td>\n",
              "      <td>MSFT</td>\n",
              "    </tr>\n",
              "    <tr>\n",
              "      <th>200002</th>\n",
              "      <td>-9.085501e-02</td>\n",
              "      <td>MSFT</td>\n",
              "    </tr>\n",
              "    <tr>\n",
              "      <th>200003</th>\n",
              "      <td>1.730098e-01</td>\n",
              "      <td>MSFT</td>\n",
              "    </tr>\n",
              "    <tr>\n",
              "      <th>200004</th>\n",
              "      <td>-4.208774e-01</td>\n",
              "      <td>MSFT</td>\n",
              "    </tr>\n",
              "    <tr>\n",
              "      <th>200005</th>\n",
              "      <td>-1.087913e-01</td>\n",
              "      <td>MSFT</td>\n",
              "    </tr>\n",
              "    <tr>\n",
              "      <th>200006</th>\n",
              "      <td>2.459005e-01</td>\n",
              "      <td>MSFT</td>\n",
              "    </tr>\n",
              "    <tr>\n",
              "      <th>200007</th>\n",
              "      <td>-1.362494e-01</td>\n",
              "      <td>MSFT</td>\n",
              "    </tr>\n",
              "    <tr>\n",
              "      <th>200008</th>\n",
              "      <td>-2.675811e-16</td>\n",
              "      <td>MSFT</td>\n",
              "    </tr>\n",
              "    <tr>\n",
              "      <th>200009</th>\n",
              "      <td>-1.462793e-01</td>\n",
              "      <td>MSFT</td>\n",
              "    </tr>\n",
              "    <tr>\n",
              "      <th>200010</th>\n",
              "      <td>1.327227e-01</td>\n",
              "      <td>MSFT</td>\n",
              "    </tr>\n",
              "  </tbody>\n",
              "</table>\n",
              "</div>"
            ],
            "text/plain": [
              "                     lnReturns ticker\n",
              "ticker YearMonth                     \n",
              "MSFT   199911    -1.439344e-02   MSFT\n",
              "       199912     2.486261e-01   MSFT\n",
              "       200001    -1.763948e-01   MSFT\n",
              "       200002    -9.085501e-02   MSFT\n",
              "       200003     1.730098e-01   MSFT\n",
              "       200004    -4.208774e-01   MSFT\n",
              "       200005    -1.087913e-01   MSFT\n",
              "       200006     2.459005e-01   MSFT\n",
              "       200007    -1.362494e-01   MSFT\n",
              "       200008    -2.675811e-16   MSFT\n",
              "       200009    -1.462793e-01   MSFT\n",
              "       200010     1.327227e-01   MSFT"
            ]
          },
          "metadata": {},
          "execution_count": 20
        }
      ]
    },
    {
      "cell_type": "code",
      "metadata": {
        "id": "LMacHcmiyOAn"
      },
      "source": [
        "mergedDf = monthlyStockReturnsDF.merge(ffDF, on='YearMonth')"
      ],
      "execution_count": null,
      "outputs": []
    },
    {
      "cell_type": "code",
      "metadata": {
        "id": "ASNBWRLllNF6",
        "colab": {
          "base_uri": "https://localhost:8080/",
          "height": 204
        },
        "outputId": "5d95a57d-07d2-4ba2-8eca-33936134b8cc"
      },
      "source": [
        "mergedDf.head()"
      ],
      "execution_count": null,
      "outputs": [
        {
          "output_type": "execute_result",
          "data": {
            "text/html": [
              "<div>\n",
              "<style scoped>\n",
              "    .dataframe tbody tr th:only-of-type {\n",
              "        vertical-align: middle;\n",
              "    }\n",
              "\n",
              "    .dataframe tbody tr th {\n",
              "        vertical-align: top;\n",
              "    }\n",
              "\n",
              "    .dataframe thead th {\n",
              "        text-align: right;\n",
              "    }\n",
              "</style>\n",
              "<table border=\"1\" class=\"dataframe\">\n",
              "  <thead>\n",
              "    <tr style=\"text-align: right;\">\n",
              "      <th></th>\n",
              "      <th>YearMonth</th>\n",
              "      <th>lnReturns</th>\n",
              "      <th>ticker</th>\n",
              "      <th>Unnamed: 0</th>\n",
              "      <th>Mkt-RF</th>\n",
              "      <th>SMB</th>\n",
              "      <th>HML</th>\n",
              "      <th>RF</th>\n",
              "      <th>MktRF</th>\n",
              "    </tr>\n",
              "  </thead>\n",
              "  <tbody>\n",
              "    <tr>\n",
              "      <th>0</th>\n",
              "      <td>199911</td>\n",
              "      <td>-0.014393</td>\n",
              "      <td>MSFT</td>\n",
              "      <td>199911</td>\n",
              "      <td>3.37</td>\n",
              "      <td>0.0722</td>\n",
              "      <td>-0.0616</td>\n",
              "      <td>0.0036</td>\n",
              "      <td>0.0337</td>\n",
              "    </tr>\n",
              "    <tr>\n",
              "      <th>1</th>\n",
              "      <td>199912</td>\n",
              "      <td>0.248626</td>\n",
              "      <td>MSFT</td>\n",
              "      <td>199912</td>\n",
              "      <td>7.72</td>\n",
              "      <td>0.0699</td>\n",
              "      <td>-0.0832</td>\n",
              "      <td>0.0044</td>\n",
              "      <td>0.0772</td>\n",
              "    </tr>\n",
              "    <tr>\n",
              "      <th>2</th>\n",
              "      <td>200001</td>\n",
              "      <td>-0.176395</td>\n",
              "      <td>MSFT</td>\n",
              "      <td>200001</td>\n",
              "      <td>-4.74</td>\n",
              "      <td>0.0579</td>\n",
              "      <td>-0.0189</td>\n",
              "      <td>0.0041</td>\n",
              "      <td>-0.0474</td>\n",
              "    </tr>\n",
              "    <tr>\n",
              "      <th>3</th>\n",
              "      <td>200002</td>\n",
              "      <td>-0.090855</td>\n",
              "      <td>MSFT</td>\n",
              "      <td>200002</td>\n",
              "      <td>2.45</td>\n",
              "      <td>0.2148</td>\n",
              "      <td>-0.0981</td>\n",
              "      <td>0.0043</td>\n",
              "      <td>0.0245</td>\n",
              "    </tr>\n",
              "    <tr>\n",
              "      <th>4</th>\n",
              "      <td>200003</td>\n",
              "      <td>0.173010</td>\n",
              "      <td>MSFT</td>\n",
              "      <td>200003</td>\n",
              "      <td>5.20</td>\n",
              "      <td>-0.1729</td>\n",
              "      <td>0.0823</td>\n",
              "      <td>0.0047</td>\n",
              "      <td>0.0520</td>\n",
              "    </tr>\n",
              "  </tbody>\n",
              "</table>\n",
              "</div>"
            ],
            "text/plain": [
              "  YearMonth  lnReturns ticker Unnamed: 0  ...     SMB     HML      RF   MktRF\n",
              "0    199911  -0.014393   MSFT     199911  ...  0.0722 -0.0616  0.0036  0.0337\n",
              "1    199912   0.248626   MSFT     199912  ...  0.0699 -0.0832  0.0044  0.0772\n",
              "2    200001  -0.176395   MSFT     200001  ...  0.0579 -0.0189  0.0041 -0.0474\n",
              "3    200002  -0.090855   MSFT     200002  ...  0.2148 -0.0981  0.0043  0.0245\n",
              "4    200003   0.173010   MSFT     200003  ... -0.1729  0.0823  0.0047  0.0520\n",
              "\n",
              "[5 rows x 9 columns]"
            ]
          },
          "metadata": {},
          "execution_count": 22
        }
      ]
    },
    {
      "cell_type": "code",
      "metadata": {
        "id": "D9KAfyjDhRM0"
      },
      "source": [
        "mergedDf['YearMonthNumeric'] = pd.to_numeric(mergedDf['YearMonth'])"
      ],
      "execution_count": null,
      "outputs": []
    },
    {
      "cell_type": "code",
      "metadata": {
        "id": "w9aX12_chR5Z",
        "colab": {
          "base_uri": "https://localhost:8080/",
          "height": 204
        },
        "outputId": "2ade73ed-e469-4a0b-ee79-f412bbc59a12"
      },
      "source": [
        "mergedDf.head()"
      ],
      "execution_count": null,
      "outputs": [
        {
          "output_type": "execute_result",
          "data": {
            "text/html": [
              "<div>\n",
              "<style scoped>\n",
              "    .dataframe tbody tr th:only-of-type {\n",
              "        vertical-align: middle;\n",
              "    }\n",
              "\n",
              "    .dataframe tbody tr th {\n",
              "        vertical-align: top;\n",
              "    }\n",
              "\n",
              "    .dataframe thead th {\n",
              "        text-align: right;\n",
              "    }\n",
              "</style>\n",
              "<table border=\"1\" class=\"dataframe\">\n",
              "  <thead>\n",
              "    <tr style=\"text-align: right;\">\n",
              "      <th></th>\n",
              "      <th>YearMonth</th>\n",
              "      <th>lnReturns</th>\n",
              "      <th>ticker</th>\n",
              "      <th>Unnamed: 0</th>\n",
              "      <th>Mkt-RF</th>\n",
              "      <th>SMB</th>\n",
              "      <th>HML</th>\n",
              "      <th>RF</th>\n",
              "      <th>MktRF</th>\n",
              "      <th>YearMonthNumeric</th>\n",
              "    </tr>\n",
              "  </thead>\n",
              "  <tbody>\n",
              "    <tr>\n",
              "      <th>0</th>\n",
              "      <td>199911</td>\n",
              "      <td>-0.014393</td>\n",
              "      <td>MSFT</td>\n",
              "      <td>199911</td>\n",
              "      <td>3.37</td>\n",
              "      <td>0.0722</td>\n",
              "      <td>-0.0616</td>\n",
              "      <td>0.0036</td>\n",
              "      <td>0.0337</td>\n",
              "      <td>199911</td>\n",
              "    </tr>\n",
              "    <tr>\n",
              "      <th>1</th>\n",
              "      <td>199912</td>\n",
              "      <td>0.248626</td>\n",
              "      <td>MSFT</td>\n",
              "      <td>199912</td>\n",
              "      <td>7.72</td>\n",
              "      <td>0.0699</td>\n",
              "      <td>-0.0832</td>\n",
              "      <td>0.0044</td>\n",
              "      <td>0.0772</td>\n",
              "      <td>199912</td>\n",
              "    </tr>\n",
              "    <tr>\n",
              "      <th>2</th>\n",
              "      <td>200001</td>\n",
              "      <td>-0.176395</td>\n",
              "      <td>MSFT</td>\n",
              "      <td>200001</td>\n",
              "      <td>-4.74</td>\n",
              "      <td>0.0579</td>\n",
              "      <td>-0.0189</td>\n",
              "      <td>0.0041</td>\n",
              "      <td>-0.0474</td>\n",
              "      <td>200001</td>\n",
              "    </tr>\n",
              "    <tr>\n",
              "      <th>3</th>\n",
              "      <td>200002</td>\n",
              "      <td>-0.090855</td>\n",
              "      <td>MSFT</td>\n",
              "      <td>200002</td>\n",
              "      <td>2.45</td>\n",
              "      <td>0.2148</td>\n",
              "      <td>-0.0981</td>\n",
              "      <td>0.0043</td>\n",
              "      <td>0.0245</td>\n",
              "      <td>200002</td>\n",
              "    </tr>\n",
              "    <tr>\n",
              "      <th>4</th>\n",
              "      <td>200003</td>\n",
              "      <td>0.173010</td>\n",
              "      <td>MSFT</td>\n",
              "      <td>200003</td>\n",
              "      <td>5.20</td>\n",
              "      <td>-0.1729</td>\n",
              "      <td>0.0823</td>\n",
              "      <td>0.0047</td>\n",
              "      <td>0.0520</td>\n",
              "      <td>200003</td>\n",
              "    </tr>\n",
              "  </tbody>\n",
              "</table>\n",
              "</div>"
            ],
            "text/plain": [
              "  YearMonth  lnReturns ticker  ...      RF   MktRF  YearMonthNumeric\n",
              "0    199911  -0.014393   MSFT  ...  0.0036  0.0337            199911\n",
              "1    199912   0.248626   MSFT  ...  0.0044  0.0772            199912\n",
              "2    200001  -0.176395   MSFT  ...  0.0041 -0.0474            200001\n",
              "3    200002  -0.090855   MSFT  ...  0.0043  0.0245            200002\n",
              "4    200003   0.173010   MSFT  ...  0.0047  0.0520            200003\n",
              "\n",
              "[5 rows x 10 columns]"
            ]
          },
          "metadata": {},
          "execution_count": 24
        }
      ]
    },
    {
      "cell_type": "markdown",
      "metadata": {
        "id": "abNo0OMn23to"
      },
      "source": [
        "4-2. Backing Up data"
      ]
    },
    {
      "cell_type": "code",
      "metadata": {
        "id": "rtUbLjRpknje"
      },
      "source": [
        "from google.colab import files\n",
        "\n",
        "#stockReturnDict['MMM']\n",
        "\n",
        "#stockReturnDF.to_csv(\"/tmp/stockReturnDf_20.csv\")\n",
        "#time.sleep(10)\n",
        "#files.download(\"/tmp/stockReturnDf_20.csv\")\n",
        "\n",
        "#mergedDf.to_csv(\"/tmp/mergedDf_20.csv\")\n",
        "#time.sleep(10)\n",
        "#files.download(\"/tmp/mergedDf_20.csv\")\n",
        "#stockReturnDF.head()\n"
      ],
      "execution_count": null,
      "outputs": []
    },
    {
      "cell_type": "code",
      "metadata": {
        "id": "LChoIVQsgOni"
      },
      "source": [
        " "
      ],
      "execution_count": null,
      "outputs": []
    },
    {
      "cell_type": "code",
      "metadata": {
        "id": "7VvPkQ6_5Srf"
      },
      "source": [
        "#\"\"\"\n",
        "from google.colab import files\n",
        "\n",
        "#files.upload()\n",
        "#files.upload()\n",
        " \n",
        "#\"\"\""
      ],
      "execution_count": null,
      "outputs": []
    },
    {
      "cell_type": "code",
      "metadata": {
        "id": "jysu7QV4vAYK"
      },
      "source": [
        "\n",
        "#data2 = pd.read_csv(\"stockReturnDf_21.csv\")\n",
        "#data2.head()\n",
        "#stockReturnDF = data2\n",
        "\n",
        "#data3 = pd.read_csv(\"mergedDf_21.csv\")\n",
        "#data3.head()\n",
        "#mergedDf = data3"
      ],
      "execution_count": null,
      "outputs": []
    },
    {
      "cell_type": "code",
      "metadata": {
        "id": "Nvbw0_O6vJSA",
        "colab": {
          "base_uri": "https://localhost:8080/",
          "height": 374
        },
        "outputId": "fe64673a-e9c9-4bc9-9800-d1c1f2bb5417"
      },
      "source": [
        "stockReturnDF.head()"
      ],
      "execution_count": null,
      "outputs": [
        {
          "output_type": "execute_result",
          "data": {
            "text/html": [
              "<div>\n",
              "<style scoped>\n",
              "    .dataframe tbody tr th:only-of-type {\n",
              "        vertical-align: middle;\n",
              "    }\n",
              "\n",
              "    .dataframe tbody tr th {\n",
              "        vertical-align: top;\n",
              "    }\n",
              "\n",
              "    .dataframe thead th {\n",
              "        text-align: right;\n",
              "    }\n",
              "</style>\n",
              "<table border=\"1\" class=\"dataframe\">\n",
              "  <thead>\n",
              "    <tr style=\"text-align: right;\">\n",
              "      <th></th>\n",
              "      <th>1. open</th>\n",
              "      <th>2. high</th>\n",
              "      <th>3. low</th>\n",
              "      <th>4. close</th>\n",
              "      <th>5. adjusted close</th>\n",
              "      <th>6. volume</th>\n",
              "      <th>7. dividend amount</th>\n",
              "      <th>8. split coefficient</th>\n",
              "      <th>ticker</th>\n",
              "      <th>ret</th>\n",
              "      <th>lnReturns</th>\n",
              "      <th>date</th>\n",
              "      <th>YearMonth</th>\n",
              "    </tr>\n",
              "    <tr>\n",
              "      <th>date</th>\n",
              "      <th></th>\n",
              "      <th></th>\n",
              "      <th></th>\n",
              "      <th></th>\n",
              "      <th></th>\n",
              "      <th></th>\n",
              "      <th></th>\n",
              "      <th></th>\n",
              "      <th></th>\n",
              "      <th></th>\n",
              "      <th></th>\n",
              "      <th></th>\n",
              "      <th></th>\n",
              "    </tr>\n",
              "  </thead>\n",
              "  <tbody>\n",
              "    <tr>\n",
              "      <th>1999-11-01</th>\n",
              "      <td>93.25</td>\n",
              "      <td>94.19</td>\n",
              "      <td>92.12</td>\n",
              "      <td>92.37</td>\n",
              "      <td>29.274492</td>\n",
              "      <td>26630600.0</td>\n",
              "      <td>0.0</td>\n",
              "      <td>1.0</td>\n",
              "      <td>MSFT</td>\n",
              "      <td>NaN</td>\n",
              "      <td>NaN</td>\n",
              "      <td>1999-11-01</td>\n",
              "      <td>199911</td>\n",
              "    </tr>\n",
              "    <tr>\n",
              "      <th>1999-11-02</th>\n",
              "      <td>92.75</td>\n",
              "      <td>94.50</td>\n",
              "      <td>91.94</td>\n",
              "      <td>92.56</td>\n",
              "      <td>29.334708</td>\n",
              "      <td>23174500.0</td>\n",
              "      <td>0.0</td>\n",
              "      <td>1.0</td>\n",
              "      <td>MSFT</td>\n",
              "      <td>0.002057</td>\n",
              "      <td>0.002055</td>\n",
              "      <td>1999-11-02</td>\n",
              "      <td>199911</td>\n",
              "    </tr>\n",
              "    <tr>\n",
              "      <th>1999-11-03</th>\n",
              "      <td>92.94</td>\n",
              "      <td>93.50</td>\n",
              "      <td>91.50</td>\n",
              "      <td>92.00</td>\n",
              "      <td>29.157229</td>\n",
              "      <td>22258500.0</td>\n",
              "      <td>0.0</td>\n",
              "      <td>1.0</td>\n",
              "      <td>MSFT</td>\n",
              "      <td>-0.006050</td>\n",
              "      <td>-0.006069</td>\n",
              "      <td>1999-11-03</td>\n",
              "      <td>199911</td>\n",
              "    </tr>\n",
              "    <tr>\n",
              "      <th>1999-11-04</th>\n",
              "      <td>92.31</td>\n",
              "      <td>92.75</td>\n",
              "      <td>90.31</td>\n",
              "      <td>91.75</td>\n",
              "      <td>29.077998</td>\n",
              "      <td>27119700.0</td>\n",
              "      <td>0.0</td>\n",
              "      <td>1.0</td>\n",
              "      <td>MSFT</td>\n",
              "      <td>-0.002717</td>\n",
              "      <td>-0.002721</td>\n",
              "      <td>1999-11-04</td>\n",
              "      <td>199911</td>\n",
              "    </tr>\n",
              "    <tr>\n",
              "      <th>1999-11-05</th>\n",
              "      <td>91.81</td>\n",
              "      <td>92.87</td>\n",
              "      <td>90.50</td>\n",
              "      <td>91.56</td>\n",
              "      <td>29.017782</td>\n",
              "      <td>35083700.0</td>\n",
              "      <td>0.0</td>\n",
              "      <td>1.0</td>\n",
              "      <td>MSFT</td>\n",
              "      <td>-0.002071</td>\n",
              "      <td>-0.002073</td>\n",
              "      <td>1999-11-05</td>\n",
              "      <td>199911</td>\n",
              "    </tr>\n",
              "  </tbody>\n",
              "</table>\n",
              "</div>"
            ],
            "text/plain": [
              "            1. open  2. high  3. low  ...  lnReturns       date  YearMonth\n",
              "date                                  ...                                 \n",
              "1999-11-01    93.25    94.19   92.12  ...        NaN 1999-11-01     199911\n",
              "1999-11-02    92.75    94.50   91.94  ...   0.002055 1999-11-02     199911\n",
              "1999-11-03    92.94    93.50   91.50  ...  -0.006069 1999-11-03     199911\n",
              "1999-11-04    92.31    92.75   90.31  ...  -0.002721 1999-11-04     199911\n",
              "1999-11-05    91.81    92.87   90.50  ...  -0.002073 1999-11-05     199911\n",
              "\n",
              "[5 rows x 13 columns]"
            ]
          },
          "metadata": {},
          "execution_count": 28
        }
      ]
    },
    {
      "cell_type": "code",
      "metadata": {
        "id": "d0aGKRxAvL6K",
        "colab": {
          "base_uri": "https://localhost:8080/",
          "height": 204
        },
        "outputId": "8f633cea-a96b-4c2c-cf2e-a7f6746fbadc"
      },
      "source": [
        "mergedDf.head()"
      ],
      "execution_count": null,
      "outputs": [
        {
          "output_type": "execute_result",
          "data": {
            "text/html": [
              "<div>\n",
              "<style scoped>\n",
              "    .dataframe tbody tr th:only-of-type {\n",
              "        vertical-align: middle;\n",
              "    }\n",
              "\n",
              "    .dataframe tbody tr th {\n",
              "        vertical-align: top;\n",
              "    }\n",
              "\n",
              "    .dataframe thead th {\n",
              "        text-align: right;\n",
              "    }\n",
              "</style>\n",
              "<table border=\"1\" class=\"dataframe\">\n",
              "  <thead>\n",
              "    <tr style=\"text-align: right;\">\n",
              "      <th></th>\n",
              "      <th>YearMonth</th>\n",
              "      <th>lnReturns</th>\n",
              "      <th>ticker</th>\n",
              "      <th>Unnamed: 0</th>\n",
              "      <th>Mkt-RF</th>\n",
              "      <th>SMB</th>\n",
              "      <th>HML</th>\n",
              "      <th>RF</th>\n",
              "      <th>MktRF</th>\n",
              "      <th>YearMonthNumeric</th>\n",
              "    </tr>\n",
              "  </thead>\n",
              "  <tbody>\n",
              "    <tr>\n",
              "      <th>0</th>\n",
              "      <td>199911</td>\n",
              "      <td>-0.014393</td>\n",
              "      <td>MSFT</td>\n",
              "      <td>199911</td>\n",
              "      <td>3.37</td>\n",
              "      <td>0.0722</td>\n",
              "      <td>-0.0616</td>\n",
              "      <td>0.0036</td>\n",
              "      <td>0.0337</td>\n",
              "      <td>199911</td>\n",
              "    </tr>\n",
              "    <tr>\n",
              "      <th>1</th>\n",
              "      <td>199912</td>\n",
              "      <td>0.248626</td>\n",
              "      <td>MSFT</td>\n",
              "      <td>199912</td>\n",
              "      <td>7.72</td>\n",
              "      <td>0.0699</td>\n",
              "      <td>-0.0832</td>\n",
              "      <td>0.0044</td>\n",
              "      <td>0.0772</td>\n",
              "      <td>199912</td>\n",
              "    </tr>\n",
              "    <tr>\n",
              "      <th>2</th>\n",
              "      <td>200001</td>\n",
              "      <td>-0.176395</td>\n",
              "      <td>MSFT</td>\n",
              "      <td>200001</td>\n",
              "      <td>-4.74</td>\n",
              "      <td>0.0579</td>\n",
              "      <td>-0.0189</td>\n",
              "      <td>0.0041</td>\n",
              "      <td>-0.0474</td>\n",
              "      <td>200001</td>\n",
              "    </tr>\n",
              "    <tr>\n",
              "      <th>3</th>\n",
              "      <td>200002</td>\n",
              "      <td>-0.090855</td>\n",
              "      <td>MSFT</td>\n",
              "      <td>200002</td>\n",
              "      <td>2.45</td>\n",
              "      <td>0.2148</td>\n",
              "      <td>-0.0981</td>\n",
              "      <td>0.0043</td>\n",
              "      <td>0.0245</td>\n",
              "      <td>200002</td>\n",
              "    </tr>\n",
              "    <tr>\n",
              "      <th>4</th>\n",
              "      <td>200003</td>\n",
              "      <td>0.173010</td>\n",
              "      <td>MSFT</td>\n",
              "      <td>200003</td>\n",
              "      <td>5.20</td>\n",
              "      <td>-0.1729</td>\n",
              "      <td>0.0823</td>\n",
              "      <td>0.0047</td>\n",
              "      <td>0.0520</td>\n",
              "      <td>200003</td>\n",
              "    </tr>\n",
              "  </tbody>\n",
              "</table>\n",
              "</div>"
            ],
            "text/plain": [
              "  YearMonth  lnReturns ticker  ...      RF   MktRF  YearMonthNumeric\n",
              "0    199911  -0.014393   MSFT  ...  0.0036  0.0337            199911\n",
              "1    199912   0.248626   MSFT  ...  0.0044  0.0772            199912\n",
              "2    200001  -0.176395   MSFT  ...  0.0041 -0.0474            200001\n",
              "3    200002  -0.090855   MSFT  ...  0.0043  0.0245            200002\n",
              "4    200003   0.173010   MSFT  ...  0.0047  0.0520            200003\n",
              "\n",
              "[5 rows x 10 columns]"
            ]
          },
          "metadata": {},
          "execution_count": 29
        }
      ]
    },
    {
      "cell_type": "markdown",
      "metadata": {
        "id": "FdLuDwcyyNGH"
      },
      "source": [
        "=============================================================================================================================================================================================\n"
      ]
    },
    {
      "cell_type": "markdown",
      "metadata": {
        "id": "8bDoHVYOySC_"
      },
      "source": [
        "Par 5. Run CAPM regression\n",
        "\n",
        "5-1. Basic Distribution Check\n",
        " "
      ]
    },
    {
      "cell_type": "code",
      "metadata": {
        "id": "zwamVxGaPD2y",
        "colab": {
          "base_uri": "https://localhost:8080/"
        },
        "outputId": "17f6f0e1-374b-4897-e45a-2907f13e9238"
      },
      "source": [
        "mergedDf.isnull().values.any()"
      ],
      "execution_count": null,
      "outputs": [
        {
          "output_type": "execute_result",
          "data": {
            "text/plain": [
              "False"
            ]
          },
          "metadata": {},
          "execution_count": 30
        }
      ]
    },
    {
      "cell_type": "code",
      "metadata": {
        "id": "tTPMTaWDPP4r",
        "colab": {
          "base_uri": "https://localhost:8080/",
          "height": 300
        },
        "outputId": "f54e3c74-93b6-4525-8271-f473041e6229"
      },
      "source": [
        "mergedDf['lnReturns'].hist()"
      ],
      "execution_count": null,
      "outputs": [
        {
          "output_type": "execute_result",
          "data": {
            "text/plain": [
              "<matplotlib.axes._subplots.AxesSubplot at 0x7f7518496a10>"
            ]
          },
          "metadata": {},
          "execution_count": 31
        },
        {
          "output_type": "display_data",
          "data": {
            "image/png": "[encoded data removed]",
            "text/plain": [
              "<Figure size 432x288 with 1 Axes>"
            ]
          },
          "metadata": {}
        }
      ]
    },
    {
      "cell_type": "code",
      "metadata": {
        "id": "SVpfhbrdo6NX",
        "colab": {
          "base_uri": "https://localhost:8080/",
          "height": 300
        },
        "outputId": "19aad33d-8999-4f67-9350-3f69d7725d8b"
      },
      "source": [
        "mergedDf['lnReturnsRF'] = mergedDf['lnReturns']-mergedDf['RF']\n",
        "mergedDf['lnReturnsRF'].hist()"
      ],
      "execution_count": null,
      "outputs": [
        {
          "output_type": "execute_result",
          "data": {
            "text/plain": [
              "<matplotlib.axes._subplots.AxesSubplot at 0x7f7517624e10>"
            ]
          },
          "metadata": {},
          "execution_count": 32
        },
        {
          "output_type": "display_data",
          "data": {
            "image/png": "[encoded data removed]",
            "text/plain": [
              "<Figure size 432x288 with 1 Axes>"
            ]
          },
          "metadata": {}
        }
      ]
    },
    {
      "cell_type": "code",
      "metadata": {
        "id": "OMkg2DnJohMb",
        "colab": {
          "base_uri": "https://localhost:8080/",
          "height": 300
        },
        "outputId": "4265b41b-2fb0-446a-b149-bba1c6e071c5"
      },
      "source": [
        "mergedDf['RtRF'] = np.exp(mergedDf['lnReturns'])-1-mergedDf['RF']\n",
        "mergedDf['RtRF'].hist()"
      ],
      "execution_count": null,
      "outputs": [
        {
          "output_type": "execute_result",
          "data": {
            "text/plain": [
              "<matplotlib.axes._subplots.AxesSubplot at 0x7f75175b2a10>"
            ]
          },
          "metadata": {},
          "execution_count": 33
        },
        {
          "output_type": "display_data",
          "data": {
            "image/png": "[encoded data removed]",
            "text/plain": [
              "<Figure size 432x288 with 1 Axes>"
            ]
          },
          "metadata": {}
        }
      ]
    },
    {
      "cell_type": "code",
      "metadata": {
        "id": "iQ957NE1n50t",
        "colab": {
          "base_uri": "https://localhost:8080/",
          "height": 300
        },
        "outputId": "b355df94-b96c-428e-e997-6eab9ad7dc27"
      },
      "source": [
        "\n",
        "mergedDf['MktRF'].hist()"
      ],
      "execution_count": null,
      "outputs": [
        {
          "output_type": "execute_result",
          "data": {
            "text/plain": [
              "<matplotlib.axes._subplots.AxesSubplot at 0x7f751752ef50>"
            ]
          },
          "metadata": {},
          "execution_count": 34
        },
        {
          "output_type": "display_data",
          "data": {
            "image/png": "[encoded data removed]",
            "text/plain": [
              "<Figure size 432x288 with 1 Axes>"
            ]
          },
          "metadata": {}
        }
      ]
    },
    {
      "cell_type": "code",
      "metadata": {
        "id": "659rxNnon_PB",
        "colab": {
          "base_uri": "https://localhost:8080/",
          "height": 300
        },
        "outputId": "3f5293c2-11b7-4768-9765-9ca057d20755"
      },
      "source": [
        "mergedDf['HML'].hist()"
      ],
      "execution_count": null,
      "outputs": [
        {
          "output_type": "execute_result",
          "data": {
            "text/plain": [
              "<matplotlib.axes._subplots.AxesSubplot at 0x7f75174b11d0>"
            ]
          },
          "metadata": {},
          "execution_count": 35
        },
        {
          "output_type": "display_data",
          "data": {
            "image/png": "[encoded data removed]",
            "text/plain": [
              "<Figure size 432x288 with 1 Axes>"
            ]
          },
          "metadata": {}
        }
      ]
    },
    {
      "cell_type": "code",
      "metadata": {
        "id": "x-pEAEmzoC4P",
        "colab": {
          "base_uri": "https://localhost:8080/",
          "height": 302
        },
        "outputId": "42e91568-ca40-4a5d-986d-3b240a553879"
      },
      "source": [
        "mergedDf['SMB'].hist()"
      ],
      "execution_count": null,
      "outputs": [
        {
          "output_type": "execute_result",
          "data": {
            "text/plain": [
              "<matplotlib.axes._subplots.AxesSubplot at 0x7f751747cd10>"
            ]
          },
          "metadata": {},
          "execution_count": 36
        },
        {
          "output_type": "display_data",
          "data": {
            "image/png": "[encoded data removed]",
            "text/plain": [
              "<Figure size 432x288 with 1 Axes>"
            ]
          },
          "metadata": {}
        }
      ]
    },
    {
      "cell_type": "code",
      "metadata": {
        "id": "zMhCYyIEoEr4",
        "colab": {
          "base_uri": "https://localhost:8080/",
          "height": 300
        },
        "outputId": "0024032f-b9d0-4d21-c090-c78ff68b602b"
      },
      "source": [
        "mergedDf['RF'].hist()"
      ],
      "execution_count": null,
      "outputs": [
        {
          "output_type": "execute_result",
          "data": {
            "text/plain": [
              "<matplotlib.axes._subplots.AxesSubplot at 0x7f75173ad750>"
            ]
          },
          "metadata": {},
          "execution_count": 37
        },
        {
          "output_type": "display_data",
          "data": {
            "image/png": "[encoded data removed]",
            "text/plain": [
              "<Figure size 432x288 with 1 Axes>"
            ]
          },
          "metadata": {}
        }
      ]
    },
    {
      "cell_type": "code",
      "metadata": {
        "id": "EysvJMaHPRUb",
        "colab": {
          "base_uri": "https://localhost:8080/",
          "height": 304
        },
        "outputId": "0dea772d-aa93-4b79-a9c5-0a15206beabc"
      },
      "source": [
        " plt.scatter(mergedDf['lnReturnsRF'], mergedDf['MktRF'])"
      ],
      "execution_count": null,
      "outputs": [
        {
          "output_type": "execute_result",
          "data": {
            "text/plain": [
              "<matplotlib.collections.PathCollection at 0x7f75172eef90>"
            ]
          },
          "metadata": {},
          "execution_count": 38
        },
        {
          "output_type": "display_data",
          "data": {
            "image/png": "[encoded data removed]",
            "text/plain": [
              "<Figure size 432x288 with 1 Axes>"
            ]
          },
          "metadata": {}
        }
      ]
    },
    {
      "cell_type": "code",
      "metadata": {
        "id": "HTZkrTUxPXja",
        "colab": {
          "base_uri": "https://localhost:8080/",
          "height": 300
        },
        "outputId": "cb5f882c-6b1a-47ab-a62f-173e995f4037"
      },
      "source": [
        " plt.scatter(mergedDf['lnReturnsRF'], mergedDf['SMB'])"
      ],
      "execution_count": null,
      "outputs": [
        {
          "output_type": "execute_result",
          "data": {
            "text/plain": [
              "<matplotlib.collections.PathCollection at 0x7f75172bb7d0>"
            ]
          },
          "metadata": {},
          "execution_count": 39
        },
        {
          "output_type": "display_data",
          "data": {
            "image/png": "[encoded data removed]",
            "text/plain": [
              "<Figure size 432x288 with 1 Axes>"
            ]
          },
          "metadata": {}
        }
      ]
    },
    {
      "cell_type": "code",
      "metadata": {
        "id": "jeHYb-PCPY2q",
        "colab": {
          "base_uri": "https://localhost:8080/",
          "height": 300
        },
        "outputId": "c306229c-e8a7-4b3f-c6ff-5d73c836d4dc"
      },
      "source": [
        " plt.scatter(mergedDf['lnReturnsRF'], mergedDf['HML'])"
      ],
      "execution_count": null,
      "outputs": [
        {
          "output_type": "execute_result",
          "data": {
            "text/plain": [
              "<matplotlib.collections.PathCollection at 0x7f75175ba4d0>"
            ]
          },
          "metadata": {},
          "execution_count": 40
        },
        {
          "output_type": "display_data",
          "data": {
            "image/png": "[encoded data removed]",
            "text/plain": [
              "<Figure size 432x288 with 1 Axes>"
            ]
          },
          "metadata": {}
        }
      ]
    },
    {
      "cell_type": "markdown",
      "metadata": {
        "id": "3qRHeXw_3cOq"
      },
      "source": [
        " - For 36 month rolling \n",
        " - Remember to run regression for each ticker!\n"
      ]
    },
    {
      "cell_type": "code",
      "metadata": {
        "id": "tq5A-O20okd2"
      },
      "source": [
        " \n",
        "mergedDf2_MSFT= mergedDf.loc[ (mergedDf['ticker'] =='MSFT')]\n",
        "mergedDf2_MSFT_2021 = mergedDf.loc[(mergedDf['YearMonthNumeric'] >=201810) & (mergedDf['YearMonthNumeric'] <202110)& (mergedDf['ticker'] =='MSFT')]\n",
        "\n"
      ],
      "execution_count": null,
      "outputs": []
    },
    {
      "cell_type": "code",
      "metadata": {
        "id": "6offGAoD1VtQ",
        "colab": {
          "base_uri": "https://localhost:8080/",
          "height": 456
        },
        "outputId": "ee13f1ac-1927-48a3-b260-03e6cadde0c2"
      },
      "source": [
        "mergedDf2_MSFT"
      ],
      "execution_count": null,
      "outputs": [
        {
          "output_type": "execute_result",
          "data": {
            "text/html": [
              "<div>\n",
              "<style scoped>\n",
              "    .dataframe tbody tr th:only-of-type {\n",
              "        vertical-align: middle;\n",
              "    }\n",
              "\n",
              "    .dataframe tbody tr th {\n",
              "        vertical-align: top;\n",
              "    }\n",
              "\n",
              "    .dataframe thead th {\n",
              "        text-align: right;\n",
              "    }\n",
              "</style>\n",
              "<table border=\"1\" class=\"dataframe\">\n",
              "  <thead>\n",
              "    <tr style=\"text-align: right;\">\n",
              "      <th></th>\n",
              "      <th>YearMonth</th>\n",
              "      <th>lnReturns</th>\n",
              "      <th>ticker</th>\n",
              "      <th>Unnamed: 0</th>\n",
              "      <th>Mkt-RF</th>\n",
              "      <th>SMB</th>\n",
              "      <th>HML</th>\n",
              "      <th>RF</th>\n",
              "      <th>MktRF</th>\n",
              "      <th>YearMonthNumeric</th>\n",
              "      <th>lnReturnsRF</th>\n",
              "      <th>RtRF</th>\n",
              "    </tr>\n",
              "  </thead>\n",
              "  <tbody>\n",
              "    <tr>\n",
              "      <th>0</th>\n",
              "      <td>199911</td>\n",
              "      <td>-0.014393</td>\n",
              "      <td>MSFT</td>\n",
              "      <td>199911</td>\n",
              "      <td>3.37</td>\n",
              "      <td>0.0722</td>\n",
              "      <td>-0.0616</td>\n",
              "      <td>0.0036</td>\n",
              "      <td>0.0337</td>\n",
              "      <td>199911</td>\n",
              "      <td>-0.017993</td>\n",
              "      <td>-0.017890</td>\n",
              "    </tr>\n",
              "    <tr>\n",
              "      <th>1</th>\n",
              "      <td>199912</td>\n",
              "      <td>0.248626</td>\n",
              "      <td>MSFT</td>\n",
              "      <td>199912</td>\n",
              "      <td>7.72</td>\n",
              "      <td>0.0699</td>\n",
              "      <td>-0.0832</td>\n",
              "      <td>0.0044</td>\n",
              "      <td>0.0772</td>\n",
              "      <td>199912</td>\n",
              "      <td>0.244226</td>\n",
              "      <td>0.277862</td>\n",
              "    </tr>\n",
              "    <tr>\n",
              "      <th>2</th>\n",
              "      <td>200001</td>\n",
              "      <td>-0.176395</td>\n",
              "      <td>MSFT</td>\n",
              "      <td>200001</td>\n",
              "      <td>-4.74</td>\n",
              "      <td>0.0579</td>\n",
              "      <td>-0.0189</td>\n",
              "      <td>0.0041</td>\n",
              "      <td>-0.0474</td>\n",
              "      <td>200001</td>\n",
              "      <td>-0.180495</td>\n",
              "      <td>-0.165813</td>\n",
              "    </tr>\n",
              "    <tr>\n",
              "      <th>3</th>\n",
              "      <td>200002</td>\n",
              "      <td>-0.090855</td>\n",
              "      <td>MSFT</td>\n",
              "      <td>200002</td>\n",
              "      <td>2.45</td>\n",
              "      <td>0.2148</td>\n",
              "      <td>-0.0981</td>\n",
              "      <td>0.0043</td>\n",
              "      <td>0.0245</td>\n",
              "      <td>200002</td>\n",
              "      <td>-0.095155</td>\n",
              "      <td>-0.091150</td>\n",
              "    </tr>\n",
              "    <tr>\n",
              "      <th>4</th>\n",
              "      <td>200003</td>\n",
              "      <td>0.173010</td>\n",
              "      <td>MSFT</td>\n",
              "      <td>200003</td>\n",
              "      <td>5.20</td>\n",
              "      <td>-0.1729</td>\n",
              "      <td>0.0823</td>\n",
              "      <td>0.0047</td>\n",
              "      <td>0.0520</td>\n",
              "      <td>200003</td>\n",
              "      <td>0.168310</td>\n",
              "      <td>0.184178</td>\n",
              "    </tr>\n",
              "    <tr>\n",
              "      <th>...</th>\n",
              "      <td>...</td>\n",
              "      <td>...</td>\n",
              "      <td>...</td>\n",
              "      <td>...</td>\n",
              "      <td>...</td>\n",
              "      <td>...</td>\n",
              "      <td>...</td>\n",
              "      <td>...</td>\n",
              "      <td>...</td>\n",
              "      <td>...</td>\n",
              "      <td>...</td>\n",
              "      <td>...</td>\n",
              "    </tr>\n",
              "    <tr>\n",
              "      <th>258</th>\n",
              "      <td>202105</td>\n",
              "      <td>-0.007662</td>\n",
              "      <td>MSFT</td>\n",
              "      <td>202105</td>\n",
              "      <td>0.29</td>\n",
              "      <td>-0.0028</td>\n",
              "      <td>0.0704</td>\n",
              "      <td>0.0000</td>\n",
              "      <td>0.0029</td>\n",
              "      <td>202105</td>\n",
              "      <td>-0.007662</td>\n",
              "      <td>-0.007633</td>\n",
              "    </tr>\n",
              "    <tr>\n",
              "      <th>259</th>\n",
              "      <td>202106</td>\n",
              "      <td>0.081570</td>\n",
              "      <td>MSFT</td>\n",
              "      <td>202106</td>\n",
              "      <td>2.75</td>\n",
              "      <td>0.0180</td>\n",
              "      <td>-0.0776</td>\n",
              "      <td>0.0000</td>\n",
              "      <td>0.0275</td>\n",
              "      <td>202106</td>\n",
              "      <td>0.081570</td>\n",
              "      <td>0.084989</td>\n",
              "    </tr>\n",
              "    <tr>\n",
              "      <th>260</th>\n",
              "      <td>202107</td>\n",
              "      <td>0.050424</td>\n",
              "      <td>MSFT</td>\n",
              "      <td>202107</td>\n",
              "      <td>1.27</td>\n",
              "      <td>-0.0396</td>\n",
              "      <td>-0.0175</td>\n",
              "      <td>0.0000</td>\n",
              "      <td>0.0127</td>\n",
              "      <td>202107</td>\n",
              "      <td>0.050424</td>\n",
              "      <td>0.051717</td>\n",
              "    </tr>\n",
              "    <tr>\n",
              "      <th>261</th>\n",
              "      <td>202108</td>\n",
              "      <td>0.059781</td>\n",
              "      <td>MSFT</td>\n",
              "      <td>202108</td>\n",
              "      <td>2.90</td>\n",
              "      <td>-0.0048</td>\n",
              "      <td>-0.0013</td>\n",
              "      <td>0.0000</td>\n",
              "      <td>0.0290</td>\n",
              "      <td>202108</td>\n",
              "      <td>0.059781</td>\n",
              "      <td>0.061604</td>\n",
              "    </tr>\n",
              "    <tr>\n",
              "      <th>262</th>\n",
              "      <td>202109</td>\n",
              "      <td>-0.068406</td>\n",
              "      <td>MSFT</td>\n",
              "      <td>202109</td>\n",
              "      <td>-4.37</td>\n",
              "      <td>0.0080</td>\n",
              "      <td>0.0509</td>\n",
              "      <td>0.0000</td>\n",
              "      <td>-0.0437</td>\n",
              "      <td>202109</td>\n",
              "      <td>-0.068406</td>\n",
              "      <td>-0.066119</td>\n",
              "    </tr>\n",
              "  </tbody>\n",
              "</table>\n",
              "<p>263 rows × 12 columns</p>\n",
              "</div>"
            ],
            "text/plain": [
              "    YearMonth  lnReturns ticker  ... YearMonthNumeric lnReturnsRF      RtRF\n",
              "0      199911  -0.014393   MSFT  ...           199911   -0.017993 -0.017890\n",
              "1      199912   0.248626   MSFT  ...           199912    0.244226  0.277862\n",
              "2      200001  -0.176395   MSFT  ...           200001   -0.180495 -0.165813\n",
              "3      200002  -0.090855   MSFT  ...           200002   -0.095155 -0.091150\n",
              "4      200003   0.173010   MSFT  ...           200003    0.168310  0.184178\n",
              "..        ...        ...    ...  ...              ...         ...       ...\n",
              "258    202105  -0.007662   MSFT  ...           202105   -0.007662 -0.007633\n",
              "259    202106   0.081570   MSFT  ...           202106    0.081570  0.084989\n",
              "260    202107   0.050424   MSFT  ...           202107    0.050424  0.051717\n",
              "261    202108   0.059781   MSFT  ...           202108    0.059781  0.061604\n",
              "262    202109  -0.068406   MSFT  ...           202109   -0.068406 -0.066119\n",
              "\n",
              "[263 rows x 12 columns]"
            ]
          },
          "metadata": {},
          "execution_count": 42
        }
      ]
    },
    {
      "cell_type": "code",
      "metadata": {
        "id": "AEdnr2vaE5Aq",
        "colab": {
          "base_uri": "https://localhost:8080/"
        },
        "outputId": "fffb8ce0-ee2d-43fa-dfd8-226e450cad38"
      },
      "source": [
        "mergedDf2_MSFT_2021.rename(columns={'lnReturns':'const'},inplace=True)"
      ],
      "execution_count": null,
      "outputs": [
        {
          "output_type": "stream",
          "name": "stderr",
          "text": [
            "/usr/local/lib/python3.7/dist-packages/pandas/core/frame.py:4308: SettingWithCopyWarning: \n",
            "A value is trying to be set on a copy of a slice from a DataFrame\n",
            "\n",
            "See the caveats in the documentation: https://pandas.pydata.org/pandas-docs/stable/user_guide/indexing.html#returning-a-view-versus-a-copy\n",
            "  errors=errors,\n"
          ]
        }
      ]
    },
    {
      "cell_type": "code",
      "metadata": {
        "colab": {
          "base_uri": "https://localhost:8080/",
          "height": 1000
        },
        "id": "lSn-_AhsSZbK",
        "outputId": "1c92fcf9-b7aa-42dc-ee36-5de81d9b6f5a"
      },
      "source": [
        "mergedDf2_MSFT_2021"
      ],
      "execution_count": null,
      "outputs": [
        {
          "output_type": "execute_result",
          "data": {
            "text/html": [
              "<div>\n",
              "<style scoped>\n",
              "    .dataframe tbody tr th:only-of-type {\n",
              "        vertical-align: middle;\n",
              "    }\n",
              "\n",
              "    .dataframe tbody tr th {\n",
              "        vertical-align: top;\n",
              "    }\n",
              "\n",
              "    .dataframe thead th {\n",
              "        text-align: right;\n",
              "    }\n",
              "</style>\n",
              "<table border=\"1\" class=\"dataframe\">\n",
              "  <thead>\n",
              "    <tr style=\"text-align: right;\">\n",
              "      <th></th>\n",
              "      <th>YearMonth</th>\n",
              "      <th>const</th>\n",
              "      <th>ticker</th>\n",
              "      <th>Unnamed: 0</th>\n",
              "      <th>Mkt-RF</th>\n",
              "      <th>SMB</th>\n",
              "      <th>HML</th>\n",
              "      <th>RF</th>\n",
              "      <th>MktRF</th>\n",
              "      <th>YearMonthNumeric</th>\n",
              "      <th>lnReturnsRF</th>\n",
              "      <th>RtRF</th>\n",
              "    </tr>\n",
              "  </thead>\n",
              "  <tbody>\n",
              "    <tr>\n",
              "      <th>227</th>\n",
              "      <td>201810</td>\n",
              "      <td>-0.068387</td>\n",
              "      <td>MSFT</td>\n",
              "      <td>201810</td>\n",
              "      <td>-7.68</td>\n",
              "      <td>-0.0482</td>\n",
              "      <td>0.0343</td>\n",
              "      <td>0.0019</td>\n",
              "      <td>-0.0768</td>\n",
              "      <td>201810</td>\n",
              "      <td>-0.070287</td>\n",
              "      <td>-0.068001</td>\n",
              "    </tr>\n",
              "    <tr>\n",
              "      <th>228</th>\n",
              "      <td>201811</td>\n",
              "      <td>0.041860</td>\n",
              "      <td>MSFT</td>\n",
              "      <td>201811</td>\n",
              "      <td>1.69</td>\n",
              "      <td>-0.0068</td>\n",
              "      <td>0.0026</td>\n",
              "      <td>0.0018</td>\n",
              "      <td>0.0169</td>\n",
              "      <td>201811</td>\n",
              "      <td>0.040060</td>\n",
              "      <td>0.040948</td>\n",
              "    </tr>\n",
              "    <tr>\n",
              "      <th>229</th>\n",
              "      <td>201812</td>\n",
              "      <td>-0.087791</td>\n",
              "      <td>MSFT</td>\n",
              "      <td>201812</td>\n",
              "      <td>-9.55</td>\n",
              "      <td>-0.0242</td>\n",
              "      <td>-0.0190</td>\n",
              "      <td>0.0019</td>\n",
              "      <td>-0.0955</td>\n",
              "      <td>201812</td>\n",
              "      <td>-0.089691</td>\n",
              "      <td>-0.085947</td>\n",
              "    </tr>\n",
              "    <tr>\n",
              "      <th>230</th>\n",
              "      <td>201901</td>\n",
              "      <td>0.027769</td>\n",
              "      <td>MSFT</td>\n",
              "      <td>201901</td>\n",
              "      <td>8.41</td>\n",
              "      <td>0.0290</td>\n",
              "      <td>-0.0044</td>\n",
              "      <td>0.0021</td>\n",
              "      <td>0.0841</td>\n",
              "      <td>201901</td>\n",
              "      <td>0.025669</td>\n",
              "      <td>0.026058</td>\n",
              "    </tr>\n",
              "    <tr>\n",
              "      <th>231</th>\n",
              "      <td>201902</td>\n",
              "      <td>0.074534</td>\n",
              "      <td>MSFT</td>\n",
              "      <td>201902</td>\n",
              "      <td>3.40</td>\n",
              "      <td>0.0204</td>\n",
              "      <td>-0.0268</td>\n",
              "      <td>0.0018</td>\n",
              "      <td>0.0340</td>\n",
              "      <td>201902</td>\n",
              "      <td>0.072734</td>\n",
              "      <td>0.075582</td>\n",
              "    </tr>\n",
              "    <tr>\n",
              "      <th>232</th>\n",
              "      <td>201903</td>\n",
              "      <td>0.051409</td>\n",
              "      <td>MSFT</td>\n",
              "      <td>201903</td>\n",
              "      <td>1.10</td>\n",
              "      <td>-0.0298</td>\n",
              "      <td>-0.0405</td>\n",
              "      <td>0.0019</td>\n",
              "      <td>0.0110</td>\n",
              "      <td>201903</td>\n",
              "      <td>0.049509</td>\n",
              "      <td>0.050854</td>\n",
              "    </tr>\n",
              "    <tr>\n",
              "      <th>233</th>\n",
              "      <td>201904</td>\n",
              "      <td>0.101963</td>\n",
              "      <td>MSFT</td>\n",
              "      <td>201904</td>\n",
              "      <td>3.96</td>\n",
              "      <td>-0.0174</td>\n",
              "      <td>0.0217</td>\n",
              "      <td>0.0021</td>\n",
              "      <td>0.0396</td>\n",
              "      <td>201904</td>\n",
              "      <td>0.099863</td>\n",
              "      <td>0.105243</td>\n",
              "    </tr>\n",
              "    <tr>\n",
              "      <th>234</th>\n",
              "      <td>201905</td>\n",
              "      <td>-0.050798</td>\n",
              "      <td>MSFT</td>\n",
              "      <td>201905</td>\n",
              "      <td>-6.94</td>\n",
              "      <td>-0.0134</td>\n",
              "      <td>-0.0237</td>\n",
              "      <td>0.0021</td>\n",
              "      <td>-0.0694</td>\n",
              "      <td>201905</td>\n",
              "      <td>-0.052898</td>\n",
              "      <td>-0.051629</td>\n",
              "    </tr>\n",
              "    <tr>\n",
              "      <th>235</th>\n",
              "      <td>201906</td>\n",
              "      <td>0.079844</td>\n",
              "      <td>MSFT</td>\n",
              "      <td>201906</td>\n",
              "      <td>6.93</td>\n",
              "      <td>0.0025</td>\n",
              "      <td>-0.0071</td>\n",
              "      <td>0.0018</td>\n",
              "      <td>0.0693</td>\n",
              "      <td>201906</td>\n",
              "      <td>0.078044</td>\n",
              "      <td>0.081318</td>\n",
              "    </tr>\n",
              "    <tr>\n",
              "      <th>236</th>\n",
              "      <td>201907</td>\n",
              "      <td>0.017097</td>\n",
              "      <td>MSFT</td>\n",
              "      <td>201907</td>\n",
              "      <td>1.19</td>\n",
              "      <td>-0.0194</td>\n",
              "      <td>0.0042</td>\n",
              "      <td>0.0019</td>\n",
              "      <td>0.0119</td>\n",
              "      <td>201907</td>\n",
              "      <td>0.015197</td>\n",
              "      <td>0.015344</td>\n",
              "    </tr>\n",
              "    <tr>\n",
              "      <th>237</th>\n",
              "      <td>201908</td>\n",
              "      <td>0.015028</td>\n",
              "      <td>MSFT</td>\n",
              "      <td>201908</td>\n",
              "      <td>-2.58</td>\n",
              "      <td>-0.0232</td>\n",
              "      <td>-0.0495</td>\n",
              "      <td>0.0016</td>\n",
              "      <td>-0.0258</td>\n",
              "      <td>201908</td>\n",
              "      <td>0.013428</td>\n",
              "      <td>0.013541</td>\n",
              "    </tr>\n",
              "    <tr>\n",
              "      <th>238</th>\n",
              "      <td>201909</td>\n",
              "      <td>0.008451</td>\n",
              "      <td>MSFT</td>\n",
              "      <td>201909</td>\n",
              "      <td>1.43</td>\n",
              "      <td>-0.0097</td>\n",
              "      <td>0.0683</td>\n",
              "      <td>0.0018</td>\n",
              "      <td>0.0143</td>\n",
              "      <td>201909</td>\n",
              "      <td>0.006651</td>\n",
              "      <td>0.006687</td>\n",
              "    </tr>\n",
              "    <tr>\n",
              "      <th>239</th>\n",
              "      <td>201910</td>\n",
              "      <td>0.030739</td>\n",
              "      <td>MSFT</td>\n",
              "      <td>201910</td>\n",
              "      <td>2.06</td>\n",
              "      <td>0.0028</td>\n",
              "      <td>-0.0193</td>\n",
              "      <td>0.0015</td>\n",
              "      <td>0.0206</td>\n",
              "      <td>201910</td>\n",
              "      <td>0.029239</td>\n",
              "      <td>0.029716</td>\n",
              "    </tr>\n",
              "    <tr>\n",
              "      <th>240</th>\n",
              "      <td>201911</td>\n",
              "      <td>0.057767</td>\n",
              "      <td>MSFT</td>\n",
              "      <td>201911</td>\n",
              "      <td>3.87</td>\n",
              "      <td>0.0080</td>\n",
              "      <td>-0.0202</td>\n",
              "      <td>0.0012</td>\n",
              "      <td>0.0387</td>\n",
              "      <td>201911</td>\n",
              "      <td>0.056567</td>\n",
              "      <td>0.058269</td>\n",
              "    </tr>\n",
              "    <tr>\n",
              "      <th>241</th>\n",
              "      <td>201912</td>\n",
              "      <td>0.040901</td>\n",
              "      <td>MSFT</td>\n",
              "      <td>201912</td>\n",
              "      <td>2.77</td>\n",
              "      <td>0.0072</td>\n",
              "      <td>0.0179</td>\n",
              "      <td>0.0014</td>\n",
              "      <td>0.0277</td>\n",
              "      <td>201912</td>\n",
              "      <td>0.039501</td>\n",
              "      <td>0.040349</td>\n",
              "    </tr>\n",
              "    <tr>\n",
              "      <th>242</th>\n",
              "      <td>202001</td>\n",
              "      <td>0.076456</td>\n",
              "      <td>MSFT</td>\n",
              "      <td>202001</td>\n",
              "      <td>-0.11</td>\n",
              "      <td>-0.0313</td>\n",
              "      <td>-0.0624</td>\n",
              "      <td>0.0013</td>\n",
              "      <td>-0.0011</td>\n",
              "      <td>202001</td>\n",
              "      <td>0.075156</td>\n",
              "      <td>0.078155</td>\n",
              "    </tr>\n",
              "    <tr>\n",
              "      <th>243</th>\n",
              "      <td>202002</td>\n",
              "      <td>-0.046773</td>\n",
              "      <td>MSFT</td>\n",
              "      <td>202002</td>\n",
              "      <td>-8.13</td>\n",
              "      <td>0.0103</td>\n",
              "      <td>-0.0379</td>\n",
              "      <td>0.0012</td>\n",
              "      <td>-0.0813</td>\n",
              "      <td>202002</td>\n",
              "      <td>-0.047973</td>\n",
              "      <td>-0.046896</td>\n",
              "    </tr>\n",
              "    <tr>\n",
              "      <th>244</th>\n",
              "      <td>202003</td>\n",
              "      <td>-0.026900</td>\n",
              "      <td>MSFT</td>\n",
              "      <td>202003</td>\n",
              "      <td>-13.38</td>\n",
              "      <td>-0.0489</td>\n",
              "      <td>-0.1402</td>\n",
              "      <td>0.0012</td>\n",
              "      <td>-0.1338</td>\n",
              "      <td>202003</td>\n",
              "      <td>-0.028100</td>\n",
              "      <td>-0.027742</td>\n",
              "    </tr>\n",
              "    <tr>\n",
              "      <th>245</th>\n",
              "      <td>202004</td>\n",
              "      <td>0.127800</td>\n",
              "      <td>MSFT</td>\n",
              "      <td>202004</td>\n",
              "      <td>13.65</td>\n",
              "      <td>0.0247</td>\n",
              "      <td>-0.0118</td>\n",
              "      <td>0.0000</td>\n",
              "      <td>0.1365</td>\n",
              "      <td>202004</td>\n",
              "      <td>0.127800</td>\n",
              "      <td>0.136326</td>\n",
              "    </tr>\n",
              "    <tr>\n",
              "      <th>246</th>\n",
              "      <td>202005</td>\n",
              "      <td>0.025036</td>\n",
              "      <td>MSFT</td>\n",
              "      <td>202005</td>\n",
              "      <td>5.58</td>\n",
              "      <td>0.0245</td>\n",
              "      <td>-0.0480</td>\n",
              "      <td>0.0001</td>\n",
              "      <td>0.0558</td>\n",
              "      <td>202005</td>\n",
              "      <td>0.024936</td>\n",
              "      <td>0.025252</td>\n",
              "    </tr>\n",
              "    <tr>\n",
              "      <th>247</th>\n",
              "      <td>202006</td>\n",
              "      <td>0.104864</td>\n",
              "      <td>MSFT</td>\n",
              "      <td>202006</td>\n",
              "      <td>2.46</td>\n",
              "      <td>0.0269</td>\n",
              "      <td>-0.0204</td>\n",
              "      <td>0.0001</td>\n",
              "      <td>0.0246</td>\n",
              "      <td>202006</td>\n",
              "      <td>0.104764</td>\n",
              "      <td>0.110459</td>\n",
              "    </tr>\n",
              "    <tr>\n",
              "      <th>248</th>\n",
              "      <td>202007</td>\n",
              "      <td>0.007344</td>\n",
              "      <td>MSFT</td>\n",
              "      <td>202007</td>\n",
              "      <td>5.77</td>\n",
              "      <td>-0.0228</td>\n",
              "      <td>-0.0153</td>\n",
              "      <td>0.0001</td>\n",
              "      <td>0.0577</td>\n",
              "      <td>202007</td>\n",
              "      <td>0.007244</td>\n",
              "      <td>0.007271</td>\n",
              "    </tr>\n",
              "    <tr>\n",
              "      <th>249</th>\n",
              "      <td>202008</td>\n",
              "      <td>0.097824</td>\n",
              "      <td>MSFT</td>\n",
              "      <td>202008</td>\n",
              "      <td>7.63</td>\n",
              "      <td>-0.0026</td>\n",
              "      <td>-0.0292</td>\n",
              "      <td>0.0001</td>\n",
              "      <td>0.0763</td>\n",
              "      <td>202008</td>\n",
              "      <td>0.097724</td>\n",
              "      <td>0.102668</td>\n",
              "    </tr>\n",
              "    <tr>\n",
              "      <th>250</th>\n",
              "      <td>202009</td>\n",
              "      <td>-0.069775</td>\n",
              "      <td>MSFT</td>\n",
              "      <td>202009</td>\n",
              "      <td>-3.63</td>\n",
              "      <td>0.0002</td>\n",
              "      <td>-0.0262</td>\n",
              "      <td>0.0001</td>\n",
              "      <td>-0.0363</td>\n",
              "      <td>202009</td>\n",
              "      <td>-0.069875</td>\n",
              "      <td>-0.067497</td>\n",
              "    </tr>\n",
              "    <tr>\n",
              "      <th>251</th>\n",
              "      <td>202010</td>\n",
              "      <td>-0.038086</td>\n",
              "      <td>MSFT</td>\n",
              "      <td>202010</td>\n",
              "      <td>-2.10</td>\n",
              "      <td>0.0441</td>\n",
              "      <td>0.0416</td>\n",
              "      <td>0.0001</td>\n",
              "      <td>-0.0210</td>\n",
              "      <td>202010</td>\n",
              "      <td>-0.038186</td>\n",
              "      <td>-0.037470</td>\n",
              "    </tr>\n",
              "    <tr>\n",
              "      <th>252</th>\n",
              "      <td>202011</td>\n",
              "      <td>0.058361</td>\n",
              "      <td>MSFT</td>\n",
              "      <td>202011</td>\n",
              "      <td>12.47</td>\n",
              "      <td>0.0565</td>\n",
              "      <td>0.0213</td>\n",
              "      <td>0.0001</td>\n",
              "      <td>0.1247</td>\n",
              "      <td>202011</td>\n",
              "      <td>0.058261</td>\n",
              "      <td>0.059997</td>\n",
              "    </tr>\n",
              "    <tr>\n",
              "      <th>253</th>\n",
              "      <td>202012</td>\n",
              "      <td>0.038264</td>\n",
              "      <td>MSFT</td>\n",
              "      <td>202012</td>\n",
              "      <td>4.63</td>\n",
              "      <td>0.0482</td>\n",
              "      <td>-0.0143</td>\n",
              "      <td>0.0001</td>\n",
              "      <td>0.0463</td>\n",
              "      <td>202012</td>\n",
              "      <td>0.038164</td>\n",
              "      <td>0.038906</td>\n",
              "    </tr>\n",
              "    <tr>\n",
              "      <th>254</th>\n",
              "      <td>202101</td>\n",
              "      <td>0.041997</td>\n",
              "      <td>MSFT</td>\n",
              "      <td>202101</td>\n",
              "      <td>-0.03</td>\n",
              "      <td>0.0712</td>\n",
              "      <td>0.0299</td>\n",
              "      <td>0.0000</td>\n",
              "      <td>-0.0003</td>\n",
              "      <td>202101</td>\n",
              "      <td>0.041997</td>\n",
              "      <td>0.042892</td>\n",
              "    </tr>\n",
              "    <tr>\n",
              "      <th>255</th>\n",
              "      <td>202102</td>\n",
              "      <td>0.004100</td>\n",
              "      <td>MSFT</td>\n",
              "      <td>202102</td>\n",
              "      <td>2.78</td>\n",
              "      <td>0.0203</td>\n",
              "      <td>0.0718</td>\n",
              "      <td>0.0000</td>\n",
              "      <td>0.0278</td>\n",
              "      <td>202102</td>\n",
              "      <td>0.004100</td>\n",
              "      <td>0.004108</td>\n",
              "    </tr>\n",
              "    <tr>\n",
              "      <th>256</th>\n",
              "      <td>202103</td>\n",
              "      <td>0.014483</td>\n",
              "      <td>MSFT</td>\n",
              "      <td>202103</td>\n",
              "      <td>3.08</td>\n",
              "      <td>-0.0241</td>\n",
              "      <td>0.0741</td>\n",
              "      <td>0.0000</td>\n",
              "      <td>0.0308</td>\n",
              "      <td>202103</td>\n",
              "      <td>0.014483</td>\n",
              "      <td>0.014588</td>\n",
              "    </tr>\n",
              "    <tr>\n",
              "      <th>257</th>\n",
              "      <td>202104</td>\n",
              "      <td>0.067286</td>\n",
              "      <td>MSFT</td>\n",
              "      <td>202104</td>\n",
              "      <td>4.93</td>\n",
              "      <td>-0.0311</td>\n",
              "      <td>-0.0093</td>\n",
              "      <td>0.0000</td>\n",
              "      <td>0.0493</td>\n",
              "      <td>202104</td>\n",
              "      <td>0.067286</td>\n",
              "      <td>0.069602</td>\n",
              "    </tr>\n",
              "    <tr>\n",
              "      <th>258</th>\n",
              "      <td>202105</td>\n",
              "      <td>-0.007662</td>\n",
              "      <td>MSFT</td>\n",
              "      <td>202105</td>\n",
              "      <td>0.29</td>\n",
              "      <td>-0.0028</td>\n",
              "      <td>0.0704</td>\n",
              "      <td>0.0000</td>\n",
              "      <td>0.0029</td>\n",
              "      <td>202105</td>\n",
              "      <td>-0.007662</td>\n",
              "      <td>-0.007633</td>\n",
              "    </tr>\n",
              "    <tr>\n",
              "      <th>259</th>\n",
              "      <td>202106</td>\n",
              "      <td>0.081570</td>\n",
              "      <td>MSFT</td>\n",
              "      <td>202106</td>\n",
              "      <td>2.75</td>\n",
              "      <td>0.0180</td>\n",
              "      <td>-0.0776</td>\n",
              "      <td>0.0000</td>\n",
              "      <td>0.0275</td>\n",
              "      <td>202106</td>\n",
              "      <td>0.081570</td>\n",
              "      <td>0.084989</td>\n",
              "    </tr>\n",
              "    <tr>\n",
              "      <th>260</th>\n",
              "      <td>202107</td>\n",
              "      <td>0.050424</td>\n",
              "      <td>MSFT</td>\n",
              "      <td>202107</td>\n",
              "      <td>1.27</td>\n",
              "      <td>-0.0396</td>\n",
              "      <td>-0.0175</td>\n",
              "      <td>0.0000</td>\n",
              "      <td>0.0127</td>\n",
              "      <td>202107</td>\n",
              "      <td>0.050424</td>\n",
              "      <td>0.051717</td>\n",
              "    </tr>\n",
              "    <tr>\n",
              "      <th>261</th>\n",
              "      <td>202108</td>\n",
              "      <td>0.059781</td>\n",
              "      <td>MSFT</td>\n",
              "      <td>202108</td>\n",
              "      <td>2.90</td>\n",
              "      <td>-0.0048</td>\n",
              "      <td>-0.0013</td>\n",
              "      <td>0.0000</td>\n",
              "      <td>0.0290</td>\n",
              "      <td>202108</td>\n",
              "      <td>0.059781</td>\n",
              "      <td>0.061604</td>\n",
              "    </tr>\n",
              "    <tr>\n",
              "      <th>262</th>\n",
              "      <td>202109</td>\n",
              "      <td>-0.068406</td>\n",
              "      <td>MSFT</td>\n",
              "      <td>202109</td>\n",
              "      <td>-4.37</td>\n",
              "      <td>0.0080</td>\n",
              "      <td>0.0509</td>\n",
              "      <td>0.0000</td>\n",
              "      <td>-0.0437</td>\n",
              "      <td>202109</td>\n",
              "      <td>-0.068406</td>\n",
              "      <td>-0.066119</td>\n",
              "    </tr>\n",
              "  </tbody>\n",
              "</table>\n",
              "</div>"
            ],
            "text/plain": [
              "    YearMonth     const ticker  ... YearMonthNumeric lnReturnsRF      RtRF\n",
              "227    201810 -0.068387   MSFT  ...           201810   -0.070287 -0.068001\n",
              "228    201811  0.041860   MSFT  ...           201811    0.040060  0.040948\n",
              "229    201812 -0.087791   MSFT  ...           201812   -0.089691 -0.085947\n",
              "230    201901  0.027769   MSFT  ...           201901    0.025669  0.026058\n",
              "231    201902  0.074534   MSFT  ...           201902    0.072734  0.075582\n",
              "232    201903  0.051409   MSFT  ...           201903    0.049509  0.050854\n",
              "233    201904  0.101963   MSFT  ...           201904    0.099863  0.105243\n",
              "234    201905 -0.050798   MSFT  ...           201905   -0.052898 -0.051629\n",
              "235    201906  0.079844   MSFT  ...           201906    0.078044  0.081318\n",
              "236    201907  0.017097   MSFT  ...           201907    0.015197  0.015344\n",
              "237    201908  0.015028   MSFT  ...           201908    0.013428  0.013541\n",
              "238    201909  0.008451   MSFT  ...           201909    0.006651  0.006687\n",
              "239    201910  0.030739   MSFT  ...           201910    0.029239  0.029716\n",
              "240    201911  0.057767   MSFT  ...           201911    0.056567  0.058269\n",
              "241    201912  0.040901   MSFT  ...           201912    0.039501  0.040349\n",
              "242    202001  0.076456   MSFT  ...           202001    0.075156  0.078155\n",
              "243    202002 -0.046773   MSFT  ...           202002   -0.047973 -0.046896\n",
              "244    202003 -0.026900   MSFT  ...           202003   -0.028100 -0.027742\n",
              "245    202004  0.127800   MSFT  ...           202004    0.127800  0.136326\n",
              "246    202005  0.025036   MSFT  ...           202005    0.024936  0.025252\n",
              "247    202006  0.104864   MSFT  ...           202006    0.104764  0.110459\n",
              "248    202007  0.007344   MSFT  ...           202007    0.007244  0.007271\n",
              "249    202008  0.097824   MSFT  ...           202008    0.097724  0.102668\n",
              "250    202009 -0.069775   MSFT  ...           202009   -0.069875 -0.067497\n",
              "251    202010 -0.038086   MSFT  ...           202010   -0.038186 -0.037470\n",
              "252    202011  0.058361   MSFT  ...           202011    0.058261  0.059997\n",
              "253    202012  0.038264   MSFT  ...           202012    0.038164  0.038906\n",
              "254    202101  0.041997   MSFT  ...           202101    0.041997  0.042892\n",
              "255    202102  0.004100   MSFT  ...           202102    0.004100  0.004108\n",
              "256    202103  0.014483   MSFT  ...           202103    0.014483  0.014588\n",
              "257    202104  0.067286   MSFT  ...           202104    0.067286  0.069602\n",
              "258    202105 -0.007662   MSFT  ...           202105   -0.007662 -0.007633\n",
              "259    202106  0.081570   MSFT  ...           202106    0.081570  0.084989\n",
              "260    202107  0.050424   MSFT  ...           202107    0.050424  0.051717\n",
              "261    202108  0.059781   MSFT  ...           202108    0.059781  0.061604\n",
              "262    202109 -0.068406   MSFT  ...           202109   -0.068406 -0.066119\n",
              "\n",
              "[36 rows x 12 columns]"
            ]
          },
          "metadata": {},
          "execution_count": 134
        }
      ]
    },
    {
      "cell_type": "code",
      "metadata": {
        "id": "83vKi9JgHu3t"
      },
      "source": [
        "result=mergedDf2_MSFT_2021[['const','MktRF','SMB','HML']]"
      ],
      "execution_count": null,
      "outputs": []
    },
    {
      "cell_type": "code",
      "metadata": {
        "colab": {
          "base_uri": "https://localhost:8080/",
          "height": 1000
        },
        "id": "8hqd3XRNSg5S",
        "outputId": "fe5db228-d3d0-4ab9-e4a5-25b81918cbd8"
      },
      "source": [
        "df"
      ],
      "execution_count": null,
      "outputs": [
        {
          "output_type": "execute_result",
          "data": {
            "text/html": [
              "<div>\n",
              "<style scoped>\n",
              "    .dataframe tbody tr th:only-of-type {\n",
              "        vertical-align: middle;\n",
              "    }\n",
              "\n",
              "    .dataframe tbody tr th {\n",
              "        vertical-align: top;\n",
              "    }\n",
              "\n",
              "    .dataframe thead th {\n",
              "        text-align: right;\n",
              "    }\n",
              "</style>\n",
              "<table border=\"1\" class=\"dataframe\">\n",
              "  <thead>\n",
              "    <tr style=\"text-align: right;\">\n",
              "      <th></th>\n",
              "      <th>const</th>\n",
              "      <th>MktRF</th>\n",
              "      <th>SMB</th>\n",
              "      <th>HML</th>\n",
              "    </tr>\n",
              "  </thead>\n",
              "  <tbody>\n",
              "    <tr>\n",
              "      <th>227</th>\n",
              "      <td>-0.068387</td>\n",
              "      <td>-0.0768</td>\n",
              "      <td>-0.0482</td>\n",
              "      <td>0.0343</td>\n",
              "    </tr>\n",
              "    <tr>\n",
              "      <th>228</th>\n",
              "      <td>0.041860</td>\n",
              "      <td>0.0169</td>\n",
              "      <td>-0.0068</td>\n",
              "      <td>0.0026</td>\n",
              "    </tr>\n",
              "    <tr>\n",
              "      <th>229</th>\n",
              "      <td>-0.087791</td>\n",
              "      <td>-0.0955</td>\n",
              "      <td>-0.0242</td>\n",
              "      <td>-0.0190</td>\n",
              "    </tr>\n",
              "    <tr>\n",
              "      <th>230</th>\n",
              "      <td>0.027769</td>\n",
              "      <td>0.0841</td>\n",
              "      <td>0.0290</td>\n",
              "      <td>-0.0044</td>\n",
              "    </tr>\n",
              "    <tr>\n",
              "      <th>231</th>\n",
              "      <td>0.074534</td>\n",
              "      <td>0.0340</td>\n",
              "      <td>0.0204</td>\n",
              "      <td>-0.0268</td>\n",
              "    </tr>\n",
              "    <tr>\n",
              "      <th>232</th>\n",
              "      <td>0.051409</td>\n",
              "      <td>0.0110</td>\n",
              "      <td>-0.0298</td>\n",
              "      <td>-0.0405</td>\n",
              "    </tr>\n",
              "    <tr>\n",
              "      <th>233</th>\n",
              "      <td>0.101963</td>\n",
              "      <td>0.0396</td>\n",
              "      <td>-0.0174</td>\n",
              "      <td>0.0217</td>\n",
              "    </tr>\n",
              "    <tr>\n",
              "      <th>234</th>\n",
              "      <td>-0.050798</td>\n",
              "      <td>-0.0694</td>\n",
              "      <td>-0.0134</td>\n",
              "      <td>-0.0237</td>\n",
              "    </tr>\n",
              "    <tr>\n",
              "      <th>235</th>\n",
              "      <td>0.079844</td>\n",
              "      <td>0.0693</td>\n",
              "      <td>0.0025</td>\n",
              "      <td>-0.0071</td>\n",
              "    </tr>\n",
              "    <tr>\n",
              "      <th>236</th>\n",
              "      <td>0.017097</td>\n",
              "      <td>0.0119</td>\n",
              "      <td>-0.0194</td>\n",
              "      <td>0.0042</td>\n",
              "    </tr>\n",
              "    <tr>\n",
              "      <th>237</th>\n",
              "      <td>0.015028</td>\n",
              "      <td>-0.0258</td>\n",
              "      <td>-0.0232</td>\n",
              "      <td>-0.0495</td>\n",
              "    </tr>\n",
              "    <tr>\n",
              "      <th>238</th>\n",
              "      <td>0.008451</td>\n",
              "      <td>0.0143</td>\n",
              "      <td>-0.0097</td>\n",
              "      <td>0.0683</td>\n",
              "    </tr>\n",
              "    <tr>\n",
              "      <th>239</th>\n",
              "      <td>0.030739</td>\n",
              "      <td>0.0206</td>\n",
              "      <td>0.0028</td>\n",
              "      <td>-0.0193</td>\n",
              "    </tr>\n",
              "    <tr>\n",
              "      <th>240</th>\n",
              "      <td>0.057767</td>\n",
              "      <td>0.0387</td>\n",
              "      <td>0.0080</td>\n",
              "      <td>-0.0202</td>\n",
              "    </tr>\n",
              "    <tr>\n",
              "      <th>241</th>\n",
              "      <td>0.040901</td>\n",
              "      <td>0.0277</td>\n",
              "      <td>0.0072</td>\n",
              "      <td>0.0179</td>\n",
              "    </tr>\n",
              "    <tr>\n",
              "      <th>242</th>\n",
              "      <td>0.076456</td>\n",
              "      <td>-0.0011</td>\n",
              "      <td>-0.0313</td>\n",
              "      <td>-0.0624</td>\n",
              "    </tr>\n",
              "    <tr>\n",
              "      <th>243</th>\n",
              "      <td>-0.046773</td>\n",
              "      <td>-0.0813</td>\n",
              "      <td>0.0103</td>\n",
              "      <td>-0.0379</td>\n",
              "    </tr>\n",
              "    <tr>\n",
              "      <th>244</th>\n",
              "      <td>-0.026900</td>\n",
              "      <td>-0.1338</td>\n",
              "      <td>-0.0489</td>\n",
              "      <td>-0.1402</td>\n",
              "    </tr>\n",
              "    <tr>\n",
              "      <th>245</th>\n",
              "      <td>0.127800</td>\n",
              "      <td>0.1365</td>\n",
              "      <td>0.0247</td>\n",
              "      <td>-0.0118</td>\n",
              "    </tr>\n",
              "    <tr>\n",
              "      <th>246</th>\n",
              "      <td>0.025036</td>\n",
              "      <td>0.0558</td>\n",
              "      <td>0.0245</td>\n",
              "      <td>-0.0480</td>\n",
              "    </tr>\n",
              "    <tr>\n",
              "      <th>247</th>\n",
              "      <td>0.104864</td>\n",
              "      <td>0.0246</td>\n",
              "      <td>0.0269</td>\n",
              "      <td>-0.0204</td>\n",
              "    </tr>\n",
              "    <tr>\n",
              "      <th>248</th>\n",
              "      <td>0.007344</td>\n",
              "      <td>0.0577</td>\n",
              "      <td>-0.0228</td>\n",
              "      <td>-0.0153</td>\n",
              "    </tr>\n",
              "    <tr>\n",
              "      <th>249</th>\n",
              "      <td>0.097824</td>\n",
              "      <td>0.0763</td>\n",
              "      <td>-0.0026</td>\n",
              "      <td>-0.0292</td>\n",
              "    </tr>\n",
              "    <tr>\n",
              "      <th>250</th>\n",
              "      <td>-0.069775</td>\n",
              "      <td>-0.0363</td>\n",
              "      <td>0.0002</td>\n",
              "      <td>-0.0262</td>\n",
              "    </tr>\n",
              "    <tr>\n",
              "      <th>251</th>\n",
              "      <td>-0.038086</td>\n",
              "      <td>-0.0210</td>\n",
              "      <td>0.0441</td>\n",
              "      <td>0.0416</td>\n",
              "    </tr>\n",
              "    <tr>\n",
              "      <th>252</th>\n",
              "      <td>0.058361</td>\n",
              "      <td>0.1247</td>\n",
              "      <td>0.0565</td>\n",
              "      <td>0.0213</td>\n",
              "    </tr>\n",
              "    <tr>\n",
              "      <th>253</th>\n",
              "      <td>0.038264</td>\n",
              "      <td>0.0463</td>\n",
              "      <td>0.0482</td>\n",
              "      <td>-0.0143</td>\n",
              "    </tr>\n",
              "    <tr>\n",
              "      <th>254</th>\n",
              "      <td>0.041997</td>\n",
              "      <td>-0.0003</td>\n",
              "      <td>0.0712</td>\n",
              "      <td>0.0299</td>\n",
              "    </tr>\n",
              "    <tr>\n",
              "      <th>255</th>\n",
              "      <td>0.004100</td>\n",
              "      <td>0.0278</td>\n",
              "      <td>0.0203</td>\n",
              "      <td>0.0718</td>\n",
              "    </tr>\n",
              "    <tr>\n",
              "      <th>256</th>\n",
              "      <td>0.014483</td>\n",
              "      <td>0.0308</td>\n",
              "      <td>-0.0241</td>\n",
              "      <td>0.0741</td>\n",
              "    </tr>\n",
              "    <tr>\n",
              "      <th>257</th>\n",
              "      <td>0.067286</td>\n",
              "      <td>0.0493</td>\n",
              "      <td>-0.0311</td>\n",
              "      <td>-0.0093</td>\n",
              "    </tr>\n",
              "    <tr>\n",
              "      <th>258</th>\n",
              "      <td>-0.007662</td>\n",
              "      <td>0.0029</td>\n",
              "      <td>-0.0028</td>\n",
              "      <td>0.0704</td>\n",
              "    </tr>\n",
              "    <tr>\n",
              "      <th>259</th>\n",
              "      <td>0.081570</td>\n",
              "      <td>0.0275</td>\n",
              "      <td>0.0180</td>\n",
              "      <td>-0.0776</td>\n",
              "    </tr>\n",
              "    <tr>\n",
              "      <th>260</th>\n",
              "      <td>0.050424</td>\n",
              "      <td>0.0127</td>\n",
              "      <td>-0.0396</td>\n",
              "      <td>-0.0175</td>\n",
              "    </tr>\n",
              "    <tr>\n",
              "      <th>261</th>\n",
              "      <td>0.059781</td>\n",
              "      <td>0.0290</td>\n",
              "      <td>-0.0048</td>\n",
              "      <td>-0.0013</td>\n",
              "    </tr>\n",
              "    <tr>\n",
              "      <th>262</th>\n",
              "      <td>-0.068406</td>\n",
              "      <td>-0.0437</td>\n",
              "      <td>0.0080</td>\n",
              "      <td>0.0509</td>\n",
              "    </tr>\n",
              "  </tbody>\n",
              "</table>\n",
              "</div>"
            ],
            "text/plain": [
              "        const   MktRF     SMB     HML\n",
              "227 -0.068387 -0.0768 -0.0482  0.0343\n",
              "228  0.041860  0.0169 -0.0068  0.0026\n",
              "229 -0.087791 -0.0955 -0.0242 -0.0190\n",
              "230  0.027769  0.0841  0.0290 -0.0044\n",
              "231  0.074534  0.0340  0.0204 -0.0268\n",
              "232  0.051409  0.0110 -0.0298 -0.0405\n",
              "233  0.101963  0.0396 -0.0174  0.0217\n",
              "234 -0.050798 -0.0694 -0.0134 -0.0237\n",
              "235  0.079844  0.0693  0.0025 -0.0071\n",
              "236  0.017097  0.0119 -0.0194  0.0042\n",
              "237  0.015028 -0.0258 -0.0232 -0.0495\n",
              "238  0.008451  0.0143 -0.0097  0.0683\n",
              "239  0.030739  0.0206  0.0028 -0.0193\n",
              "240  0.057767  0.0387  0.0080 -0.0202\n",
              "241  0.040901  0.0277  0.0072  0.0179\n",
              "242  0.076456 -0.0011 -0.0313 -0.0624\n",
              "243 -0.046773 -0.0813  0.0103 -0.0379\n",
              "244 -0.026900 -0.1338 -0.0489 -0.1402\n",
              "245  0.127800  0.1365  0.0247 -0.0118\n",
              "246  0.025036  0.0558  0.0245 -0.0480\n",
              "247  0.104864  0.0246  0.0269 -0.0204\n",
              "248  0.007344  0.0577 -0.0228 -0.0153\n",
              "249  0.097824  0.0763 -0.0026 -0.0292\n",
              "250 -0.069775 -0.0363  0.0002 -0.0262\n",
              "251 -0.038086 -0.0210  0.0441  0.0416\n",
              "252  0.058361  0.1247  0.0565  0.0213\n",
              "253  0.038264  0.0463  0.0482 -0.0143\n",
              "254  0.041997 -0.0003  0.0712  0.0299\n",
              "255  0.004100  0.0278  0.0203  0.0718\n",
              "256  0.014483  0.0308 -0.0241  0.0741\n",
              "257  0.067286  0.0493 -0.0311 -0.0093\n",
              "258 -0.007662  0.0029 -0.0028  0.0704\n",
              "259  0.081570  0.0275  0.0180 -0.0776\n",
              "260  0.050424  0.0127 -0.0396 -0.0175\n",
              "261  0.059781  0.0290 -0.0048 -0.0013\n",
              "262 -0.068406 -0.0437  0.0080  0.0509"
            ]
          },
          "metadata": {},
          "execution_count": 142
        }
      ]
    },
    {
      "cell_type": "code",
      "metadata": {
        "id": "FPixzjHsTexZ"
      },
      "source": [
        "df.to_csv('HW.csv',index=True)"
      ],
      "execution_count": null,
      "outputs": []
    },
    {
      "cell_type": "code",
      "metadata": {
        "id": "s0IhD_0H5q_U",
        "colab": {
          "base_uri": "https://localhost:8080/",
          "height": 241
        },
        "outputId": "19d2633c-5c95-4194-e97a-214e69b05033"
      },
      "source": [
        "mergedDf2_MSFT.head()"
      ],
      "execution_count": null,
      "outputs": [
        {
          "output_type": "execute_result",
          "data": {
            "text/html": [
              "<div>\n",
              "<style scoped>\n",
              "    .dataframe tbody tr th:only-of-type {\n",
              "        vertical-align: middle;\n",
              "    }\n",
              "\n",
              "    .dataframe tbody tr th {\n",
              "        vertical-align: top;\n",
              "    }\n",
              "\n",
              "    .dataframe thead th {\n",
              "        text-align: right;\n",
              "    }\n",
              "</style>\n",
              "<table border=\"1\" class=\"dataframe\">\n",
              "  <thead>\n",
              "    <tr style=\"text-align: right;\">\n",
              "      <th></th>\n",
              "      <th>YearMonth</th>\n",
              "      <th>lnReturns</th>\n",
              "      <th>ticker</th>\n",
              "      <th>Unnamed: 0</th>\n",
              "      <th>Mkt-RF</th>\n",
              "      <th>SMB</th>\n",
              "      <th>HML</th>\n",
              "      <th>RF</th>\n",
              "      <th>MktRF</th>\n",
              "      <th>YearMonthNumeric</th>\n",
              "      <th>lnReturnsRF</th>\n",
              "      <th>RtRF</th>\n",
              "    </tr>\n",
              "  </thead>\n",
              "  <tbody>\n",
              "    <tr>\n",
              "      <th>0</th>\n",
              "      <td>199911</td>\n",
              "      <td>-0.014393</td>\n",
              "      <td>MSFT</td>\n",
              "      <td>199911</td>\n",
              "      <td>3.37</td>\n",
              "      <td>0.0722</td>\n",
              "      <td>-0.0616</td>\n",
              "      <td>0.0036</td>\n",
              "      <td>0.0337</td>\n",
              "      <td>199911</td>\n",
              "      <td>-0.017993</td>\n",
              "      <td>-0.017890</td>\n",
              "    </tr>\n",
              "    <tr>\n",
              "      <th>1</th>\n",
              "      <td>199912</td>\n",
              "      <td>0.248626</td>\n",
              "      <td>MSFT</td>\n",
              "      <td>199912</td>\n",
              "      <td>7.72</td>\n",
              "      <td>0.0699</td>\n",
              "      <td>-0.0832</td>\n",
              "      <td>0.0044</td>\n",
              "      <td>0.0772</td>\n",
              "      <td>199912</td>\n",
              "      <td>0.244226</td>\n",
              "      <td>0.277862</td>\n",
              "    </tr>\n",
              "    <tr>\n",
              "      <th>2</th>\n",
              "      <td>200001</td>\n",
              "      <td>-0.176395</td>\n",
              "      <td>MSFT</td>\n",
              "      <td>200001</td>\n",
              "      <td>-4.74</td>\n",
              "      <td>0.0579</td>\n",
              "      <td>-0.0189</td>\n",
              "      <td>0.0041</td>\n",
              "      <td>-0.0474</td>\n",
              "      <td>200001</td>\n",
              "      <td>-0.180495</td>\n",
              "      <td>-0.165813</td>\n",
              "    </tr>\n",
              "    <tr>\n",
              "      <th>3</th>\n",
              "      <td>200002</td>\n",
              "      <td>-0.090855</td>\n",
              "      <td>MSFT</td>\n",
              "      <td>200002</td>\n",
              "      <td>2.45</td>\n",
              "      <td>0.2148</td>\n",
              "      <td>-0.0981</td>\n",
              "      <td>0.0043</td>\n",
              "      <td>0.0245</td>\n",
              "      <td>200002</td>\n",
              "      <td>-0.095155</td>\n",
              "      <td>-0.091150</td>\n",
              "    </tr>\n",
              "    <tr>\n",
              "      <th>4</th>\n",
              "      <td>200003</td>\n",
              "      <td>0.173010</td>\n",
              "      <td>MSFT</td>\n",
              "      <td>200003</td>\n",
              "      <td>5.20</td>\n",
              "      <td>-0.1729</td>\n",
              "      <td>0.0823</td>\n",
              "      <td>0.0047</td>\n",
              "      <td>0.0520</td>\n",
              "      <td>200003</td>\n",
              "      <td>0.168310</td>\n",
              "      <td>0.184178</td>\n",
              "    </tr>\n",
              "  </tbody>\n",
              "</table>\n",
              "</div>"
            ],
            "text/plain": [
              "  YearMonth  lnReturns ticker  ... YearMonthNumeric lnReturnsRF      RtRF\n",
              "0    199911  -0.014393   MSFT  ...           199911   -0.017993 -0.017890\n",
              "1    199912   0.248626   MSFT  ...           199912    0.244226  0.277862\n",
              "2    200001  -0.176395   MSFT  ...           200001   -0.180495 -0.165813\n",
              "3    200002  -0.090855   MSFT  ...           200002   -0.095155 -0.091150\n",
              "4    200003   0.173010   MSFT  ...           200003    0.168310  0.184178\n",
              "\n",
              "[5 rows x 12 columns]"
            ]
          },
          "metadata": {},
          "execution_count": 44
        }
      ]
    },
    {
      "cell_type": "code",
      "metadata": {
        "id": "ctYRwkh5QKpM",
        "colab": {
          "base_uri": "https://localhost:8080/"
        },
        "outputId": "56378016-1e5a-4392-bef0-1cb58b889749"
      },
      "source": [
        "X = pd.DataFrame(mergedDf2_MSFT_2021[['MktRF']])\n",
        "#Y = pd.DataFrame(mergedDf2['lnReturnsRF'])\n",
        "Y = pd.DataFrame(mergedDf2_MSFT_2021['RtRF'])\n",
        "model = LinearRegression()\n",
        "model.fit(X, Y)\n",
        "\n",
        "print('Intercept: \\n', model.intercept_)\n",
        "print('Coefficients: \\n', model.coef_)\n",
        "\n"
      ],
      "execution_count": null,
      "outputs": [
        {
          "output_type": "stream",
          "name": "stdout",
          "text": [
            "Intercept: \n",
            " [0.01696979]\n",
            "Coefficients: \n",
            " [[0.74761842]]\n"
          ]
        }
      ]
    },
    {
      "cell_type": "code",
      "metadata": {
        "id": "tS0NGPL3SX77",
        "colab": {
          "base_uri": "https://localhost:8080/"
        },
        "outputId": "b173d5b1-5432-417b-bb04-8f6a80850468"
      },
      "source": [
        "rSquared = model.score(X, Y)\n",
        "print(\"R-squared: \", rSquared)"
      ],
      "execution_count": null,
      "outputs": [
        {
          "output_type": "stream",
          "name": "stdout",
          "text": [
            "R-squared:  0.5844619458931127\n"
          ]
        }
      ]
    },
    {
      "cell_type": "code",
      "metadata": {
        "id": "WVyw0s6YSrHj"
      },
      "source": [
        ""
      ],
      "execution_count": null,
      "outputs": []
    },
    {
      "cell_type": "code",
      "metadata": {
        "id": "6EQO7jVACWoS",
        "colab": {
          "base_uri": "https://localhost:8080/"
        },
        "outputId": "4f2bbb7c-3a2e-41ae-b86c-6002e703fc6a"
      },
      "source": [
        "X = pd.DataFrame(mergedDf2_MSFT_2021[['MktRF','SMB', 'HML']])\n",
        "#Y = pd.DataFrame(mergedDf2['lnReturnsRF'])\n",
        "Y = pd.DataFrame(mergedDf2_MSFT_2021['RtRF'])\n",
        "model = LinearRegression()\n",
        "model.fit(X, Y)\n",
        "\n",
        "print('Intercept: \\n', model.intercept_)\n",
        "print('Coefficients: \\n', model.coef_)\n",
        "\n"
      ],
      "execution_count": null,
      "outputs": [
        {
          "output_type": "stream",
          "name": "stdout",
          "text": [
            "Intercept: \n",
            " [0.01326002]\n",
            "Coefficients: \n",
            " [[ 0.85418818 -0.17508308 -0.40319246]]\n"
          ]
        }
      ]
    },
    {
      "cell_type": "code",
      "metadata": {
        "id": "I3AqEyTnCWXs",
        "colab": {
          "base_uri": "https://localhost:8080/"
        },
        "outputId": "929ccbbb-b170-45ad-fe19-4784bbc42319"
      },
      "source": [
        "rSquared = model.score(X, Y)\n",
        "print(\"R-squared: \", rSquared)"
      ],
      "execution_count": null,
      "outputs": [
        {
          "output_type": "stream",
          "name": "stdout",
          "text": [
            "R-squared:  0.6965325561199689\n"
          ]
        }
      ]
    },
    {
      "cell_type": "markdown",
      "metadata": {
        "id": "p9HM6Wxs6MuO"
      },
      "source": [
        "5-3. Using statmodels"
      ]
    },
    {
      "cell_type": "code",
      "metadata": {
        "id": "19dufHVD62n3",
        "colab": {
          "base_uri": "https://localhost:8080/"
        },
        "outputId": "e8d35b3d-421d-4e44-dea7-eea5e930aa0b"
      },
      "source": [
        "\n",
        "from statsmodels.formula.api import ols"
      ],
      "execution_count": null,
      "outputs": [
        {
          "output_type": "stream",
          "name": "stderr",
          "text": [
            "/usr/local/lib/python3.7/dist-packages/statsmodels/tools/_testing.py:19: FutureWarning: pandas.util.testing is deprecated. Use the functions in the public API at pandas.testing instead.\n",
            "  import pandas.util.testing as tm\n"
          ]
        }
      ]
    },
    {
      "cell_type": "code",
      "metadata": {
        "id": "JF_yz-IRscz_",
        "colab": {
          "base_uri": "https://localhost:8080/"
        },
        "outputId": "c0830a12-0636-4c6a-ac9c-0af14326b442"
      },
      "source": [
        "\n",
        "testDF = mergedDf2_MSFT_2021 \n",
        "\n",
        "tickerList = list(dict.fromkeys(testDF['ticker']))\n",
        "for i, ticker in enumerate(tickerList):\n",
        "  if 1:\n",
        "    print(ticker)\n",
        "    data = testDF.groupby(['ticker']).get_group(ticker)    \n",
        "    model = ols('RtRF ~ MktRF', data)\n",
        "    results = model.fit()\n",
        "    print(results.summary())\n",
        "    \n",
        "    \n",
        "    "
      ],
      "execution_count": null,
      "outputs": [
        {
          "output_type": "stream",
          "name": "stdout",
          "text": [
            "MSFT\n",
            "                            OLS Regression Results                            \n",
            "==============================================================================\n",
            "Dep. Variable:                   RtRF   R-squared:                       0.584\n",
            "Model:                            OLS   Adj. R-squared:                  0.572\n",
            "Method:                 Least Squares   F-statistic:                     47.82\n",
            "Date:                Tue, 02 Nov 2021   Prob (F-statistic):           5.73e-08\n",
            "Time:                        10:00:09   Log-Likelihood:                 68.916\n",
            "No. Observations:                  36   AIC:                            -133.8\n",
            "Df Residuals:                      34   BIC:                            -130.7\n",
            "Df Model:                           1                                         \n",
            "Covariance Type:            nonrobust                                         \n",
            "==============================================================================\n",
            "                 coef    std err          t      P>|t|      [0.025      0.975]\n",
            "------------------------------------------------------------------------------\n",
            "Intercept      0.0170      0.006      2.698      0.011       0.004       0.030\n",
            "MktRF          0.7476      0.108      6.915      0.000       0.528       0.967\n",
            "==============================================================================\n",
            "Omnibus:                        2.141   Durbin-Watson:                   2.218\n",
            "Prob(Omnibus):                  0.343   Jarque-Bera (JB):                1.344\n",
            "Skew:                           0.182   Prob(JB):                        0.511\n",
            "Kurtosis:                       2.126   Cond. No.                         17.7\n",
            "==============================================================================\n",
            "\n",
            "Warnings:\n",
            "[1] Standard Errors assume that the covariance matrix of the errors is correctly specified.\n"
          ]
        }
      ]
    },
    {
      "cell_type": "code",
      "metadata": {
        "id": "A9i8yrcvv4r9",
        "colab": {
          "base_uri": "https://localhost:8080/"
        },
        "outputId": "482ab3c7-9b63-4751-d30f-7a7f108f8553"
      },
      "source": [
        "\n",
        "testDF = mergedDf2_MSFT_2021 \n",
        "\n",
        "\n",
        "tickerList = list(dict.fromkeys(testDF['ticker']))\n",
        "for i, ticker in enumerate(tickerList):\n",
        "  if 1:\n",
        "    print(ticker)\n",
        "    data = testDF.groupby(['ticker']).get_group(ticker)    \n",
        "    model = ols('RtRF ~ MktRF + SMB + HML', data)\n",
        "    results = model.fit()\n",
        "    print(results.summary())\n",
        "    \n",
        "    \n",
        "    "
      ],
      "execution_count": null,
      "outputs": [
        {
          "output_type": "stream",
          "name": "stdout",
          "text": [
            "MSFT\n",
            "                            OLS Regression Results                            \n",
            "==============================================================================\n",
            "Dep. Variable:                   RtRF   R-squared:                       0.697\n",
            "Model:                            OLS   Adj. R-squared:                  0.668\n",
            "Method:                 Least Squares   F-statistic:                     24.48\n",
            "Date:                Tue, 02 Nov 2021   Prob (F-statistic):           2.02e-08\n",
            "Time:                        10:00:09   Log-Likelihood:                 74.573\n",
            "No. Observations:                  36   AIC:                            -141.1\n",
            "Df Residuals:                      32   BIC:                            -134.8\n",
            "Df Model:                           3                                         \n",
            "Covariance Type:            nonrobust                                         \n",
            "==============================================================================\n",
            "                 coef    std err          t      P>|t|      [0.025      0.975]\n",
            "------------------------------------------------------------------------------\n",
            "Intercept      0.0133      0.006      2.349      0.025       0.002       0.025\n",
            "MktRF          0.8542      0.107      7.996      0.000       0.637       1.072\n",
            "SMB           -0.1751      0.213     -0.821      0.418      -0.610       0.259\n",
            "HML           -0.4032      0.127     -3.168      0.003      -0.662      -0.144\n",
            "==============================================================================\n",
            "Omnibus:                        1.124   Durbin-Watson:                   2.589\n",
            "Prob(Omnibus):                  0.570   Jarque-Bera (JB):                0.319\n",
            "Skew:                          -0.021   Prob(JB):                        0.853\n",
            "Kurtosis:                       3.459   Cond. No.                         40.8\n",
            "==============================================================================\n",
            "\n",
            "Warnings:\n",
            "[1] Standard Errors assume that the covariance matrix of the errors is correctly specified.\n"
          ]
        }
      ]
    },
    {
      "cell_type": "code",
      "metadata": {
        "id": "PXI28N-f7Zha",
        "colab": {
          "base_uri": "https://localhost:8080/"
        },
        "outputId": "0d5ffe20-76af-4c09-ed94-a66b5280f9c5"
      },
      "source": [
        "dir(results)"
      ],
      "execution_count": null,
      "outputs": [
        {
          "output_type": "execute_result",
          "data": {
            "text/plain": [
              "['HC0_se',\n",
              " 'HC1_se',\n",
              " 'HC2_se',\n",
              " 'HC3_se',\n",
              " '_HCCM',\n",
              " '__class__',\n",
              " '__delattr__',\n",
              " '__dict__',\n",
              " '__dir__',\n",
              " '__doc__',\n",
              " '__eq__',\n",
              " '__format__',\n",
              " '__ge__',\n",
              " '__getattribute__',\n",
              " '__gt__',\n",
              " '__hash__',\n",
              " '__init__',\n",
              " '__init_subclass__',\n",
              " '__le__',\n",
              " '__lt__',\n",
              " '__module__',\n",
              " '__ne__',\n",
              " '__new__',\n",
              " '__reduce__',\n",
              " '__reduce_ex__',\n",
              " '__repr__',\n",
              " '__setattr__',\n",
              " '__sizeof__',\n",
              " '__str__',\n",
              " '__subclasshook__',\n",
              " '__weakref__',\n",
              " '_cache',\n",
              " '_data_attr',\n",
              " '_get_robustcov_results',\n",
              " '_is_nested',\n",
              " '_wexog_singular_values',\n",
              " 'aic',\n",
              " 'bic',\n",
              " 'bse',\n",
              " 'centered_tss',\n",
              " 'compare_f_test',\n",
              " 'compare_lm_test',\n",
              " 'compare_lr_test',\n",
              " 'condition_number',\n",
              " 'conf_int',\n",
              " 'conf_int_el',\n",
              " 'cov_HC0',\n",
              " 'cov_HC1',\n",
              " 'cov_HC2',\n",
              " 'cov_HC3',\n",
              " 'cov_kwds',\n",
              " 'cov_params',\n",
              " 'cov_type',\n",
              " 'df_model',\n",
              " 'df_resid',\n",
              " 'diagn',\n",
              " 'eigenvals',\n",
              " 'el_test',\n",
              " 'ess',\n",
              " 'f_pvalue',\n",
              " 'f_test',\n",
              " 'fittedvalues',\n",
              " 'fvalue',\n",
              " 'get_influence',\n",
              " 'get_prediction',\n",
              " 'get_robustcov_results',\n",
              " 'initialize',\n",
              " 'k_constant',\n",
              " 'llf',\n",
              " 'load',\n",
              " 'model',\n",
              " 'mse_model',\n",
              " 'mse_resid',\n",
              " 'mse_total',\n",
              " 'nobs',\n",
              " 'normalized_cov_params',\n",
              " 'outlier_test',\n",
              " 'params',\n",
              " 'predict',\n",
              " 'pvalues',\n",
              " 'remove_data',\n",
              " 'resid',\n",
              " 'resid_pearson',\n",
              " 'rsquared',\n",
              " 'rsquared_adj',\n",
              " 'save',\n",
              " 'scale',\n",
              " 'ssr',\n",
              " 'summary',\n",
              " 'summary2',\n",
              " 't_test',\n",
              " 't_test_pairwise',\n",
              " 'tvalues',\n",
              " 'uncentered_tss',\n",
              " 'use_t',\n",
              " 'wald_test',\n",
              " 'wald_test_terms',\n",
              " 'wresid']"
            ]
          },
          "metadata": {},
          "execution_count": 52
        }
      ]
    },
    {
      "cell_type": "code",
      "metadata": {
        "id": "oJRnmXAB7OSv",
        "colab": {
          "base_uri": "https://localhost:8080/"
        },
        "outputId": "b0369f99-9048-4979-cb95-749a6a641308"
      },
      "source": [
        "\n",
        "results.params"
      ],
      "execution_count": null,
      "outputs": [
        {
          "output_type": "execute_result",
          "data": {
            "text/plain": [
              "Intercept    0.013260\n",
              "MktRF        0.854188\n",
              "SMB         -0.175083\n",
              "HML         -0.403192\n",
              "dtype: float64"
            ]
          },
          "metadata": {},
          "execution_count": 53
        }
      ]
    }
  ]
}