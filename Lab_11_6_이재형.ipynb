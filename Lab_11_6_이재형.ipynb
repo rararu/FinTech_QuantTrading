{
  "nbformat": 4,
  "nbformat_minor": 0,
  "metadata": {
    "colab": {
      "name": "Lab_11_6_이재형.ipynb",
      "provenance": []
    },
    "kernelspec": {
      "name": "python3",
      "display_name": "Python 3"
    },
    "language_info": {
      "name": "python"
    }
  },
  "cells": [
    {
      "cell_type": "code",
      "metadata": {
        "id": "jQJ0_qpIAMWv"
      },
      "source": [
        "import torch\n",
        "import numpy as np\n",
        "from torch.nn.utils.rnn import pad_sequence, pack_sequence, pack_padded_sequence, pad_packed_sequence"
      ],
      "execution_count": 1,
      "outputs": []
    },
    {
      "cell_type": "code",
      "metadata": {
        "colab": {
          "base_uri": "https://localhost:8080/"
        },
        "id": "pDXoRQoVAOTK",
        "outputId": "d416dc60-c7d3-49b3-da68-f4119deb8990"
      },
      "source": [
        "data = ['hello world',\n",
        "        'midnight',\n",
        "        'calculation',\n",
        "        'path',\n",
        "        'short circuit']\n",
        "\n",
        "char_set = ['<pad>'] + list(set(char for seq in data for char in seq)) \n",
        "char2idx = {char: idx for idx, char in enumerate(char_set)} \n",
        "print('char_set:', char_set)\n",
        "print('char_set length:', len(char_set))"
      ],
      "execution_count": 2,
      "outputs": [
        {
          "output_type": "stream",
          "name": "stdout",
          "text": [
            "char_set: ['<pad>', 'a', 'w', 't', 'r', 'h', 'u', 'e', 'd', 'g', 'i', 'n', 's', 'm', 'p', 'l', 'c', 'o', ' ']\n",
            "char_set length: 19\n"
          ]
        }
      ]
    },
    {
      "cell_type": "code",
      "metadata": {
        "colab": {
          "base_uri": "https://localhost:8080/"
        },
        "id": "rv9bMJEnAUSb",
        "outputId": "0668207a-d5a4-4381-e1a5-8dae7ed8dafd"
      },
      "source": [
        "X = [torch.LongTensor([char2idx[char] for char in seq]) for seq in data]\n",
        "\n",
        "for sequence in X:\n",
        "    print(sequence)"
      ],
      "execution_count": 3,
      "outputs": [
        {
          "output_type": "stream",
          "name": "stdout",
          "text": [
            "tensor([ 5,  7, 15, 15, 17, 18,  2, 17,  4, 15,  8])\n",
            "tensor([13, 10,  8, 11, 10,  9,  5,  3])\n",
            "tensor([16,  1, 15, 16,  6, 15,  1,  3, 10, 17, 11])\n",
            "tensor([14,  1,  3,  5])\n",
            "tensor([12,  5, 17,  4,  3, 18, 16, 10,  4, 16,  6, 10,  3])\n"
          ]
        }
      ]
    },
    {
      "cell_type": "code",
      "metadata": {
        "colab": {
          "base_uri": "https://localhost:8080/"
        },
        "id": "p8-iz2jXAVsb",
        "outputId": "f10ba513-c81d-4b5d-b3dc-c02b9f9dca08"
      },
      "source": [
        "lengths = [len(seq) for seq in X]\n",
        "print('lengths:', lengths)"
      ],
      "execution_count": 4,
      "outputs": [
        {
          "output_type": "stream",
          "name": "stdout",
          "text": [
            "lengths: [11, 8, 11, 4, 13]\n"
          ]
        }
      ]
    },
    {
      "cell_type": "code",
      "metadata": {
        "colab": {
          "base_uri": "https://localhost:8080/"
        },
        "id": "KT2REB8lAW_s",
        "outputId": "73d7db30-3b03-447e-f823-b62fdbf17d37"
      },
      "source": [
        "padded_sequence = pad_sequence(X, batch_first=True) \n",
        "print(padded_sequence)\n",
        "print(padded_sequence.shape)"
      ],
      "execution_count": 5,
      "outputs": [
        {
          "output_type": "stream",
          "name": "stdout",
          "text": [
            "tensor([[ 5,  7, 15, 15, 17, 18,  2, 17,  4, 15,  8,  0,  0],\n",
            "        [13, 10,  8, 11, 10,  9,  5,  3,  0,  0,  0,  0,  0],\n",
            "        [16,  1, 15, 16,  6, 15,  1,  3, 10, 17, 11,  0,  0],\n",
            "        [14,  1,  3,  5,  0,  0,  0,  0,  0,  0,  0,  0,  0],\n",
            "        [12,  5, 17,  4,  3, 18, 16, 10,  4, 16,  6, 10,  3]])\n",
            "torch.Size([5, 13])\n"
          ]
        }
      ]
    },
    {
      "cell_type": "code",
      "metadata": {
        "colab": {
          "base_uri": "https://localhost:8080/"
        },
        "id": "Hqbq6eciAaaO",
        "outputId": "eb47e964-defd-48a8-d107-b001ff4574dd"
      },
      "source": [
        "sorted_idx = sorted(range(len(lengths)), key=lengths.__getitem__, reverse=True)\n",
        "sorted_X = [X[idx] for idx in sorted_idx]\n",
        "\n",
        "for sequence in sorted_X:\n",
        "    print(sequence)"
      ],
      "execution_count": 6,
      "outputs": [
        {
          "output_type": "stream",
          "name": "stdout",
          "text": [
            "tensor([12,  5, 17,  4,  3, 18, 16, 10,  4, 16,  6, 10,  3])\n",
            "tensor([ 5,  7, 15, 15, 17, 18,  2, 17,  4, 15,  8])\n",
            "tensor([16,  1, 15, 16,  6, 15,  1,  3, 10, 17, 11])\n",
            "tensor([13, 10,  8, 11, 10,  9,  5,  3])\n",
            "tensor([14,  1,  3,  5])\n"
          ]
        }
      ]
    },
    {
      "cell_type": "code",
      "metadata": {
        "colab": {
          "base_uri": "https://localhost:8080/"
        },
        "id": "A87t74J2Aco6",
        "outputId": "042b5caa-e66f-4ef5-efa5-1ee26bebb1b7"
      },
      "source": [
        "packed_sequence = pack_sequence(sorted_X)\n",
        "print(packed_sequence)"
      ],
      "execution_count": 7,
      "outputs": [
        {
          "output_type": "stream",
          "name": "stdout",
          "text": [
            "PackedSequence(data=tensor([12,  5, 16, 13, 14,  5,  7,  1, 10,  1, 17, 15, 15,  8,  3,  4, 15, 16,\n",
            "        11,  5,  3, 17,  6, 10, 18, 18, 15,  9, 16,  2,  1,  5, 10, 17,  3,  3,\n",
            "         4,  4, 10, 16, 15, 17,  6,  8, 11, 10,  3]), batch_sizes=tensor([5, 5, 5, 5, 4, 4, 4, 4, 3, 3, 3, 1, 1]), sorted_indices=None, unsorted_indices=None)\n"
          ]
        }
      ]
    },
    {
      "cell_type": "code",
      "metadata": {
        "colab": {
          "base_uri": "https://localhost:8080/"
        },
        "id": "ghTPgzeJAd5Y",
        "outputId": "7746770a-6f3b-411a-b432-511034b0123b"
      },
      "source": [
        "eye = torch.eye(len(char_set)) \n",
        "embedded_tensor = eye[padded_sequence]\n",
        "print(embedded_tensor.shape)"
      ],
      "execution_count": 8,
      "outputs": [
        {
          "output_type": "stream",
          "name": "stdout",
          "text": [
            "torch.Size([5, 13, 19])\n"
          ]
        }
      ]
    },
    {
      "cell_type": "code",
      "metadata": {
        "colab": {
          "base_uri": "https://localhost:8080/"
        },
        "id": "3PBwRLEVAgDH",
        "outputId": "2944f7fa-b1ae-478b-8256-55036c30a313"
      },
      "source": [
        "embedded_packed_seq = pack_sequence([eye[X[idx]] for idx in sorted_idx])\n",
        "print(embedded_packed_seq.data.shape)"
      ],
      "execution_count": 9,
      "outputs": [
        {
          "output_type": "stream",
          "name": "stdout",
          "text": [
            "torch.Size([47, 19])\n"
          ]
        }
      ]
    },
    {
      "cell_type": "code",
      "metadata": {
        "id": "Gg_NvQCJAhr2"
      },
      "source": [
        "rnn = torch.nn.RNN(input_size=len(char_set), hidden_size=30, batch_first=True)\n"
      ],
      "execution_count": 10,
      "outputs": []
    },
    {
      "cell_type": "code",
      "metadata": {
        "colab": {
          "base_uri": "https://localhost:8080/"
        },
        "id": "FIv4QlmHAjCP",
        "outputId": "7f42bd8d-686d-49cf-d128-83c5ed36d3f1"
      },
      "source": [
        "rnn_output, hidden = rnn(embedded_tensor)\n",
        "print(rnn_output.shape)\n",
        "print(hidden.shape)"
      ],
      "execution_count": 11,
      "outputs": [
        {
          "output_type": "stream",
          "name": "stdout",
          "text": [
            "torch.Size([5, 13, 30])\n",
            "torch.Size([1, 5, 30])\n"
          ]
        }
      ]
    },
    {
      "cell_type": "code",
      "metadata": {
        "colab": {
          "base_uri": "https://localhost:8080/"
        },
        "id": "exBZSuccAkHZ",
        "outputId": "8930746b-402b-4fed-b0f3-8d45616bff96"
      },
      "source": [
        "rnn_output, hidden = rnn(embedded_packed_seq)\n",
        "print(rnn_output.data.shape)\n",
        "print(hidden.data.shape)"
      ],
      "execution_count": 12,
      "outputs": [
        {
          "output_type": "stream",
          "name": "stdout",
          "text": [
            "torch.Size([47, 30])\n",
            "torch.Size([1, 5, 30])\n"
          ]
        }
      ]
    },
    {
      "cell_type": "code",
      "metadata": {
        "colab": {
          "base_uri": "https://localhost:8080/"
        },
        "id": "30Z2eNwpAleU",
        "outputId": "f1893336-3ab0-416c-8e5c-4e4a4e594a6a"
      },
      "source": [
        "unpacked_sequence, seq_lengths = pad_packed_sequence(embedded_packed_seq, batch_first=True)\n",
        "print(unpacked_sequence.shape)\n",
        "print(seq_lengths)"
      ],
      "execution_count": 13,
      "outputs": [
        {
          "output_type": "stream",
          "name": "stdout",
          "text": [
            "torch.Size([5, 13, 19])\n",
            "tensor([13, 11, 11,  8,  4])\n"
          ]
        }
      ]
    },
    {
      "cell_type": "code",
      "metadata": {
        "colab": {
          "base_uri": "https://localhost:8080/"
        },
        "id": "MLr1DD8JAnk3",
        "outputId": "65d906cc-cf28-4077-bb5a-817233a007c4"
      },
      "source": [
        "embedded_padded_sequence = eye[pad_sequence(sorted_X, batch_first=True)]\n",
        "print(embedded_padded_sequence.shape)"
      ],
      "execution_count": 14,
      "outputs": [
        {
          "output_type": "stream",
          "name": "stdout",
          "text": [
            "torch.Size([5, 13, 19])\n"
          ]
        }
      ]
    },
    {
      "cell_type": "code",
      "metadata": {
        "colab": {
          "base_uri": "https://localhost:8080/"
        },
        "id": "leQxYKQqApBT",
        "outputId": "d1c50e14-5f5f-4eb7-95b6-28a33de7a837"
      },
      "source": [
        "sorted_lengths = sorted(lengths, reverse=True)\n",
        "new_packed_sequence = pack_padded_sequence(embedded_padded_sequence, sorted_lengths, batch_first=True)\n",
        "print(new_packed_sequence.data.shape)\n",
        "print(new_packed_sequence.batch_sizes)"
      ],
      "execution_count": 15,
      "outputs": [
        {
          "output_type": "stream",
          "name": "stdout",
          "text": [
            "torch.Size([47, 19])\n",
            "tensor([5, 5, 5, 5, 4, 4, 4, 4, 3, 3, 3, 1, 1])\n"
          ]
        }
      ]
    },
    {
      "cell_type": "code",
      "metadata": {
        "id": "R8ELoDItAqAV"
      },
      "source": [
        ""
      ],
      "execution_count": null,
      "outputs": []
    }
  ]
}