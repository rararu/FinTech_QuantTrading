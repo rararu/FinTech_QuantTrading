{
 "cells": [
  {
   "cell_type": "code",
   "execution_count": 1,
   "id": "01dc392f",
   "metadata": {},
   "outputs": [],
   "source": [
    "#pip install py-msci-esg\n",
    "\n",
    "from msci_esg.ratefinder import ESGRateFinder\n",
    "import requests\n",
    "from selenium import webdriver \n",
    "from selenium.webdriver.support.select import By\n",
    "from selenium.webdriver.support.ui import WebDriverWait as wait\n",
    "from selenium.webdriver.support import expected_conditions as EC\n",
    "from selenium.common.exceptions import TimeoutException, NoSuchElementException \n",
    "import warnings \n",
    "from selenium.webdriver.chrome.options import Options\n",
    "warnings.filterwarnings(\"ignore\")\n",
    "\n",
    "options=webdriver.ChromeOptions()\n",
    "options.add_argument('headless')#창 없이 실행\n",
    "options.add_argument('window-size=1920x1080')##창없으나 노트북 모니터 해상도처럼 크롬이 행동\n",
    "options.add_argument('disable-gpu')##GPU 가속 제어\n",
    "#User 탐지 떴을 때\n",
    "# #options.add_argument(\"user-agent=Mozilla/5.0 (Macintosh; Intel Window 64 X 10_12_6) AppleWebKit/537.36 (KHTML, like Gecko) Chrome/61.0.3163.100 Safari/537.36\")\n"
   ]
  },
  {
   "cell_type": "code",
   "execution_count": 2,
   "id": "2581f137",
   "metadata": {},
   "outputs": [],
   "source": [
    "# To get ESG Rating, parse HTML for \n",
    "# https://www.msci.com/our-solutions/esg-investing/esg-ratings/esg-ratings-corporate-search-tool?p_p_id=esgratingsprofile&p_p_lifecycle=20&p_p_state=normal&p_p_mode=view&p_p_resource_id=searchEsgRatingsProfiles&p_p_cacheability=cacheLevelPage&_esgratingsprofile_keywords={SYMBOL}/issuer/{encodedTitle}/{issuerID}\n",
    "\n",
    "class ESGRateFinder:\n",
    "    def __init__(self,debug=False):\n",
    "        self.debug = debug \n",
    "\n",
    "        self.MSCI_GET_STOCK_ID_URL = (\n",
    "            \"https://www.msci.com/our-solutions/esg-investing/\"\n",
    "            \"esg-ratings/esg-ratings-corporate-search-tool?\"\n",
    "            \"p_p_id=esgratingsprofile&p_p_lifecycle=2&\"\n",
    "            \"p_p_state=normal&p_p_mode=view&p_p_resource_id=\"\n",
    "            \"searchEsgRatingsProfiles&p_p_cacheability=cacheLevelPage\"\n",
    "            \"&_esgratingsprofile_keywords={}\" \n",
    "        ) # Format with symbol\n",
    "        self.MSCI_ESG_URL = (\n",
    "            \"https://www.msci.com/our-solutions/esg-investing/\"\n",
    "            \"esg-ratings/esg-ratings-corporate-search-tool/\"\n",
    "            \"issuer/{}/{}\"\n",
    "        )\n",
    "         # Format with encodedTitle, IssuerID (pulled from GET_STOCK_ID_URL json response) \n",
    "    def get_stock_msci_properties(self, symbol=None):\n",
    "        response = None \n",
    "        if symbol: ##symbol 값 대입시 \n",
    "            try:\n",
    "                url = self.MSCI_GET_STOCK_ID_URL.format(symbol)\n",
    "                response = requests.get(url)\n",
    "                if self.debug:\n",
    "                    print(response.content)\n",
    "                    print(\"Getting props as JSON...\")\n",
    "                response = response.json()[0]\n",
    "                if self.debug:\n",
    "                    print(response)\n",
    "                # returns: {encodedTitle, title, url}(url is issuerid)\n",
    "            except Exception as e:\n",
    "                print(e)\n",
    "                response = {\n",
    "                    'error': str(e)\n",
    "                }\n",
    "        return response \n",
    "        \n",
    "    def get_esg_category(self, rating=None): \n",
    "        \"\"\" Get the category of an ESG risk rating \"\"\" \n",
    "        response = None \n",
    "        if rating: \n",
    "            rating_map = {\n",
    "                'ccc': 'laggard',\n",
    "                'b': 'laggard',\n",
    "                'bb': 'average',\n",
    "                'bbb': 'average',\n",
    "                'a': 'average',\n",
    "                'aa': 'leader',\n",
    "                'aaa': 'leader'\n",
    "            }\n",
    "            response = rating_map[rating]\n",
    "        return response \n",
    "\n",
    "    def get_esg_rating(self, symbol=None, js_timeout=1):\n",
    "        \"\"\" Function to get ESG rating information for a given stock\n",
    "        Params: \n",
    "        symbol : string : the symbol for which you want ESG rating information \n",
    "        js_timeout : int : how long should web driver wait for JS to build the page before retrieving content? (seconds)\n",
    "        Returns :\n",
    "        dict : dictionary of ESG rating information pulled from HTML parsing of MSCI corporate search page \n",
    "        \"\"\"\n",
    "        # Initialize Response Dictionary \n",
    "        response = {}\n",
    "        try:\n",
    "            # First get the stock MSCI properties \n",
    "            props = self.get_stock_msci_properties(symbol=symbol) \n",
    "            if self.debug:\n",
    "                print(f'Props are: {props}') \n",
    "            # Build URL with properties and symbol \n",
    "            url = self.MSCI_ESG_URL.format(props['encodedTitle'],props['url'])\n",
    "            if self.debug: \n",
    "                print(f'URL built: {url}')\n",
    "            \n",
    "            \n",
    "            # Build Selenium web driver \n",
    "            #driver = webdriver.PhantomJS(executable_path = \"C:/Users/jaehyoulee/Desktop/phantomjs-2.1.1-windows/phantomjs-2.1.1-windows/bin\")\n",
    "\n",
    "            from webdriver_manager.chrome import ChromeDriverManager\n",
    "            #webdriver_options = webdriver.ChromeOptions()\n",
    "            #webdriver_options .add_argument('headless')##chrome 창 없이 크롤링 하는 옵션 \n",
    "            #driver = webdriver.Chrome(chrome_driver,options=chrome_options)            \n",
    "            #driver = webdriver.Chrome(ChromeDriverManager().install())\n",
    "            driver = webdriver.Chrome(ChromeDriverManager().install(),chrome_options=options)\n",
    "\n",
    "            if self.debug:\n",
    "                print(f\"Built PhantomJS driver {driver}\")\n",
    "            driver.get(url)  \n",
    "            if self.debug:\n",
    "                print(f\"Got URL\") \n",
    "            try:\n",
    "                if self.debug:\n",
    "                    print(f'Waiting for JS to build page to get content...')\n",
    "                data = [div for div in wait(driver, js_timeout).until(\n",
    "                        EC.presence_of_element_located((By.XPATH, '//div[@class=\"esg-rating-paragraph-distr\"]'))\n",
    "                        )]\n",
    "                if self.debug:\n",
    "                    print(f'Got content successfully!')\n",
    "            except TimeoutException: \n",
    "                if self.debug:\n",
    "                    print('Timeout reached for WebDriver Wait')\n",
    "\n",
    "            rating_paragraph = driver.find_element_by_class_name(\n",
    "                name=\"esg-rating-paragraph-distr\"\n",
    "            ).text\n",
    "            if self.debug:\n",
    "                print(f'Rating paragraph: {rating_paragraph}')\n",
    "            response['rating-paragraph'] = rating_paragraph\n",
    "\n",
    "            rating_history_paragraph = driver.find_element_by_class_name(\n",
    "                name=\"esg-rating-paragraph-hist\"\n",
    "            ).text \n",
    "            response['rating-history-paragraph'] = rating_history_paragraph\n",
    "            if self.debug: \n",
    "                print(f'Rating history paragraph: {rating_history_paragraph}')\n",
    "\n",
    "            rating_icon = driver.find_element_by_class_name(\n",
    "                name=\"ratingdata-company-rating\"\n",
    "            )\n",
    "            # get its other class name, that will tell the rating\n",
    "            other_class = rating_icon.get_attribute(\"class\")\n",
    "            # class that tells rating formatted as esg-rating-circle-<RATING>\n",
    "            # Build a map of ratings to categories (laggard is bad, leader is good)\n",
    "            rating_map = {\n",
    "                'ccc': 'laggard',\n",
    "                'b': 'laggard',\n",
    "                'bb': 'average',\n",
    "                'bbb': 'average',\n",
    "                'a': 'average',\n",
    "                'aa': 'leader',\n",
    "                'aaa': 'leader'\n",
    "            }\n",
    "            rating = other_class.split(\"esg-rating-circle-\")[-1].lower()\n",
    "            response['current'] = {}\n",
    "            response['current']['esg_rating'] = rating\n",
    "            response['current']['esg_category'] = rating_map[rating] \n",
    "            if self.debug: \n",
    "                print(f'ESG rating and category for {symbol}: {rating}/{rating_map[rating]}')\n",
    "\n",
    "            # build history \n",
    "            history = {}\n",
    "            # Get the history graph\n",
    "            history_graph = driver.find_element_by_id(\n",
    "                id_=\"_esgratingsprofile_esg-rating-history\"\n",
    "            )\n",
    "            if self.debug:\n",
    "                print(f\"Got history graph HTML element\")\n",
    "            date_labels = history_graph.find_element_by_class_name(\n",
    "                name=\"highcharts-xaxis-labels\"\n",
    "            ).find_elements_by_xpath(\".//*\") # these are the historical rating\n",
    "            # dates formatted as Month-Year\n",
    "            if self.debug:\n",
    "                print(f\"Got date labels for rating history!\")\n",
    "    \n",
    "            # Get the rating history (the rating values for the respective dates)\n",
    "            rating_labels = history_graph.find_element_by_class_name(\n",
    "                name=\"highcharts-data-labels\"\n",
    "            ).find_elements_by_class_name(\"highcharts-label\")  \n",
    "            if self.debug:\n",
    "                print(f\"Got rating labels for rating history\")\n",
    "\n",
    "            for i in range(len(rating_labels)):  \n",
    "                history[date_labels[i].text.lower()] = \\\n",
    "                    rating_labels[i].text.lower()\n",
    "            if self.debug:\n",
    "                print(f\"History: {history}\")\n",
    "\n",
    "            response['history'] = history \n",
    "\n",
    "            if self.debug:\n",
    "                print(f\"Full response: {response}\")\n",
    "        except NoSuchElementException:\n",
    "            print(\n",
    "                f\"MSCI ESG Ratings Corporate Search Tool may not have data for the stock {symbol}. \"\n",
    "                f\" To verify this, open https://www.msci.com/our-solutions/esg-investing/esg-ratings/\"\n",
    "                f\"esg-ratings-corporate-search-tool and search for your stock to see if the resulting \"\n",
    "                f\"page contains data.\"\n",
    "                )\n",
    "        except KeyError:\n",
    "            print(\n",
    "                f\"MSCI ESG Ratings Corporate Search Tool may not have data for the stock {symbol}. \"\n",
    "                f\" To verify this, open https://www.msci.com/our-solutions/esg-investing/esg-ratings/\"\n",
    "                f\"esg-ratings-corporate-search-tool and search for your stock to see if the resulting \"\n",
    "                f\"page contains data.\"\n",
    "            )\n",
    "        return response\n",
    "        \n",
    "        \n",
    "\n",
    "\n"
   ]
  },
  {
   "cell_type": "code",
   "execution_count": 1,
   "id": "8adbba9f",
   "metadata": {},
   "outputs": [],
   "source": [
    "import pandas as pd"
   ]
  },
  {
   "cell_type": "code",
   "execution_count": 2,
   "id": "7b5c0cd0",
   "metadata": {},
   "outputs": [],
   "source": [
    "corp_list=pd.read_csv('C:/Users/jaehyoulee/Desktop/ESG/해외/02. sustainability_scores_ab_일자별_0110.csv')"
   ]
  },
  {
   "cell_type": "code",
   "execution_count": 11,
   "id": "b7d57714",
   "metadata": {},
   "outputs": [
    {
     "data": {
      "text/plain": [
       "52"
      ]
     },
     "execution_count": 11,
     "metadata": {},
     "output_type": "execute_result"
    }
   ],
   "source": [
    "len(corp_list['code'].unique())"
   ]
  },
  {
   "cell_type": "code",
   "execution_count": 14,
   "id": "d97b38a8",
   "metadata": {},
   "outputs": [
    {
     "data": {
      "text/plain": [
       "0       2014-09-01\n",
       "1       2014-10-01\n",
       "2       2014-11-01\n",
       "3       2014-12-01\n",
       "4       2015-01-01\n",
       "           ...    \n",
       "4227    2021-01-01\n",
       "4228    2021-02-01\n",
       "4229    2021-03-01\n",
       "4230    2021-04-01\n",
       "4231    2021-05-01\n",
       "Name: timestamp, Length: 4232, dtype: object"
      ]
     },
     "execution_count": 14,
     "metadata": {},
     "output_type": "execute_result"
    }
   ],
   "source": [
    "corp_list['timestamp']"
   ]
  },
  {
   "cell_type": "code",
   "execution_count": 12,
   "id": "abca1e41",
   "metadata": {},
   "outputs": [
    {
     "data": {
      "text/plain": [
       "0          신한지주\n",
       "1        한국금융지주\n",
       "2        하나금융지주\n",
       "3        KB금융지주\n",
       "4       메리츠금융지주\n",
       "         ...   \n",
       "100    아이비케이캐피탈\n",
       "101       현대캐피탈\n",
       "102     미래에셋캐피탈\n",
       "103       롯데캐피탈\n",
       "104      메리츠캐피탈\n",
       "Name: 기업명, Length: 105, dtype: object"
      ]
     },
     "execution_count": 12,
     "metadata": {},
     "output_type": "execute_result"
    }
   ],
   "source": [
    "check=corp_list['기업명']\n",
    "check"
   ]
  },
  {
   "cell_type": "code",
   "execution_count": 12,
   "id": "3f4a94cc",
   "metadata": {},
   "outputs": [],
   "source": [
    "df=[]"
   ]
  },
  {
   "cell_type": "code",
   "execution_count": 13,
   "id": "3dc82f6e",
   "metadata": {},
   "outputs": [],
   "source": [
    "import time "
   ]
  },
  {
   "cell_type": "code",
   "execution_count": 14,
   "id": "d346f0a3",
   "metadata": {},
   "outputs": [
    {
     "data": {
      "text/plain": [
       "5     KB금융지주\n",
       "6    메리츠금융지주\n",
       "7    BNK금융지주\n",
       "8    DGB금융지주\n",
       "9     JB금융지주\n",
       "Name: 기업명, dtype: object"
      ]
     },
     "execution_count": 14,
     "metadata": {},
     "output_type": "execute_result"
    }
   ],
   "source": [
    "test=check[5:10]\n",
    "test"
   ]
  },
  {
   "cell_type": "code",
   "execution_count": 15,
   "id": "2a93d81a",
   "metadata": {},
   "outputs": [
    {
     "name": "stdout",
     "output_type": "stream",
     "text": [
      "list index out of range\n",
      "MSCI ESG Ratings Corporate Search Tool may not have data for the stock KB금융지주.  To verify this, open https://www.msci.com/our-solutions/esg-investing/esg-ratings/esg-ratings-corporate-search-tool and search for your stock to see if the resulting page contains data.\n",
      "list index out of range\n",
      "MSCI ESG Ratings Corporate Search Tool may not have data for the stock 메리츠금융지주.  To verify this, open https://www.msci.com/our-solutions/esg-investing/esg-ratings/esg-ratings-corporate-search-tool and search for your stock to see if the resulting page contains data.\n",
      "list index out of range\n",
      "MSCI ESG Ratings Corporate Search Tool may not have data for the stock BNK금융지주.  To verify this, open https://www.msci.com/our-solutions/esg-investing/esg-ratings/esg-ratings-corporate-search-tool and search for your stock to see if the resulting page contains data.\n",
      "list index out of range\n",
      "MSCI ESG Ratings Corporate Search Tool may not have data for the stock DGB금융지주.  To verify this, open https://www.msci.com/our-solutions/esg-investing/esg-ratings/esg-ratings-corporate-search-tool and search for your stock to see if the resulting page contains data.\n",
      "list index out of range\n",
      "MSCI ESG Ratings Corporate Search Tool may not have data for the stock JB금융지주.  To verify this, open https://www.msci.com/our-solutions/esg-investing/esg-ratings/esg-ratings-corporate-search-tool and search for your stock to see if the resulting page contains data.\n"
     ]
    }
   ],
   "source": [
    "for item in test:## test -> check로 실제 작업 시 변경 \n",
    "    rate_finder = ESGRateFinder()\n",
    "    rating_info = rate_finder.get_esg_rating(symbol=item)\n",
    "    df.append(rating_info)\n",
    "    time.sleep(15)\n"
   ]
  },
  {
   "cell_type": "code",
   "execution_count": 16,
   "id": "786128b1",
   "metadata": {},
   "outputs": [
    {
     "data": {
      "text/plain": [
       "[{}, {}, {}, {}, {}]"
      ]
     },
     "execution_count": 16,
     "metadata": {},
     "output_type": "execute_result"
    }
   ],
   "source": [
    "df"
   ]
  },
  {
   "cell_type": "code",
   "execution_count": 60,
   "id": "e055440f",
   "metadata": {},
   "outputs": [],
   "source": [
    "df2=pd.DataFrame.from_dict(df)\n"
   ]
  },
  {
   "cell_type": "code",
   "execution_count": 61,
   "id": "dad3d9e3",
   "metadata": {},
   "outputs": [
    {
     "data": {
      "text/html": [
       "<div>\n",
       "<style scoped>\n",
       "    .dataframe tbody tr th:only-of-type {\n",
       "        vertical-align: middle;\n",
       "    }\n",
       "\n",
       "    .dataframe tbody tr th {\n",
       "        vertical-align: top;\n",
       "    }\n",
       "\n",
       "    .dataframe thead th {\n",
       "        text-align: right;\n",
       "    }\n",
       "</style>\n",
       "<table border=\"1\" class=\"dataframe\">\n",
       "  <thead>\n",
       "    <tr style=\"text-align: right;\">\n",
       "      <th></th>\n",
       "      <th>rating-paragraph</th>\n",
       "      <th>rating-history-paragraph</th>\n",
       "      <th>current</th>\n",
       "      <th>history</th>\n",
       "    </tr>\n",
       "  </thead>\n",
       "  <tbody>\n",
       "    <tr>\n",
       "      <th>0</th>\n",
       "      <td>ICBC is average among 189 companies in the ban...</td>\n",
       "      <td>ICBC was upgraded in August, 2021.</td>\n",
       "      <td>{'esg_rating': 'bbb', 'esg_category': 'average'}</td>\n",
       "      <td>{'oct-17': 'bb', 'oct-18': 'bb', 'jul-19': 'bb...</td>\n",
       "    </tr>\n",
       "    <tr>\n",
       "      <th>1</th>\n",
       "      <td>JPM is average among 189 companies in the bank...</td>\n",
       "      <td>JPM was upgraded in October, 2021.</td>\n",
       "      <td>{'esg_rating': 'a', 'esg_category': 'average'}</td>\n",
       "      <td>{'sep-18': 'bb', 'jul-19': 'bb', 'jul-20': 'bb...</td>\n",
       "    </tr>\n",
       "    <tr>\n",
       "      <th>2</th>\n",
       "      <td>Berkshire Hathaway is average among 46 compani...</td>\n",
       "      <td>Berkshire Hathaway's rating remains unchanged ...</td>\n",
       "      <td>{'esg_rating': 'bb', 'esg_category': 'average'}</td>\n",
       "      <td>{'feb-17': 'bb', 'mar-18': 'bb', 'apr-19': 'bb...</td>\n",
       "    </tr>\n",
       "    <tr>\n",
       "      <th>3</th>\n",
       "      <td>CCB is average among 189 companies in the bank...</td>\n",
       "      <td>CCB's rating remains unchanged since December,...</td>\n",
       "      <td>{'esg_rating': 'a', 'esg_category': 'average'}</td>\n",
       "      <td>{'oct-17': 'bb', 'oct-18': 'bb', 'dec-19': 'bb...</td>\n",
       "    </tr>\n",
       "    <tr>\n",
       "      <th>4</th>\n",
       "      <td>Aramco is average among 28 companies in the in...</td>\n",
       "      <td>Aramco's rating remains unchanged since Decemb...</td>\n",
       "      <td>{'esg_rating': 'bb', 'esg_category': 'average'}</td>\n",
       "      <td>{'apr-19': 'bb', 'dec-19': 'bb', 'jul-20': 'bb...</td>\n",
       "    </tr>\n",
       "  </tbody>\n",
       "</table>\n",
       "</div>"
      ],
      "text/plain": [
       "                                    rating-paragraph  \\\n",
       "0  ICBC is average among 189 companies in the ban...   \n",
       "1  JPM is average among 189 companies in the bank...   \n",
       "2  Berkshire Hathaway is average among 46 compani...   \n",
       "3  CCB is average among 189 companies in the bank...   \n",
       "4  Aramco is average among 28 companies in the in...   \n",
       "\n",
       "                            rating-history-paragraph  \\\n",
       "0                 ICBC was upgraded in August, 2021.   \n",
       "1                 JPM was upgraded in October, 2021.   \n",
       "2  Berkshire Hathaway's rating remains unchanged ...   \n",
       "3  CCB's rating remains unchanged since December,...   \n",
       "4  Aramco's rating remains unchanged since Decemb...   \n",
       "\n",
       "                                            current  \\\n",
       "0  {'esg_rating': 'bbb', 'esg_category': 'average'}   \n",
       "1    {'esg_rating': 'a', 'esg_category': 'average'}   \n",
       "2   {'esg_rating': 'bb', 'esg_category': 'average'}   \n",
       "3    {'esg_rating': 'a', 'esg_category': 'average'}   \n",
       "4   {'esg_rating': 'bb', 'esg_category': 'average'}   \n",
       "\n",
       "                                             history  \n",
       "0  {'oct-17': 'bb', 'oct-18': 'bb', 'jul-19': 'bb...  \n",
       "1  {'sep-18': 'bb', 'jul-19': 'bb', 'jul-20': 'bb...  \n",
       "2  {'feb-17': 'bb', 'mar-18': 'bb', 'apr-19': 'bb...  \n",
       "3  {'oct-17': 'bb', 'oct-18': 'bb', 'dec-19': 'bb...  \n",
       "4  {'apr-19': 'bb', 'dec-19': 'bb', 'jul-20': 'bb...  "
      ]
     },
     "execution_count": 61,
     "metadata": {},
     "output_type": "execute_result"
    }
   ],
   "source": [
    "df2"
   ]
  },
  {
   "cell_type": "code",
   "execution_count": 151,
   "id": "5ec8d1cb",
   "metadata": {},
   "outputs": [],
   "source": [
    "df2.to_csv('ESG_test.csv')"
   ]
  },
  {
   "cell_type": "code",
   "execution_count": null,
   "id": "48bb51ec",
   "metadata": {},
   "outputs": [],
   "source": []
  }
 ],
 "metadata": {
  "kernelspec": {
   "display_name": "Python 3",
   "language": "python",
   "name": "python3"
  },
  "language_info": {
   "codemirror_mode": {
    "name": "ipython",
    "version": 3
   },
   "file_extension": ".py",
   "mimetype": "text/x-python",
   "name": "python",
   "nbconvert_exporter": "python",
   "pygments_lexer": "ipython3",
   "version": "3.10.0"
  }
 },
 "nbformat": 4,
 "nbformat_minor": 5
}
