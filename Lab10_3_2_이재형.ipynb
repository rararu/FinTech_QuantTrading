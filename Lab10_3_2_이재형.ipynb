{
 "cells": [
  {
   "cell_type": "code",
   "execution_count": 1,
   "id": "b16f3202",
   "metadata": {},
   "outputs": [],
   "source": [
    "import torch\n",
    "import torch.nn as nn\n",
    "import torchvision.datasets as dsets\n",
    "import torchvision.transforms as transforms\n",
    "\n",
    "import torch.nn.init"
   ]
  },
  {
   "cell_type": "code",
   "execution_count": 3,
   "id": "a771260d",
   "metadata": {
    "scrolled": true
   },
   "outputs": [
    {
     "name": "stderr",
     "output_type": "stream",
     "text": [
      "Setting up a new session...\n"
     ]
    },
    {
     "data": {
      "text/plain": [
       "''"
      ]
     },
     "execution_count": 3,
     "metadata": {},
     "output_type": "execute_result"
    }
   ],
   "source": [
    "import visdom\n",
    "\n",
    "vis = visdom.Visdom()\n",
    "vis.close(env=\"main\")\n"
   ]
  },
  {
   "cell_type": "code",
   "execution_count": 16,
   "id": "2437d3c8",
   "metadata": {},
   "outputs": [],
   "source": [
    "def loss_tracker(loss_plot, loss_value, num):\n",
    "    '''num, loss_value, are Tensor'''\n",
    "    vis.line(X=num,\n",
    "             Y=loss_value,\n",
    "             win = loss_plot,\n",
    "             update='append'\n",
    "             )"
   ]
  },
  {
   "cell_type": "code",
   "execution_count": 5,
   "id": "cd1a85f4",
   "metadata": {},
   "outputs": [],
   "source": [
    "device='cuda' if torch.cuda.is_available() else 'cpu'\n",
    "\n",
    "torch.manual_seed(777)\n",
    "if device=='cuda':\n",
    "  torch.cuda.manual_seed_all(777)"
   ]
  },
  {
   "cell_type": "code",
   "execution_count": 6,
   "id": "d3fca1b9",
   "metadata": {},
   "outputs": [],
   "source": [
    "learning_rate=0.001\n",
    "training_epochs=15\n",
    "batch_size=32\n"
   ]
  },
  {
   "cell_type": "code",
   "execution_count": 7,
   "id": "cdeee386",
   "metadata": {},
   "outputs": [],
   "source": [
    "mnist_train=dsets.MNIST(root='MNIST_data/',\n",
    "                        train=True,\n",
    "                        transform=transforms.ToTensor(),\n",
    "                        download=True)\n",
    "\n",
    "mnist_test=dsets.MNIST(root='MNIST_data/',\n",
    "                       train=False,\n",
    "                       transform=transforms.ToTensor(),\n",
    "                       download=True)"
   ]
  },
  {
   "cell_type": "code",
   "execution_count": 8,
   "id": "297084e6",
   "metadata": {},
   "outputs": [],
   "source": [
    "data_loader=torch.utils.data.DataLoader(dataset=mnist_train,\n",
    "                                        batch_size=batch_size,\n",
    "                                        shuffle=True,\n",
    "                                        drop_last=True)"
   ]
  },
  {
   "cell_type": "code",
   "execution_count": 9,
   "id": "b988b3a1",
   "metadata": {},
   "outputs": [],
   "source": [
    "class CNN(nn.Module):\n",
    "\n",
    "  def __init__(self):\n",
    "    super(CNN,self).__init__()\n",
    "    self.layer1=nn.Sequential(\n",
    "        nn.Conv2d(1,32,kernel_size=3,stride=1,padding=1),\n",
    "        nn.ReLU(),\n",
    "        nn.MaxPool2d(2)\n",
    "    )\n",
    "    self.layer2=nn.Sequential(\n",
    "        nn.Conv2d(32,64,kernel_size=3,stride=1,padding=1),\n",
    "        nn.MaxPool2d(2)\n",
    "    )\n",
    "\n",
    "    self.layer3=nn.Sequential(\n",
    "        nn.Conv2d(64,128,kernel_size=3,stride=1,padding=1),\n",
    "        nn.ReLU(),\n",
    "        nn.MaxPool2d(2)\n",
    "    )\n",
    "    self.fc1=nn.Linear(3*3*128,625)\n",
    "    self.relu=nn.ReLU()\n",
    "    self.fc2=nn.Linear(625,10,bias=True)\n",
    "    torch.nn.init.xavier_uniform_(self.fc1.weight)\n",
    "    torch.nn.init.xavier_uniform_(self.fc2.weight)\n",
    "\n",
    "  def forward(self,x):\n",
    "    out=self.layer1(x)\n",
    "    out=self.layer2(out)\n",
    "    out=self.layer3(out)\n",
    "\n",
    "    out=out.view(out.size(0),-1)\n",
    "    out=self.fc1(out)\n",
    "    out=self.relu(out)\n",
    "    out=self.fc2(out)\n",
    "    return out"
   ]
  },
  {
   "cell_type": "code",
   "execution_count": 10,
   "id": "b0e9ff0f",
   "metadata": {},
   "outputs": [
    {
     "name": "stdout",
     "output_type": "stream",
     "text": [
      "torch.Size([1, 10])\n"
     ]
    }
   ],
   "source": [
    "model=CNN().to(device)\n",
    "\n",
    "value=(torch.Tensor(1,1,28,28)).to(device)\n",
    "\n",
    "print((model(value)).shape)"
   ]
  },
  {
   "cell_type": "code",
   "execution_count": 11,
   "id": "d3cdde87",
   "metadata": {},
   "outputs": [],
   "source": [
    "criterion = nn.CrossEntropyLoss().to(device)\n",
    "optimizer = torch.optim.Adam(model.parameters(), lr = learning_rate)"
   ]
  },
  {
   "cell_type": "code",
   "execution_count": 12,
   "id": "df949fae",
   "metadata": {},
   "outputs": [],
   "source": [
    "loss_plt = vis.line(Y=torch.Tensor(1).zero_(),opts=dict(title='loss_tracker', legend=['loss'], showlegend=True))"
   ]
  },
  {
   "cell_type": "code",
   "execution_count": 17,
   "id": "09b20b2b",
   "metadata": {},
   "outputs": [
    {
     "name": "stdout",
     "output_type": "stream",
     "text": [
      "[Epoch:1] cost = 0.031747061759233475\n",
      "[Epoch:2] cost = 0.025501497089862823\n",
      "[Epoch:3] cost = 0.0202800165861845\n",
      "[Epoch:4] cost = 0.01711435243487358\n",
      "[Epoch:5] cost = 0.014541278593242168\n",
      "[Epoch:6] cost = 0.014471864327788353\n",
      "[Epoch:7] cost = 0.01283595897257328\n",
      "[Epoch:8] cost = 0.009982259944081306\n",
      "[Epoch:9] cost = 0.011268292553722858\n",
      "[Epoch:10] cost = 0.010874152183532715\n",
      "[Epoch:11] cost = 0.008898891508579254\n",
      "[Epoch:12] cost = 0.00923246517777443\n",
      "[Epoch:13] cost = 0.007436058949679136\n",
      "[Epoch:14] cost = 0.009123854339122772\n",
      "[Epoch:15] cost = 0.009643478319048882\n",
      "Learning Finished!\n"
     ]
    }
   ],
   "source": [
    "total_batch = len(data_loader)\n",
    "\n",
    "for epoch in range(training_epochs):\n",
    "    avg_cost = 0\n",
    "    \n",
    "    for X, Y in data_loader:\n",
    "        X = X.to(device)\n",
    "        Y = Y.to(device)\n",
    "        \n",
    "        optimizer.zero_grad()\n",
    "        hypothesis = model(X)\n",
    "        \n",
    "        cost = criterion(hypothesis, Y)\n",
    "        cost.backward()\n",
    "        optimizer.step()\n",
    "        \n",
    "        avg_cost += cost / total_batch\n",
    "    \n",
    "    print('[Epoch:{}] cost = {}'.format(epoch+1, avg_cost))\n",
    "    loss_tracker(loss_plt, torch.Tensor([avg_cost]), torch.Tensor([epoch]))\n",
    "print('Learning Finished!')\n"
   ]
  },
  {
   "cell_type": "code",
   "execution_count": 15,
   "id": "a57b15e4",
   "metadata": {},
   "outputs": [
    {
     "name": "stderr",
     "output_type": "stream",
     "text": [
      "C:\\Users\\user\\anaconda3\\lib\\site-packages\\torchvision\\datasets\\mnist.py:67: UserWarning: test_data has been renamed data\n",
      "  warnings.warn(\"test_data has been renamed data\")\n",
      "C:\\Users\\user\\anaconda3\\lib\\site-packages\\torchvision\\datasets\\mnist.py:57: UserWarning: test_labels has been renamed targets\n",
      "  warnings.warn(\"test_labels has been renamed targets\")\n"
     ]
    },
    {
     "name": "stdout",
     "output_type": "stream",
     "text": [
      "Accuracy: 0.9715999960899353\n"
     ]
    }
   ],
   "source": [
    "with torch.no_grad():\n",
    "    X_test = mnist_test.test_data.view(len(mnist_test), 1, 28, 28).float().to(device)\n",
    "    Y_test = mnist_test.test_labels.to(device)\n",
    "    \n",
    "    prediction = model(X_test)\n",
    "    correct_prediction = torch.argmax(prediction, 1) == Y_test\n",
    "    accuracy = correct_prediction.float().mean() \n",
    "    print('Accuracy:', accuracy.item())"
   ]
  },
  {
   "cell_type": "code",
   "execution_count": null,
   "id": "5dc92be9",
   "metadata": {},
   "outputs": [],
   "source": []
  }
 ],
 "metadata": {
  "kernelspec": {
   "display_name": "Python 3",
   "language": "python",
   "name": "python3"
  },
  "language_info": {
   "codemirror_mode": {
    "name": "ipython",
    "version": 3
   },
   "file_extension": ".py",
   "mimetype": "text/x-python",
   "name": "python",
   "nbconvert_exporter": "python",
   "pygments_lexer": "ipython3",
   "version": "3.8.8"
  }
 },
 "nbformat": 4,
 "nbformat_minor": 5
}
